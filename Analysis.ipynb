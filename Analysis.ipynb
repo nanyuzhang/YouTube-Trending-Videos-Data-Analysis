{
  "cells": [
    {
      "cell_type": "code",
      "execution_count": null,
      "metadata": {
        "id": "exbxOfSpbpvf"
      },
      "outputs": [],
      "source": [
        "import pandas as pd\n",
        "import numpy as np\n",
        "import matplotlib.pyplot as plt\n",
        "import seaborn as sns\n",
        "import json"
      ]
    },
    {
      "cell_type": "markdown",
      "metadata": {
        "id": "Xpt5lyCERKwn"
      },
      "source": [
        "## Load Dataset"
      ]
    },
    {
      "cell_type": "code",
      "execution_count": null,
      "metadata": {
        "colab": {
          "base_uri": "https://localhost:8080/",
          "height": 280
        },
        "id": "4_vjPusVb0vJ",
        "outputId": "5285038f-eca8-466d-e54a-1fc900e36a84"
      },
      "outputs": [
        {
          "data": {
            "text/html": [
              "\n",
              "  <div id=\"df-6146738c-798b-4a61-9b75-d30cd10d0cf3\">\n",
              "    <div class=\"colab-df-container\">\n",
              "      <div>\n",
              "<style scoped>\n",
              "    .dataframe tbody tr th:only-of-type {\n",
              "        vertical-align: middle;\n",
              "    }\n",
              "\n",
              "    .dataframe tbody tr th {\n",
              "        vertical-align: top;\n",
              "    }\n",
              "\n",
              "    .dataframe thead th {\n",
              "        text-align: right;\n",
              "    }\n",
              "</style>\n",
              "<table border=\"1\" class=\"dataframe\">\n",
              "  <thead>\n",
              "    <tr style=\"text-align: right;\">\n",
              "      <th></th>\n",
              "      <th>video_id</th>\n",
              "      <th>title</th>\n",
              "      <th>publishedAt</th>\n",
              "      <th>channelId</th>\n",
              "      <th>channelTitle</th>\n",
              "      <th>categoryId</th>\n",
              "      <th>trending_date</th>\n",
              "      <th>tags</th>\n",
              "      <th>view_count</th>\n",
              "      <th>likes</th>\n",
              "      <th>dislikes</th>\n",
              "      <th>comment_count</th>\n",
              "      <th>thumbnail_link</th>\n",
              "      <th>comments_disabled</th>\n",
              "      <th>ratings_disabled</th>\n",
              "      <th>description</th>\n",
              "    </tr>\n",
              "  </thead>\n",
              "  <tbody>\n",
              "    <tr>\n",
              "      <th>0</th>\n",
              "      <td>3C66w5Z0ixs</td>\n",
              "      <td>I ASKED HER TO BE MY GIRLFRIEND...</td>\n",
              "      <td>2020-08-11T19:20:14Z</td>\n",
              "      <td>UCvtRTOMP2TqYqu51xNrqAzg</td>\n",
              "      <td>Brawadis</td>\n",
              "      <td>22</td>\n",
              "      <td>2020-08-12T00:00:00Z</td>\n",
              "      <td>brawadis|prank|basketball|skits|ghost|funny vi...</td>\n",
              "      <td>1514614</td>\n",
              "      <td>156908</td>\n",
              "      <td>5855</td>\n",
              "      <td>35313</td>\n",
              "      <td>https://i.ytimg.com/vi/3C66w5Z0ixs/default.jpg</td>\n",
              "      <td>False</td>\n",
              "      <td>False</td>\n",
              "      <td>SUBSCRIBE to BRAWADIS ▶ http://bit.ly/Subscrib...</td>\n",
              "    </tr>\n",
              "    <tr>\n",
              "      <th>1</th>\n",
              "      <td>M9Pmf9AB4Mo</td>\n",
              "      <td>Apex Legends | Stories from the Outlands – “Th...</td>\n",
              "      <td>2020-08-11T17:00:10Z</td>\n",
              "      <td>UC0ZV6M2THA81QT9hrVWJG3A</td>\n",
              "      <td>Apex Legends</td>\n",
              "      <td>20</td>\n",
              "      <td>2020-08-12T00:00:00Z</td>\n",
              "      <td>Apex Legends|Apex Legends characters|new Apex ...</td>\n",
              "      <td>2381688</td>\n",
              "      <td>146739</td>\n",
              "      <td>2794</td>\n",
              "      <td>16549</td>\n",
              "      <td>https://i.ytimg.com/vi/M9Pmf9AB4Mo/default.jpg</td>\n",
              "      <td>False</td>\n",
              "      <td>False</td>\n",
              "      <td>While running her own modding shop, Ramya Pare...</td>\n",
              "    </tr>\n",
              "  </tbody>\n",
              "</table>\n",
              "</div>\n",
              "      <button class=\"colab-df-convert\" onclick=\"convertToInteractive('df-6146738c-798b-4a61-9b75-d30cd10d0cf3')\"\n",
              "              title=\"Convert this dataframe to an interactive table.\"\n",
              "              style=\"display:none;\">\n",
              "        \n",
              "  <svg xmlns=\"http://www.w3.org/2000/svg\" height=\"24px\"viewBox=\"0 0 24 24\"\n",
              "       width=\"24px\">\n",
              "    <path d=\"M0 0h24v24H0V0z\" fill=\"none\"/>\n",
              "    <path d=\"M18.56 5.44l.94 2.06.94-2.06 2.06-.94-2.06-.94-.94-2.06-.94 2.06-2.06.94zm-11 1L8.5 8.5l.94-2.06 2.06-.94-2.06-.94L8.5 2.5l-.94 2.06-2.06.94zm10 10l.94 2.06.94-2.06 2.06-.94-2.06-.94-.94-2.06-.94 2.06-2.06.94z\"/><path d=\"M17.41 7.96l-1.37-1.37c-.4-.4-.92-.59-1.43-.59-.52 0-1.04.2-1.43.59L10.3 9.45l-7.72 7.72c-.78.78-.78 2.05 0 2.83L4 21.41c.39.39.9.59 1.41.59.51 0 1.02-.2 1.41-.59l7.78-7.78 2.81-2.81c.8-.78.8-2.07 0-2.86zM5.41 20L4 18.59l7.72-7.72 1.47 1.35L5.41 20z\"/>\n",
              "  </svg>\n",
              "      </button>\n",
              "      \n",
              "  <style>\n",
              "    .colab-df-container {\n",
              "      display:flex;\n",
              "      flex-wrap:wrap;\n",
              "      gap: 12px;\n",
              "    }\n",
              "\n",
              "    .colab-df-convert {\n",
              "      background-color: #E8F0FE;\n",
              "      border: none;\n",
              "      border-radius: 50%;\n",
              "      cursor: pointer;\n",
              "      display: none;\n",
              "      fill: #1967D2;\n",
              "      height: 32px;\n",
              "      padding: 0 0 0 0;\n",
              "      width: 32px;\n",
              "    }\n",
              "\n",
              "    .colab-df-convert:hover {\n",
              "      background-color: #E2EBFA;\n",
              "      box-shadow: 0px 1px 2px rgba(60, 64, 67, 0.3), 0px 1px 3px 1px rgba(60, 64, 67, 0.15);\n",
              "      fill: #174EA6;\n",
              "    }\n",
              "\n",
              "    [theme=dark] .colab-df-convert {\n",
              "      background-color: #3B4455;\n",
              "      fill: #D2E3FC;\n",
              "    }\n",
              "\n",
              "    [theme=dark] .colab-df-convert:hover {\n",
              "      background-color: #434B5C;\n",
              "      box-shadow: 0px 1px 3px 1px rgba(0, 0, 0, 0.15);\n",
              "      filter: drop-shadow(0px 1px 2px rgba(0, 0, 0, 0.3));\n",
              "      fill: #FFFFFF;\n",
              "    }\n",
              "  </style>\n",
              "\n",
              "      <script>\n",
              "        const buttonEl =\n",
              "          document.querySelector('#df-6146738c-798b-4a61-9b75-d30cd10d0cf3 button.colab-df-convert');\n",
              "        buttonEl.style.display =\n",
              "          google.colab.kernel.accessAllowed ? 'block' : 'none';\n",
              "\n",
              "        async function convertToInteractive(key) {\n",
              "          const element = document.querySelector('#df-6146738c-798b-4a61-9b75-d30cd10d0cf3');\n",
              "          const dataTable =\n",
              "            await google.colab.kernel.invokeFunction('convertToInteractive',\n",
              "                                                     [key], {});\n",
              "          if (!dataTable) return;\n",
              "\n",
              "          const docLinkHtml = 'Like what you see? Visit the ' +\n",
              "            '<a target=\"_blank\" href=https://colab.research.google.com/notebooks/data_table.ipynb>data table notebook</a>'\n",
              "            + ' to learn more about interactive tables.';\n",
              "          element.innerHTML = '';\n",
              "          dataTable['output_type'] = 'display_data';\n",
              "          await google.colab.output.renderOutput(dataTable, element);\n",
              "          const docLink = document.createElement('div');\n",
              "          docLink.innerHTML = docLinkHtml;\n",
              "          element.appendChild(docLink);\n",
              "        }\n",
              "      </script>\n",
              "    </div>\n",
              "  </div>\n",
              "  "
            ],
            "text/plain": [
              "      video_id                                              title  \\\n",
              "0  3C66w5Z0ixs                 I ASKED HER TO BE MY GIRLFRIEND...   \n",
              "1  M9Pmf9AB4Mo  Apex Legends | Stories from the Outlands – “Th...   \n",
              "\n",
              "            publishedAt                 channelId  channelTitle  categoryId  \\\n",
              "0  2020-08-11T19:20:14Z  UCvtRTOMP2TqYqu51xNrqAzg      Brawadis          22   \n",
              "1  2020-08-11T17:00:10Z  UC0ZV6M2THA81QT9hrVWJG3A  Apex Legends          20   \n",
              "\n",
              "          trending_date                                               tags  \\\n",
              "0  2020-08-12T00:00:00Z  brawadis|prank|basketball|skits|ghost|funny vi...   \n",
              "1  2020-08-12T00:00:00Z  Apex Legends|Apex Legends characters|new Apex ...   \n",
              "\n",
              "   view_count   likes  dislikes  comment_count  \\\n",
              "0     1514614  156908      5855          35313   \n",
              "1     2381688  146739      2794          16549   \n",
              "\n",
              "                                   thumbnail_link  comments_disabled  \\\n",
              "0  https://i.ytimg.com/vi/3C66w5Z0ixs/default.jpg              False   \n",
              "1  https://i.ytimg.com/vi/M9Pmf9AB4Mo/default.jpg              False   \n",
              "\n",
              "   ratings_disabled                                        description  \n",
              "0             False  SUBSCRIBE to BRAWADIS ▶ http://bit.ly/Subscrib...  \n",
              "1             False  While running her own modding shop, Ramya Pare...  "
            ]
          },
          "execution_count": 4,
          "metadata": {},
          "output_type": "execute_result"
        }
      ],
      "source": [
        "df_raw.head(2)"
      ]
    },
    {
      "cell_type": "markdown",
      "metadata": {
        "id": "YWDV29pBREa9"
      },
      "source": [
        "## Quick Glance of Data"
      ]
    },
    {
      "cell_type": "code",
      "execution_count": null,
      "metadata": {
        "colab": {
          "base_uri": "https://localhost:8080/"
        },
        "id": "CI54jiRMhZ9j",
        "outputId": "e8cb4321-aad5-4dad-94df-3e5d48f3fa97"
      },
      "outputs": [
        {
          "data": {
            "text/plain": [
              "(143190, 16)"
            ]
          },
          "execution_count": 6,
          "metadata": {},
          "output_type": "execute_result"
        }
      ],
      "source": [
        "df_raw.shape"
      ]
    },
    {
      "cell_type": "code",
      "execution_count": null,
      "metadata": {
        "id": "R0eL9sr9ZGnc"
      },
      "outputs": [],
      "source": [
        "!pip install sweetviz\n",
        "import sweetviz as sv\n",
        "advert_report = sv.analyze(df_raw)\n",
        "advert_report.show_html('Ouput.html')"
      ]
    },
    {
      "cell_type": "code",
      "execution_count": null,
      "metadata": {
        "colab": {
          "base_uri": "https://localhost:8080/"
        },
        "id": "KcH61T-RJt4K",
        "outputId": "d1ec7228-b52a-4611-8e9b-572ddd484edf"
      },
      "outputs": [
        {
          "data": {
            "text/plain": [
              "likes       121808190\n",
              "dislikes      6939698\n",
              "dtype: int64"
            ]
          },
          "execution_count": 7,
          "metadata": {},
          "output_type": "execute_result"
        }
      ],
      "source": [
        "df_raw[df_raw.comments_disabled==True][['likes','dislikes']].sum()"
      ]
    },
    {
      "cell_type": "code",
      "execution_count": null,
      "metadata": {
        "colab": {
          "base_uri": "https://localhost:8080/"
        },
        "id": "6CvwFp99Jy-d",
        "outputId": "ccd382b2-12e8-4516-84dd-7beddb596dd5"
      },
      "outputs": [
        {
          "data": {
            "text/plain": [
              "0"
            ]
          },
          "execution_count": 8,
          "metadata": {},
          "output_type": "execute_result"
        }
      ],
      "source": [
        "df_raw[df_raw.comments_disabled==True].comment_count.sum()"
      ]
    },
    {
      "cell_type": "code",
      "execution_count": null,
      "metadata": {
        "colab": {
          "base_uri": "https://localhost:8080/"
        },
        "id": "OIA_7VjQPL51",
        "outputId": "3464c29a-5ebb-437d-a976-d109af084f92"
      },
      "outputs": [
        {
          "data": {
            "text/plain": [
              "comments_disabled\n",
              "False    140985\n",
              "True       2205\n",
              "dtype: int64"
            ]
          },
          "execution_count": 9,
          "metadata": {},
          "output_type": "execute_result"
        }
      ],
      "source": [
        "df_raw.groupby(by='comments_disabled').size()"
      ]
    },
    {
      "cell_type": "code",
      "execution_count": null,
      "metadata": {
        "colab": {
          "base_uri": "https://localhost:8080/"
        },
        "id": "CnpfdWDHTeVr",
        "outputId": "4a50a50b-5fa6-480c-a447-a198dc3d7b26"
      },
      "outputs": [
        {
          "data": {
            "text/plain": [
              "trending_date\n",
              "2020-08-12T00:00:00Z    200\n",
              "2020-08-13T00:00:00Z    200\n",
              "2020-08-14T00:00:00Z    200\n",
              "2020-08-15T00:00:00Z    200\n",
              "2020-08-16T00:00:00Z    200\n",
              "                       ... \n",
              "2022-07-20T00:00:00Z    200\n",
              "2022-07-21T00:00:00Z    200\n",
              "2022-07-22T00:00:00Z    200\n",
              "2022-07-23T00:00:00Z    200\n",
              "2022-07-24T00:00:00Z    200\n",
              "Length: 696, dtype: int64"
            ]
          },
          "execution_count": 10,
          "metadata": {},
          "output_type": "execute_result"
        }
      ],
      "source": [
        "df_raw.groupby(by='trending_date').size()"
      ]
    },
    {
      "cell_type": "code",
      "execution_count": null,
      "metadata": {
        "colab": {
          "base_uri": "https://localhost:8080/",
          "height": 300
        },
        "id": "M6LjcqAjhwWj",
        "outputId": "31e706f8-ff33-4b18-82f1-4fceb12aa6b7"
      },
      "outputs": [
        {
          "data": {
            "text/html": [
              "\n",
              "  <div id=\"df-ec7a6ea6-6567-4ead-bbdf-38274b30ddf8\">\n",
              "    <div class=\"colab-df-container\">\n",
              "      <div>\n",
              "<style scoped>\n",
              "    .dataframe tbody tr th:only-of-type {\n",
              "        vertical-align: middle;\n",
              "    }\n",
              "\n",
              "    .dataframe tbody tr th {\n",
              "        vertical-align: top;\n",
              "    }\n",
              "\n",
              "    .dataframe thead th {\n",
              "        text-align: right;\n",
              "    }\n",
              "</style>\n",
              "<table border=\"1\" class=\"dataframe\">\n",
              "  <thead>\n",
              "    <tr style=\"text-align: right;\">\n",
              "      <th></th>\n",
              "      <th>categoryId</th>\n",
              "      <th>view_count</th>\n",
              "      <th>likes</th>\n",
              "      <th>dislikes</th>\n",
              "      <th>comment_count</th>\n",
              "    </tr>\n",
              "  </thead>\n",
              "  <tbody>\n",
              "    <tr>\n",
              "      <th>count</th>\n",
              "      <td>143190.000000</td>\n",
              "      <td>1.431900e+05</td>\n",
              "      <td>1.431900e+05</td>\n",
              "      <td>143190.000000</td>\n",
              "      <td>1.431900e+05</td>\n",
              "    </tr>\n",
              "    <tr>\n",
              "      <th>mean</th>\n",
              "      <td>18.847070</td>\n",
              "      <td>2.627830e+06</td>\n",
              "      <td>1.403175e+05</td>\n",
              "      <td>2129.192297</td>\n",
              "      <td>1.161499e+04</td>\n",
              "    </tr>\n",
              "    <tr>\n",
              "      <th>std</th>\n",
              "      <td>6.777946</td>\n",
              "      <td>6.843052e+06</td>\n",
              "      <td>4.035922e+05</td>\n",
              "      <td>10929.008548</td>\n",
              "      <td>8.288976e+04</td>\n",
              "    </tr>\n",
              "    <tr>\n",
              "      <th>min</th>\n",
              "      <td>1.000000</td>\n",
              "      <td>0.000000e+00</td>\n",
              "      <td>0.000000e+00</td>\n",
              "      <td>0.000000</td>\n",
              "      <td>0.000000e+00</td>\n",
              "    </tr>\n",
              "    <tr>\n",
              "      <th>25%</th>\n",
              "      <td>17.000000</td>\n",
              "      <td>5.059715e+05</td>\n",
              "      <td>2.035100e+04</td>\n",
              "      <td>0.000000</td>\n",
              "      <td>1.426000e+03</td>\n",
              "    </tr>\n",
              "    <tr>\n",
              "      <th>50%</th>\n",
              "      <td>20.000000</td>\n",
              "      <td>1.036562e+06</td>\n",
              "      <td>4.792650e+04</td>\n",
              "      <td>402.000000</td>\n",
              "      <td>3.259000e+03</td>\n",
              "    </tr>\n",
              "    <tr>\n",
              "      <th>75%</th>\n",
              "      <td>24.000000</td>\n",
              "      <td>2.338864e+06</td>\n",
              "      <td>1.207615e+05</td>\n",
              "      <td>1382.000000</td>\n",
              "      <td>7.860000e+03</td>\n",
              "    </tr>\n",
              "    <tr>\n",
              "      <th>max</th>\n",
              "      <td>29.000000</td>\n",
              "      <td>2.644074e+08</td>\n",
              "      <td>1.602153e+07</td>\n",
              "      <td>879354.000000</td>\n",
              "      <td>6.738537e+06</td>\n",
              "    </tr>\n",
              "  </tbody>\n",
              "</table>\n",
              "</div>\n",
              "      <button class=\"colab-df-convert\" onclick=\"convertToInteractive('df-ec7a6ea6-6567-4ead-bbdf-38274b30ddf8')\"\n",
              "              title=\"Convert this dataframe to an interactive table.\"\n",
              "              style=\"display:none;\">\n",
              "        \n",
              "  <svg xmlns=\"http://www.w3.org/2000/svg\" height=\"24px\"viewBox=\"0 0 24 24\"\n",
              "       width=\"24px\">\n",
              "    <path d=\"M0 0h24v24H0V0z\" fill=\"none\"/>\n",
              "    <path d=\"M18.56 5.44l.94 2.06.94-2.06 2.06-.94-2.06-.94-.94-2.06-.94 2.06-2.06.94zm-11 1L8.5 8.5l.94-2.06 2.06-.94-2.06-.94L8.5 2.5l-.94 2.06-2.06.94zm10 10l.94 2.06.94-2.06 2.06-.94-2.06-.94-.94-2.06-.94 2.06-2.06.94z\"/><path d=\"M17.41 7.96l-1.37-1.37c-.4-.4-.92-.59-1.43-.59-.52 0-1.04.2-1.43.59L10.3 9.45l-7.72 7.72c-.78.78-.78 2.05 0 2.83L4 21.41c.39.39.9.59 1.41.59.51 0 1.02-.2 1.41-.59l7.78-7.78 2.81-2.81c.8-.78.8-2.07 0-2.86zM5.41 20L4 18.59l7.72-7.72 1.47 1.35L5.41 20z\"/>\n",
              "  </svg>\n",
              "      </button>\n",
              "      \n",
              "  <style>\n",
              "    .colab-df-container {\n",
              "      display:flex;\n",
              "      flex-wrap:wrap;\n",
              "      gap: 12px;\n",
              "    }\n",
              "\n",
              "    .colab-df-convert {\n",
              "      background-color: #E8F0FE;\n",
              "      border: none;\n",
              "      border-radius: 50%;\n",
              "      cursor: pointer;\n",
              "      display: none;\n",
              "      fill: #1967D2;\n",
              "      height: 32px;\n",
              "      padding: 0 0 0 0;\n",
              "      width: 32px;\n",
              "    }\n",
              "\n",
              "    .colab-df-convert:hover {\n",
              "      background-color: #E2EBFA;\n",
              "      box-shadow: 0px 1px 2px rgba(60, 64, 67, 0.3), 0px 1px 3px 1px rgba(60, 64, 67, 0.15);\n",
              "      fill: #174EA6;\n",
              "    }\n",
              "\n",
              "    [theme=dark] .colab-df-convert {\n",
              "      background-color: #3B4455;\n",
              "      fill: #D2E3FC;\n",
              "    }\n",
              "\n",
              "    [theme=dark] .colab-df-convert:hover {\n",
              "      background-color: #434B5C;\n",
              "      box-shadow: 0px 1px 3px 1px rgba(0, 0, 0, 0.15);\n",
              "      filter: drop-shadow(0px 1px 2px rgba(0, 0, 0, 0.3));\n",
              "      fill: #FFFFFF;\n",
              "    }\n",
              "  </style>\n",
              "\n",
              "      <script>\n",
              "        const buttonEl =\n",
              "          document.querySelector('#df-ec7a6ea6-6567-4ead-bbdf-38274b30ddf8 button.colab-df-convert');\n",
              "        buttonEl.style.display =\n",
              "          google.colab.kernel.accessAllowed ? 'block' : 'none';\n",
              "\n",
              "        async function convertToInteractive(key) {\n",
              "          const element = document.querySelector('#df-ec7a6ea6-6567-4ead-bbdf-38274b30ddf8');\n",
              "          const dataTable =\n",
              "            await google.colab.kernel.invokeFunction('convertToInteractive',\n",
              "                                                     [key], {});\n",
              "          if (!dataTable) return;\n",
              "\n",
              "          const docLinkHtml = 'Like what you see? Visit the ' +\n",
              "            '<a target=\"_blank\" href=https://colab.research.google.com/notebooks/data_table.ipynb>data table notebook</a>'\n",
              "            + ' to learn more about interactive tables.';\n",
              "          element.innerHTML = '';\n",
              "          dataTable['output_type'] = 'display_data';\n",
              "          await google.colab.output.renderOutput(dataTable, element);\n",
              "          const docLink = document.createElement('div');\n",
              "          docLink.innerHTML = docLinkHtml;\n",
              "          element.appendChild(docLink);\n",
              "        }\n",
              "      </script>\n",
              "    </div>\n",
              "  </div>\n",
              "  "
            ],
            "text/plain": [
              "          categoryId    view_count         likes       dislikes  comment_count\n",
              "count  143190.000000  1.431900e+05  1.431900e+05  143190.000000   1.431900e+05\n",
              "mean       18.847070  2.627830e+06  1.403175e+05    2129.192297   1.161499e+04\n",
              "std         6.777946  6.843052e+06  4.035922e+05   10929.008548   8.288976e+04\n",
              "min         1.000000  0.000000e+00  0.000000e+00       0.000000   0.000000e+00\n",
              "25%        17.000000  5.059715e+05  2.035100e+04       0.000000   1.426000e+03\n",
              "50%        20.000000  1.036562e+06  4.792650e+04     402.000000   3.259000e+03\n",
              "75%        24.000000  2.338864e+06  1.207615e+05    1382.000000   7.860000e+03\n",
              "max        29.000000  2.644074e+08  1.602153e+07  879354.000000   6.738537e+06"
            ]
          },
          "execution_count": 11,
          "metadata": {},
          "output_type": "execute_result"
        }
      ],
      "source": [
        "df_raw.describe()"
      ]
    },
    {
      "cell_type": "code",
      "execution_count": null,
      "metadata": {
        "colab": {
          "base_uri": "https://localhost:8080/"
        },
        "id": "GKYWkwWBiSsm",
        "outputId": "a32eafef-1f38-4b9b-dc3e-584d7e4b8b50"
      },
      "outputs": [
        {
          "data": {
            "text/plain": [
              "video_id             object\n",
              "title                object\n",
              "publishedAt          object\n",
              "channelId            object\n",
              "channelTitle         object\n",
              "categoryId            int64\n",
              "trending_date        object\n",
              "tags                 object\n",
              "view_count            int64\n",
              "likes                 int64\n",
              "dislikes              int64\n",
              "comment_count         int64\n",
              "thumbnail_link       object\n",
              "comments_disabled      bool\n",
              "ratings_disabled       bool\n",
              "description          object\n",
              "dtype: object"
            ]
          },
          "execution_count": 12,
          "metadata": {},
          "output_type": "execute_result"
        }
      ],
      "source": [
        "df_raw.dtypes"
      ]
    },
    {
      "cell_type": "markdown",
      "metadata": {
        "id": "TOQwJfnRcbqC"
      },
      "source": [
        "## Data Pre-processing & Cleaning"
      ]
    },
    {
      "cell_type": "code",
      "execution_count": null,
      "metadata": {
        "id": "EKpCWpGddAoi"
      },
      "outputs": [],
      "source": [
        "df = df_raw.copy(deep=True)"
      ]
    },
    {
      "cell_type": "code",
      "execution_count": null,
      "metadata": {
        "colab": {
          "base_uri": "https://localhost:8080/",
          "height": 280
        },
        "id": "rTYXKJU3Uj59",
        "outputId": "78d89d39-e29f-4524-944b-7fc154dbbd3e"
      },
      "outputs": [
        {
          "data": {
            "text/html": [
              "\n",
              "  <div id=\"df-97991be8-843b-405b-a71b-545224ef2544\">\n",
              "    <div class=\"colab-df-container\">\n",
              "      <div>\n",
              "<style scoped>\n",
              "    .dataframe tbody tr th:only-of-type {\n",
              "        vertical-align: middle;\n",
              "    }\n",
              "\n",
              "    .dataframe tbody tr th {\n",
              "        vertical-align: top;\n",
              "    }\n",
              "\n",
              "    .dataframe thead th {\n",
              "        text-align: right;\n",
              "    }\n",
              "</style>\n",
              "<table border=\"1\" class=\"dataframe\">\n",
              "  <thead>\n",
              "    <tr style=\"text-align: right;\">\n",
              "      <th></th>\n",
              "      <th>video_id</th>\n",
              "      <th>title</th>\n",
              "      <th>publishedAt</th>\n",
              "      <th>channelId</th>\n",
              "      <th>channelTitle</th>\n",
              "      <th>categoryId</th>\n",
              "      <th>trending_date</th>\n",
              "      <th>tags</th>\n",
              "      <th>view_count</th>\n",
              "      <th>likes</th>\n",
              "      <th>dislikes</th>\n",
              "      <th>comment_count</th>\n",
              "      <th>thumbnail_link</th>\n",
              "      <th>comments_disabled</th>\n",
              "      <th>ratings_disabled</th>\n",
              "      <th>description</th>\n",
              "      <th>year</th>\n",
              "      <th>month</th>\n",
              "    </tr>\n",
              "  </thead>\n",
              "  <tbody>\n",
              "    <tr>\n",
              "      <th>0</th>\n",
              "      <td>3C66w5Z0ixs</td>\n",
              "      <td>I ASKED HER TO BE MY GIRLFRIEND...</td>\n",
              "      <td>2020-08-11 19:20:14+00:00</td>\n",
              "      <td>UCvtRTOMP2TqYqu51xNrqAzg</td>\n",
              "      <td>Brawadis</td>\n",
              "      <td>22</td>\n",
              "      <td>2020-08-12 00:00:00+00:00</td>\n",
              "      <td>brawadis|prank|basketball|skits|ghost|funny vi...</td>\n",
              "      <td>1514614</td>\n",
              "      <td>156908</td>\n",
              "      <td>5855</td>\n",
              "      <td>35313</td>\n",
              "      <td>https://i.ytimg.com/vi/3C66w5Z0ixs/default.jpg</td>\n",
              "      <td>False</td>\n",
              "      <td>False</td>\n",
              "      <td>SUBSCRIBE to BRAWADIS ▶ http://bit.ly/Subscrib...</td>\n",
              "      <td>2020</td>\n",
              "      <td>8</td>\n",
              "    </tr>\n",
              "    <tr>\n",
              "      <th>1</th>\n",
              "      <td>M9Pmf9AB4Mo</td>\n",
              "      <td>Apex Legends | Stories from the Outlands – “Th...</td>\n",
              "      <td>2020-08-11 17:00:10+00:00</td>\n",
              "      <td>UC0ZV6M2THA81QT9hrVWJG3A</td>\n",
              "      <td>Apex Legends</td>\n",
              "      <td>20</td>\n",
              "      <td>2020-08-12 00:00:00+00:00</td>\n",
              "      <td>Apex Legends|Apex Legends characters|new Apex ...</td>\n",
              "      <td>2381688</td>\n",
              "      <td>146739</td>\n",
              "      <td>2794</td>\n",
              "      <td>16549</td>\n",
              "      <td>https://i.ytimg.com/vi/M9Pmf9AB4Mo/default.jpg</td>\n",
              "      <td>False</td>\n",
              "      <td>False</td>\n",
              "      <td>While running her own modding shop, Ramya Pare...</td>\n",
              "      <td>2020</td>\n",
              "      <td>8</td>\n",
              "    </tr>\n",
              "  </tbody>\n",
              "</table>\n",
              "</div>\n",
              "      <button class=\"colab-df-convert\" onclick=\"convertToInteractive('df-97991be8-843b-405b-a71b-545224ef2544')\"\n",
              "              title=\"Convert this dataframe to an interactive table.\"\n",
              "              style=\"display:none;\">\n",
              "        \n",
              "  <svg xmlns=\"http://www.w3.org/2000/svg\" height=\"24px\"viewBox=\"0 0 24 24\"\n",
              "       width=\"24px\">\n",
              "    <path d=\"M0 0h24v24H0V0z\" fill=\"none\"/>\n",
              "    <path d=\"M18.56 5.44l.94 2.06.94-2.06 2.06-.94-2.06-.94-.94-2.06-.94 2.06-2.06.94zm-11 1L8.5 8.5l.94-2.06 2.06-.94-2.06-.94L8.5 2.5l-.94 2.06-2.06.94zm10 10l.94 2.06.94-2.06 2.06-.94-2.06-.94-.94-2.06-.94 2.06-2.06.94z\"/><path d=\"M17.41 7.96l-1.37-1.37c-.4-.4-.92-.59-1.43-.59-.52 0-1.04.2-1.43.59L10.3 9.45l-7.72 7.72c-.78.78-.78 2.05 0 2.83L4 21.41c.39.39.9.59 1.41.59.51 0 1.02-.2 1.41-.59l7.78-7.78 2.81-2.81c.8-.78.8-2.07 0-2.86zM5.41 20L4 18.59l7.72-7.72 1.47 1.35L5.41 20z\"/>\n",
              "  </svg>\n",
              "      </button>\n",
              "      \n",
              "  <style>\n",
              "    .colab-df-container {\n",
              "      display:flex;\n",
              "      flex-wrap:wrap;\n",
              "      gap: 12px;\n",
              "    }\n",
              "\n",
              "    .colab-df-convert {\n",
              "      background-color: #E8F0FE;\n",
              "      border: none;\n",
              "      border-radius: 50%;\n",
              "      cursor: pointer;\n",
              "      display: none;\n",
              "      fill: #1967D2;\n",
              "      height: 32px;\n",
              "      padding: 0 0 0 0;\n",
              "      width: 32px;\n",
              "    }\n",
              "\n",
              "    .colab-df-convert:hover {\n",
              "      background-color: #E2EBFA;\n",
              "      box-shadow: 0px 1px 2px rgba(60, 64, 67, 0.3), 0px 1px 3px 1px rgba(60, 64, 67, 0.15);\n",
              "      fill: #174EA6;\n",
              "    }\n",
              "\n",
              "    [theme=dark] .colab-df-convert {\n",
              "      background-color: #3B4455;\n",
              "      fill: #D2E3FC;\n",
              "    }\n",
              "\n",
              "    [theme=dark] .colab-df-convert:hover {\n",
              "      background-color: #434B5C;\n",
              "      box-shadow: 0px 1px 3px 1px rgba(0, 0, 0, 0.15);\n",
              "      filter: drop-shadow(0px 1px 2px rgba(0, 0, 0, 0.3));\n",
              "      fill: #FFFFFF;\n",
              "    }\n",
              "  </style>\n",
              "\n",
              "      <script>\n",
              "        const buttonEl =\n",
              "          document.querySelector('#df-97991be8-843b-405b-a71b-545224ef2544 button.colab-df-convert');\n",
              "        buttonEl.style.display =\n",
              "          google.colab.kernel.accessAllowed ? 'block' : 'none';\n",
              "\n",
              "        async function convertToInteractive(key) {\n",
              "          const element = document.querySelector('#df-97991be8-843b-405b-a71b-545224ef2544');\n",
              "          const dataTable =\n",
              "            await google.colab.kernel.invokeFunction('convertToInteractive',\n",
              "                                                     [key], {});\n",
              "          if (!dataTable) return;\n",
              "\n",
              "          const docLinkHtml = 'Like what you see? Visit the ' +\n",
              "            '<a target=\"_blank\" href=https://colab.research.google.com/notebooks/data_table.ipynb>data table notebook</a>'\n",
              "            + ' to learn more about interactive tables.';\n",
              "          element.innerHTML = '';\n",
              "          dataTable['output_type'] = 'display_data';\n",
              "          await google.colab.output.renderOutput(dataTable, element);\n",
              "          const docLink = document.createElement('div');\n",
              "          docLink.innerHTML = docLinkHtml;\n",
              "          element.appendChild(docLink);\n",
              "        }\n",
              "      </script>\n",
              "    </div>\n",
              "  </div>\n",
              "  "
            ],
            "text/plain": [
              "      video_id                                              title  \\\n",
              "0  3C66w5Z0ixs                 I ASKED HER TO BE MY GIRLFRIEND...   \n",
              "1  M9Pmf9AB4Mo  Apex Legends | Stories from the Outlands – “Th...   \n",
              "\n",
              "                publishedAt                 channelId  channelTitle  \\\n",
              "0 2020-08-11 19:20:14+00:00  UCvtRTOMP2TqYqu51xNrqAzg      Brawadis   \n",
              "1 2020-08-11 17:00:10+00:00  UC0ZV6M2THA81QT9hrVWJG3A  Apex Legends   \n",
              "\n",
              "   categoryId             trending_date  \\\n",
              "0          22 2020-08-12 00:00:00+00:00   \n",
              "1          20 2020-08-12 00:00:00+00:00   \n",
              "\n",
              "                                                tags  view_count   likes  \\\n",
              "0  brawadis|prank|basketball|skits|ghost|funny vi...     1514614  156908   \n",
              "1  Apex Legends|Apex Legends characters|new Apex ...     2381688  146739   \n",
              "\n",
              "   dislikes  comment_count                                  thumbnail_link  \\\n",
              "0      5855          35313  https://i.ytimg.com/vi/3C66w5Z0ixs/default.jpg   \n",
              "1      2794          16549  https://i.ytimg.com/vi/M9Pmf9AB4Mo/default.jpg   \n",
              "\n",
              "   comments_disabled  ratings_disabled  \\\n",
              "0              False             False   \n",
              "1              False             False   \n",
              "\n",
              "                                         description  year  month  \n",
              "0  SUBSCRIBE to BRAWADIS ▶ http://bit.ly/Subscrib...  2020      8  \n",
              "1  While running her own modding shop, Ramya Pare...  2020      8  "
            ]
          },
          "execution_count": 7,
          "metadata": {},
          "output_type": "execute_result"
        }
      ],
      "source": [
        "df.publishedAt = pd.to_datetime(df.publishedAt)\n",
        "df.trending_date = pd.to_datetime(df.trending_date)\n",
        "\n",
        "df['year'] = df['publishedAt'].dt.year\n",
        "df['month'] = df['publishedAt'].dt.month\n",
        "df.head(2)"
      ]
    },
    {
      "cell_type": "code",
      "execution_count": null,
      "metadata": {
        "colab": {
          "base_uri": "https://localhost:8080/"
        },
        "id": "Hr1Z_DQSg2Q6",
        "outputId": "16144d43-a311-464b-d412-bc848a9baceb"
      },
      "outputs": [
        {
          "data": {
            "text/plain": [
              "video_id                          object\n",
              "title                             object\n",
              "publishedAt          datetime64[ns, UTC]\n",
              "channelId                         object\n",
              "channelTitle                      object\n",
              "categoryId                         int64\n",
              "trending_date        datetime64[ns, UTC]\n",
              "tags                              object\n",
              "view_count                         int64\n",
              "likes                              int64\n",
              "dislikes                           int64\n",
              "comment_count                      int64\n",
              "thumbnail_link                    object\n",
              "comments_disabled                   bool\n",
              "ratings_disabled                    bool\n",
              "description                       object\n",
              "year                               int64\n",
              "month                              int64\n",
              "dtype: object"
            ]
          },
          "execution_count": 8,
          "metadata": {},
          "output_type": "execute_result"
        }
      ],
      "source": [
        "# check\n",
        "df.dtypes"
      ]
    },
    {
      "cell_type": "code",
      "execution_count": null,
      "metadata": {
        "id": "RKOASsqwcddD"
      },
      "outputs": [],
      "source": [
        "# Read category json file\n",
        "f = open('/content/drive/Shareddrives/551project/Youtube_2022/US_category_id.json')\n",
        "category_f = json.load(f)"
      ]
    },
    {
      "cell_type": "code",
      "execution_count": null,
      "metadata": {
        "id": "1iSnofEGc4Z2"
      },
      "outputs": [],
      "source": [
        "# Create a dictionary which contains category id and name\n",
        "temp_dict = category_f['items']\n",
        "category_dict = {}\n",
        "for i, key in enumerate(temp_dict):\n",
        "  category_dict[int(temp_dict[i]['id'])] = temp_dict[i]['snippet']['title']"
      ]
    },
    {
      "cell_type": "code",
      "execution_count": null,
      "metadata": {
        "colab": {
          "base_uri": "https://localhost:8080/"
        },
        "id": "DMAg8UPuedL0",
        "outputId": "3672ca1e-190a-46c3-bf00-009a7237766c"
      },
      "outputs": [
        {
          "data": {
            "text/plain": [
              "{1: 'Film & Animation',\n",
              " 2: 'Autos & Vehicles',\n",
              " 10: 'Music',\n",
              " 15: 'Pets & Animals',\n",
              " 17: 'Sports',\n",
              " 18: 'Short Movies',\n",
              " 19: 'Travel & Events',\n",
              " 20: 'Gaming',\n",
              " 21: 'Videoblogging',\n",
              " 22: 'People & Blogs',\n",
              " 23: 'Comedy',\n",
              " 24: 'Entertainment',\n",
              " 25: 'News & Politics',\n",
              " 26: 'Howto & Style',\n",
              " 27: 'Education',\n",
              " 28: 'Science & Technology',\n",
              " 29: 'Nonprofits & Activism',\n",
              " 30: 'Movies',\n",
              " 31: 'Anime/Animation',\n",
              " 32: 'Action/Adventure',\n",
              " 33: 'Classics',\n",
              " 34: 'Comedy',\n",
              " 35: 'Documentary',\n",
              " 36: 'Drama',\n",
              " 37: 'Family',\n",
              " 38: 'Foreign',\n",
              " 39: 'Horror',\n",
              " 40: 'Sci-Fi/Fantasy',\n",
              " 41: 'Thriller',\n",
              " 42: 'Shorts',\n",
              " 43: 'Shows',\n",
              " 44: 'Trailers'}"
            ]
          },
          "execution_count": 18,
          "metadata": {},
          "output_type": "execute_result"
        }
      ],
      "source": [
        "category_dict"
      ]
    },
    {
      "cell_type": "code",
      "execution_count": null,
      "metadata": {
        "id": "bkC2mVR6fju1"
      },
      "outputs": [],
      "source": [
        "# Create a category name column \n",
        "df['category_name'] = ''\n",
        "for i,j in df.iterrows():\n",
        "  df['category_name'][i] = category_dict[df['categoryId'][i]]"
      ]
    },
    {
      "cell_type": "code",
      "execution_count": null,
      "metadata": {
        "colab": {
          "base_uri": "https://localhost:8080/",
          "height": 280
        },
        "id": "au1_B8-HgxVp",
        "outputId": "1f32153a-f2b3-47e3-fab8-1c47267fe6b3"
      },
      "outputs": [
        {
          "data": {
            "text/html": [
              "\n",
              "  <div id=\"df-a0e54632-7656-4476-9740-b0226e98098a\">\n",
              "    <div class=\"colab-df-container\">\n",
              "      <div>\n",
              "<style scoped>\n",
              "    .dataframe tbody tr th:only-of-type {\n",
              "        vertical-align: middle;\n",
              "    }\n",
              "\n",
              "    .dataframe tbody tr th {\n",
              "        vertical-align: top;\n",
              "    }\n",
              "\n",
              "    .dataframe thead th {\n",
              "        text-align: right;\n",
              "    }\n",
              "</style>\n",
              "<table border=\"1\" class=\"dataframe\">\n",
              "  <thead>\n",
              "    <tr style=\"text-align: right;\">\n",
              "      <th></th>\n",
              "      <th>video_id</th>\n",
              "      <th>title</th>\n",
              "      <th>publishedAt</th>\n",
              "      <th>channelId</th>\n",
              "      <th>channelTitle</th>\n",
              "      <th>categoryId</th>\n",
              "      <th>trending_date</th>\n",
              "      <th>tags</th>\n",
              "      <th>view_count</th>\n",
              "      <th>likes</th>\n",
              "      <th>dislikes</th>\n",
              "      <th>comment_count</th>\n",
              "      <th>thumbnail_link</th>\n",
              "      <th>comments_disabled</th>\n",
              "      <th>ratings_disabled</th>\n",
              "      <th>description</th>\n",
              "      <th>year</th>\n",
              "      <th>month</th>\n",
              "      <th>category_name</th>\n",
              "    </tr>\n",
              "  </thead>\n",
              "  <tbody>\n",
              "    <tr>\n",
              "      <th>0</th>\n",
              "      <td>3C66w5Z0ixs</td>\n",
              "      <td>I ASKED HER TO BE MY GIRLFRIEND...</td>\n",
              "      <td>2020-08-11 19:20:14+00:00</td>\n",
              "      <td>UCvtRTOMP2TqYqu51xNrqAzg</td>\n",
              "      <td>Brawadis</td>\n",
              "      <td>22</td>\n",
              "      <td>2020-08-12 00:00:00+00:00</td>\n",
              "      <td>brawadis|prank|basketball|skits|ghost|funny vi...</td>\n",
              "      <td>1514614</td>\n",
              "      <td>156908</td>\n",
              "      <td>5855</td>\n",
              "      <td>35313</td>\n",
              "      <td>https://i.ytimg.com/vi/3C66w5Z0ixs/default.jpg</td>\n",
              "      <td>False</td>\n",
              "      <td>False</td>\n",
              "      <td>SUBSCRIBE to BRAWADIS ▶ http://bit.ly/Subscrib...</td>\n",
              "      <td>2020</td>\n",
              "      <td>8</td>\n",
              "      <td>People &amp; Blogs</td>\n",
              "    </tr>\n",
              "    <tr>\n",
              "      <th>1</th>\n",
              "      <td>M9Pmf9AB4Mo</td>\n",
              "      <td>Apex Legends | Stories from the Outlands – “Th...</td>\n",
              "      <td>2020-08-11 17:00:10+00:00</td>\n",
              "      <td>UC0ZV6M2THA81QT9hrVWJG3A</td>\n",
              "      <td>Apex Legends</td>\n",
              "      <td>20</td>\n",
              "      <td>2020-08-12 00:00:00+00:00</td>\n",
              "      <td>Apex Legends|Apex Legends characters|new Apex ...</td>\n",
              "      <td>2381688</td>\n",
              "      <td>146739</td>\n",
              "      <td>2794</td>\n",
              "      <td>16549</td>\n",
              "      <td>https://i.ytimg.com/vi/M9Pmf9AB4Mo/default.jpg</td>\n",
              "      <td>False</td>\n",
              "      <td>False</td>\n",
              "      <td>While running her own modding shop, Ramya Pare...</td>\n",
              "      <td>2020</td>\n",
              "      <td>8</td>\n",
              "      <td>Gaming</td>\n",
              "    </tr>\n",
              "  </tbody>\n",
              "</table>\n",
              "</div>\n",
              "      <button class=\"colab-df-convert\" onclick=\"convertToInteractive('df-a0e54632-7656-4476-9740-b0226e98098a')\"\n",
              "              title=\"Convert this dataframe to an interactive table.\"\n",
              "              style=\"display:none;\">\n",
              "        \n",
              "  <svg xmlns=\"http://www.w3.org/2000/svg\" height=\"24px\"viewBox=\"0 0 24 24\"\n",
              "       width=\"24px\">\n",
              "    <path d=\"M0 0h24v24H0V0z\" fill=\"none\"/>\n",
              "    <path d=\"M18.56 5.44l.94 2.06.94-2.06 2.06-.94-2.06-.94-.94-2.06-.94 2.06-2.06.94zm-11 1L8.5 8.5l.94-2.06 2.06-.94-2.06-.94L8.5 2.5l-.94 2.06-2.06.94zm10 10l.94 2.06.94-2.06 2.06-.94-2.06-.94-.94-2.06-.94 2.06-2.06.94z\"/><path d=\"M17.41 7.96l-1.37-1.37c-.4-.4-.92-.59-1.43-.59-.52 0-1.04.2-1.43.59L10.3 9.45l-7.72 7.72c-.78.78-.78 2.05 0 2.83L4 21.41c.39.39.9.59 1.41.59.51 0 1.02-.2 1.41-.59l7.78-7.78 2.81-2.81c.8-.78.8-2.07 0-2.86zM5.41 20L4 18.59l7.72-7.72 1.47 1.35L5.41 20z\"/>\n",
              "  </svg>\n",
              "      </button>\n",
              "      \n",
              "  <style>\n",
              "    .colab-df-container {\n",
              "      display:flex;\n",
              "      flex-wrap:wrap;\n",
              "      gap: 12px;\n",
              "    }\n",
              "\n",
              "    .colab-df-convert {\n",
              "      background-color: #E8F0FE;\n",
              "      border: none;\n",
              "      border-radius: 50%;\n",
              "      cursor: pointer;\n",
              "      display: none;\n",
              "      fill: #1967D2;\n",
              "      height: 32px;\n",
              "      padding: 0 0 0 0;\n",
              "      width: 32px;\n",
              "    }\n",
              "\n",
              "    .colab-df-convert:hover {\n",
              "      background-color: #E2EBFA;\n",
              "      box-shadow: 0px 1px 2px rgba(60, 64, 67, 0.3), 0px 1px 3px 1px rgba(60, 64, 67, 0.15);\n",
              "      fill: #174EA6;\n",
              "    }\n",
              "\n",
              "    [theme=dark] .colab-df-convert {\n",
              "      background-color: #3B4455;\n",
              "      fill: #D2E3FC;\n",
              "    }\n",
              "\n",
              "    [theme=dark] .colab-df-convert:hover {\n",
              "      background-color: #434B5C;\n",
              "      box-shadow: 0px 1px 3px 1px rgba(0, 0, 0, 0.15);\n",
              "      filter: drop-shadow(0px 1px 2px rgba(0, 0, 0, 0.3));\n",
              "      fill: #FFFFFF;\n",
              "    }\n",
              "  </style>\n",
              "\n",
              "      <script>\n",
              "        const buttonEl =\n",
              "          document.querySelector('#df-a0e54632-7656-4476-9740-b0226e98098a button.colab-df-convert');\n",
              "        buttonEl.style.display =\n",
              "          google.colab.kernel.accessAllowed ? 'block' : 'none';\n",
              "\n",
              "        async function convertToInteractive(key) {\n",
              "          const element = document.querySelector('#df-a0e54632-7656-4476-9740-b0226e98098a');\n",
              "          const dataTable =\n",
              "            await google.colab.kernel.invokeFunction('convertToInteractive',\n",
              "                                                     [key], {});\n",
              "          if (!dataTable) return;\n",
              "\n",
              "          const docLinkHtml = 'Like what you see? Visit the ' +\n",
              "            '<a target=\"_blank\" href=https://colab.research.google.com/notebooks/data_table.ipynb>data table notebook</a>'\n",
              "            + ' to learn more about interactive tables.';\n",
              "          element.innerHTML = '';\n",
              "          dataTable['output_type'] = 'display_data';\n",
              "          await google.colab.output.renderOutput(dataTable, element);\n",
              "          const docLink = document.createElement('div');\n",
              "          docLink.innerHTML = docLinkHtml;\n",
              "          element.appendChild(docLink);\n",
              "        }\n",
              "      </script>\n",
              "    </div>\n",
              "  </div>\n",
              "  "
            ],
            "text/plain": [
              "      video_id                                              title  \\\n",
              "0  3C66w5Z0ixs                 I ASKED HER TO BE MY GIRLFRIEND...   \n",
              "1  M9Pmf9AB4Mo  Apex Legends | Stories from the Outlands – “Th...   \n",
              "\n",
              "                publishedAt                 channelId  channelTitle  \\\n",
              "0 2020-08-11 19:20:14+00:00  UCvtRTOMP2TqYqu51xNrqAzg      Brawadis   \n",
              "1 2020-08-11 17:00:10+00:00  UC0ZV6M2THA81QT9hrVWJG3A  Apex Legends   \n",
              "\n",
              "   categoryId             trending_date  \\\n",
              "0          22 2020-08-12 00:00:00+00:00   \n",
              "1          20 2020-08-12 00:00:00+00:00   \n",
              "\n",
              "                                                tags  view_count   likes  \\\n",
              "0  brawadis|prank|basketball|skits|ghost|funny vi...     1514614  156908   \n",
              "1  Apex Legends|Apex Legends characters|new Apex ...     2381688  146739   \n",
              "\n",
              "   dislikes  comment_count                                  thumbnail_link  \\\n",
              "0      5855          35313  https://i.ytimg.com/vi/3C66w5Z0ixs/default.jpg   \n",
              "1      2794          16549  https://i.ytimg.com/vi/M9Pmf9AB4Mo/default.jpg   \n",
              "\n",
              "   comments_disabled  ratings_disabled  \\\n",
              "0              False             False   \n",
              "1              False             False   \n",
              "\n",
              "                                         description  year  month  \\\n",
              "0  SUBSCRIBE to BRAWADIS ▶ http://bit.ly/Subscrib...  2020      8   \n",
              "1  While running her own modding shop, Ramya Pare...  2020      8   \n",
              "\n",
              "    category_name  \n",
              "0  People & Blogs  \n",
              "1          Gaming  "
            ]
          },
          "execution_count": 12,
          "metadata": {},
          "output_type": "execute_result"
        }
      ],
      "source": [
        "df.head(2)"
      ]
    },
    {
      "cell_type": "code",
      "execution_count": null,
      "metadata": {
        "id": "iI7liba_TDzs"
      },
      "outputs": [],
      "source": [
        "# Drop useless rows and columns \n",
        "df = df[df.ratings_disabled == False]\n",
        "df = df.drop(['thumbnail_link','ratings_disabled'], axis=1)"
      ]
    },
    {
      "cell_type": "code",
      "execution_count": null,
      "metadata": {
        "colab": {
          "base_uri": "https://localhost:8080/"
        },
        "id": "H3biMEHAZged",
        "outputId": "8aedbc53-09bc-4a40-ef11-c8151bee7b03"
      },
      "outputs": [
        {
          "data": {
            "text/plain": [
              "video_id                0\n",
              "title                   0\n",
              "publishedAt             0\n",
              "channelId               0\n",
              "channelTitle            0\n",
              "categoryId              0\n",
              "trending_date           0\n",
              "tags                    0\n",
              "view_count              0\n",
              "likes                   0\n",
              "dislikes                0\n",
              "comment_count           0\n",
              "comments_disabled       0\n",
              "description          3615\n",
              "year                    0\n",
              "month                   0\n",
              "category_name           0\n",
              "dtype: int64"
            ]
          },
          "execution_count": 22,
          "metadata": {},
          "output_type": "execute_result"
        }
      ],
      "source": [
        "df.isna().sum()"
      ]
    },
    {
      "cell_type": "code",
      "execution_count": null,
      "metadata": {
        "id": "jyVXPzVQabH9"
      },
      "outputs": [],
      "source": [
        "df.description = df.description.fillna('No Description')"
      ]
    },
    {
      "cell_type": "code",
      "execution_count": null,
      "metadata": {
        "colab": {
          "base_uri": "https://localhost:8080/",
          "height": 179
        },
        "id": "GTKHtlXQnlC9",
        "outputId": "b4454477-c5bd-4634-f250-161ee7925b1d"
      },
      "outputs": [
        {
          "data": {
            "text/html": [
              "\n",
              "  <div id=\"df-19d117fe-e9d6-4959-91d0-e6f03b2fc919\">\n",
              "    <div class=\"colab-df-container\">\n",
              "      <div>\n",
              "<style scoped>\n",
              "    .dataframe tbody tr th:only-of-type {\n",
              "        vertical-align: middle;\n",
              "    }\n",
              "\n",
              "    .dataframe tbody tr th {\n",
              "        vertical-align: top;\n",
              "    }\n",
              "\n",
              "    .dataframe thead th {\n",
              "        text-align: right;\n",
              "    }\n",
              "</style>\n",
              "<table border=\"1\" class=\"dataframe\">\n",
              "  <thead>\n",
              "    <tr style=\"text-align: right;\">\n",
              "      <th></th>\n",
              "      <th>video_id</th>\n",
              "      <th>title</th>\n",
              "      <th>publishedAt</th>\n",
              "      <th>channelId</th>\n",
              "      <th>channelTitle</th>\n",
              "      <th>categoryId</th>\n",
              "      <th>trending_date</th>\n",
              "      <th>tags</th>\n",
              "      <th>view_count</th>\n",
              "      <th>likes</th>\n",
              "      <th>dislikes</th>\n",
              "      <th>comment_count</th>\n",
              "      <th>comments_disabled</th>\n",
              "      <th>description</th>\n",
              "      <th>year</th>\n",
              "      <th>month</th>\n",
              "      <th>category_name</th>\n",
              "    </tr>\n",
              "  </thead>\n",
              "  <tbody>\n",
              "    <tr>\n",
              "      <th>0</th>\n",
              "      <td>3C66w5Z0ixs</td>\n",
              "      <td>I ASKED HER TO BE MY GIRLFRIEND...</td>\n",
              "      <td>2020-08-11 19:20:14+00:00</td>\n",
              "      <td>UCvtRTOMP2TqYqu51xNrqAzg</td>\n",
              "      <td>Brawadis</td>\n",
              "      <td>22</td>\n",
              "      <td>2020-08-12 00:00:00+00:00</td>\n",
              "      <td>brawadis|prank|basketball|skits|ghost|funny vi...</td>\n",
              "      <td>1514614</td>\n",
              "      <td>156908</td>\n",
              "      <td>5855</td>\n",
              "      <td>35313</td>\n",
              "      <td>False</td>\n",
              "      <td>SUBSCRIBE to BRAWADIS ▶ http://bit.ly/Subscrib...</td>\n",
              "      <td>2020</td>\n",
              "      <td>8</td>\n",
              "      <td>People &amp; Blogs</td>\n",
              "    </tr>\n",
              "  </tbody>\n",
              "</table>\n",
              "</div>\n",
              "      <button class=\"colab-df-convert\" onclick=\"convertToInteractive('df-19d117fe-e9d6-4959-91d0-e6f03b2fc919')\"\n",
              "              title=\"Convert this dataframe to an interactive table.\"\n",
              "              style=\"display:none;\">\n",
              "        \n",
              "  <svg xmlns=\"http://www.w3.org/2000/svg\" height=\"24px\"viewBox=\"0 0 24 24\"\n",
              "       width=\"24px\">\n",
              "    <path d=\"M0 0h24v24H0V0z\" fill=\"none\"/>\n",
              "    <path d=\"M18.56 5.44l.94 2.06.94-2.06 2.06-.94-2.06-.94-.94-2.06-.94 2.06-2.06.94zm-11 1L8.5 8.5l.94-2.06 2.06-.94-2.06-.94L8.5 2.5l-.94 2.06-2.06.94zm10 10l.94 2.06.94-2.06 2.06-.94-2.06-.94-.94-2.06-.94 2.06-2.06.94z\"/><path d=\"M17.41 7.96l-1.37-1.37c-.4-.4-.92-.59-1.43-.59-.52 0-1.04.2-1.43.59L10.3 9.45l-7.72 7.72c-.78.78-.78 2.05 0 2.83L4 21.41c.39.39.9.59 1.41.59.51 0 1.02-.2 1.41-.59l7.78-7.78 2.81-2.81c.8-.78.8-2.07 0-2.86zM5.41 20L4 18.59l7.72-7.72 1.47 1.35L5.41 20z\"/>\n",
              "  </svg>\n",
              "      </button>\n",
              "      \n",
              "  <style>\n",
              "    .colab-df-container {\n",
              "      display:flex;\n",
              "      flex-wrap:wrap;\n",
              "      gap: 12px;\n",
              "    }\n",
              "\n",
              "    .colab-df-convert {\n",
              "      background-color: #E8F0FE;\n",
              "      border: none;\n",
              "      border-radius: 50%;\n",
              "      cursor: pointer;\n",
              "      display: none;\n",
              "      fill: #1967D2;\n",
              "      height: 32px;\n",
              "      padding: 0 0 0 0;\n",
              "      width: 32px;\n",
              "    }\n",
              "\n",
              "    .colab-df-convert:hover {\n",
              "      background-color: #E2EBFA;\n",
              "      box-shadow: 0px 1px 2px rgba(60, 64, 67, 0.3), 0px 1px 3px 1px rgba(60, 64, 67, 0.15);\n",
              "      fill: #174EA6;\n",
              "    }\n",
              "\n",
              "    [theme=dark] .colab-df-convert {\n",
              "      background-color: #3B4455;\n",
              "      fill: #D2E3FC;\n",
              "    }\n",
              "\n",
              "    [theme=dark] .colab-df-convert:hover {\n",
              "      background-color: #434B5C;\n",
              "      box-shadow: 0px 1px 3px 1px rgba(0, 0, 0, 0.15);\n",
              "      filter: drop-shadow(0px 1px 2px rgba(0, 0, 0, 0.3));\n",
              "      fill: #FFFFFF;\n",
              "    }\n",
              "  </style>\n",
              "\n",
              "      <script>\n",
              "        const buttonEl =\n",
              "          document.querySelector('#df-19d117fe-e9d6-4959-91d0-e6f03b2fc919 button.colab-df-convert');\n",
              "        buttonEl.style.display =\n",
              "          google.colab.kernel.accessAllowed ? 'block' : 'none';\n",
              "\n",
              "        async function convertToInteractive(key) {\n",
              "          const element = document.querySelector('#df-19d117fe-e9d6-4959-91d0-e6f03b2fc919');\n",
              "          const dataTable =\n",
              "            await google.colab.kernel.invokeFunction('convertToInteractive',\n",
              "                                                     [key], {});\n",
              "          if (!dataTable) return;\n",
              "\n",
              "          const docLinkHtml = 'Like what you see? Visit the ' +\n",
              "            '<a target=\"_blank\" href=https://colab.research.google.com/notebooks/data_table.ipynb>data table notebook</a>'\n",
              "            + ' to learn more about interactive tables.';\n",
              "          element.innerHTML = '';\n",
              "          dataTable['output_type'] = 'display_data';\n",
              "          await google.colab.output.renderOutput(dataTable, element);\n",
              "          const docLink = document.createElement('div');\n",
              "          docLink.innerHTML = docLinkHtml;\n",
              "          element.appendChild(docLink);\n",
              "        }\n",
              "      </script>\n",
              "    </div>\n",
              "  </div>\n",
              "  "
            ],
            "text/plain": [
              "      video_id                               title               publishedAt  \\\n",
              "0  3C66w5Z0ixs  I ASKED HER TO BE MY GIRLFRIEND... 2020-08-11 19:20:14+00:00   \n",
              "\n",
              "                  channelId channelTitle  categoryId  \\\n",
              "0  UCvtRTOMP2TqYqu51xNrqAzg     Brawadis          22   \n",
              "\n",
              "              trending_date  \\\n",
              "0 2020-08-12 00:00:00+00:00   \n",
              "\n",
              "                                                tags  view_count   likes  \\\n",
              "0  brawadis|prank|basketball|skits|ghost|funny vi...     1514614  156908   \n",
              "\n",
              "   dislikes  comment_count  comments_disabled  \\\n",
              "0      5855          35313              False   \n",
              "\n",
              "                                         description  year  month  \\\n",
              "0  SUBSCRIBE to BRAWADIS ▶ http://bit.ly/Subscrib...  2020      8   \n",
              "\n",
              "    category_name  \n",
              "0  People & Blogs  "
            ]
          },
          "execution_count": 15,
          "metadata": {},
          "output_type": "execute_result"
        }
      ],
      "source": [
        "df.head(1)"
      ]
    },
    {
      "cell_type": "markdown",
      "metadata": {
        "id": "YvaUU3LiZWoa"
      },
      "source": [
        "## Exploratory Data Analysis (EDA)"
      ]
    },
    {
      "cell_type": "code",
      "execution_count": null,
      "metadata": {
        "id": "-pKg6T0GZbrN"
      },
      "outputs": [],
      "source": [
        "# Top 10 channels\n",
        "channels_2020 = df[df['year']==2020]\n",
        "channels_2020 = channels_2020.groupby(['channelTitle'])['channelTitle'].agg('count').to_frame().rename(columns={'channelTitle':'total'})\n",
        "channels_2020 = channels_2020.sort_values(by='total', ascending=False)\n",
        "\n",
        "channels_2021 = df[df['year']==2021] \n",
        "channels_2021 = channels_2021.groupby(['channelTitle'])['channelTitle'].agg('count').to_frame().rename(columns={'channelTitle':'total'})\n",
        "channels_2021 = channels_2021.sort_values(by='total', ascending=False)\n",
        "\n",
        "channels_2022 = df[df['year']==2022] \n",
        "channels_2022 = channels_2022.groupby(['channelTitle'])['channelTitle'].agg('count').to_frame().rename(columns={'channelTitle':'total'})\n",
        "channels_2022 = channels_2022.sort_values(by='total', ascending=False)"
      ]
    },
    {
      "cell_type": "code",
      "execution_count": null,
      "metadata": {
        "colab": {
          "base_uri": "https://localhost:8080/",
          "height": 676
        },
        "id": "6boiFRQFgsDN",
        "outputId": "9a638b78-38d8-4e6c-b850-7d36c3ee4664"
      },
      "outputs": [
        {
          "data": {
            "image/png": "[encoded data removed]",
            "text/plain": [
              "<Figure size 432x792 with 3 Axes>"
            ]
          },
          "metadata": {
            "needs_background": "light"
          },
          "output_type": "display_data"
        }
      ],
      "source": [
        "plt.figure(figsize=(6,11))\n",
        "plt.subplot(3,1,1)\n",
        "plt.barh(channels_2020.index[:10],channels_2020.total[:10])\n",
        "plt.gca().invert_yaxis()\n",
        "plt.xlabel(\"No. of videos\")\n",
        "plt.ylabel(\"Channel Title\")\n",
        "plt.title(\"2020 Top 10 Trending Channels\")\n",
        "plt.subplot(3,1,2)\n",
        "plt.barh(channels_2021.index[:10],channels_2021.total[:10])\n",
        "plt.gca().invert_yaxis()\n",
        "plt.xlabel(\"No. of videos\")\n",
        "plt.title(\"2021 Top 10 Trending Channels\")\n",
        "plt.subplot(3,1,3)\n",
        "plt.barh(channels_2022.index[:10],channels_2022.total[:10])\n",
        "plt.gca().invert_yaxis()\n",
        "plt.xlabel(\"No. of videos\")\n",
        "plt.title(\"2022 Top 10 Trending Channels\")\n",
        "plt.subplots_adjust(hspace=0.4)\n",
        "plt.show()"
      ]
    },
    {
      "cell_type": "code",
      "execution_count": null,
      "metadata": {
        "id": "zlZzood4ju0Q"
      },
      "outputs": [],
      "source": [
        "cat_2020 = df[df['year']==2020]\n",
        "cat_2020 = cat_2020.groupby(['category_name'])['category_name'].agg('count').to_frame().rename(columns={'category_name':'total'})\n",
        "cat_2020 = cat_2020.sort_values(by='total', ascending=False)\n",
        "\n",
        "cat_2021 = df[df['year']==2021] \n",
        "cat_2021 = cat_2021.groupby(['category_name'])['category_name'].agg('count').to_frame().rename(columns={'category_name':'total'})\n",
        "cat_2021 = cat_2021.sort_values(by='total', ascending=False)\n",
        "\n",
        "cat_2022 = df[df['year']==2022] \n",
        "cat_2022 = cat_2022.groupby(['category_name'])['category_name'].agg('count').to_frame().rename(columns={'category_name':'total'})\n",
        "cat_2022 = cat_2022.sort_values(by='total', ascending=False)"
      ]
    },
    {
      "cell_type": "code",
      "execution_count": null,
      "metadata": {
        "colab": {
          "base_uri": "https://localhost:8080/",
          "height": 214
        },
        "id": "c-oFeLHtkDdd",
        "outputId": "6505780c-e202-4e17-951d-63085613dc6d"
      },
      "outputs": [
        {
          "data": {
            "image/png": "[encoded data removed]",
            "text/plain": [
              "<Figure size 1296x180 with 3 Axes>"
            ]
          },
          "metadata": {
            "needs_background": "light"
          },
          "output_type": "display_data"
        }
      ],
      "source": [
        "plt.figure(figsize=(18,2.5))\n",
        "plt.subplot(1,3,1)\n",
        "plt.barh(cat_2020.index[:5],cat_2020.total[:5])\n",
        "plt.gca().invert_yaxis()\n",
        "plt.xlabel(\"No. of videos\")\n",
        "plt.ylabel(\"Video Category\")\n",
        "plt.title(\"2020(8-12) Top 5 Trending Categories\")\n",
        "plt.subplot(1,3,2)\n",
        "plt.barh(cat_2021.index[:5],cat_2021.total[:5])\n",
        "plt.gca().invert_yaxis()\n",
        "plt.xlabel(\"No. of videos\")\n",
        "plt.title(\"2021 Top 5 Trending Categories\")\n",
        "plt.subplot(1,3,3)\n",
        "plt.barh(cat_2022.index[:5],cat_2022.total[:5])\n",
        "plt.gca().invert_yaxis()\n",
        "plt.xlabel(\"No. of videos\")\n",
        "plt.title(\"2022(1-7) Top 5 Trending Categories\")\n",
        "plt.subplots_adjust(wspace=0.5)\n",
        "plt.show()"
      ]
    },
    {
      "cell_type": "markdown",
      "metadata": {
        "id": "MlqToTAXlimZ"
      },
      "source": [
        "## Feature Engineering"
      ]
    },
    {
      "cell_type": "code",
      "execution_count": null,
      "metadata": {
        "id": "D_QDY_Pzp9sP"
      },
      "outputs": [],
      "source": [
        "df_fe = df.copy(deep=True)"
      ]
    },
    {
      "cell_type": "code",
      "execution_count": null,
      "metadata": {
        "id": "MWb5FY3qpH19"
      },
      "outputs": [],
      "source": [
        "tmp = df_fe.loc[df_fe.groupby('video_id').trending_date.idxmin(),['video_id','trending_date']]\n",
        "df_fe = df_fe.merge(tmp, on='video_id', how='left')"
      ]
    },
    {
      "cell_type": "code",
      "execution_count": null,
      "metadata": {
        "id": "8z7oKZWhlafb"
      },
      "outputs": [],
      "source": [
        "from datetime import timedelta"
      ]
    },
    {
      "cell_type": "markdown",
      "metadata": {
        "id": "PAl-lgABt_PY"
      },
      "source": [
        "Create 'To_be_trend_hours' feature"
      ]
    },
    {
      "cell_type": "code",
      "execution_count": null,
      "metadata": {
        "colab": {
          "base_uri": "https://localhost:8080/",
          "height": 393
        },
        "id": "CGJvdDRgrYFG",
        "outputId": "c8758f37-c07a-4115-bf02-922c7043ff34"
      },
      "outputs": [
        {
          "data": {
            "text/html": [
              "\n",
              "  <div id=\"df-fd4721f3-9a01-43f8-886f-295d41dba63b\">\n",
              "    <div class=\"colab-df-container\">\n",
              "      <div>\n",
              "<style scoped>\n",
              "    .dataframe tbody tr th:only-of-type {\n",
              "        vertical-align: middle;\n",
              "    }\n",
              "\n",
              "    .dataframe tbody tr th {\n",
              "        vertical-align: top;\n",
              "    }\n",
              "\n",
              "    .dataframe thead th {\n",
              "        text-align: right;\n",
              "    }\n",
              "</style>\n",
              "<table border=\"1\" class=\"dataframe\">\n",
              "  <thead>\n",
              "    <tr style=\"text-align: right;\">\n",
              "      <th></th>\n",
              "      <th>video_id</th>\n",
              "      <th>title</th>\n",
              "      <th>publishedAt</th>\n",
              "      <th>channelId</th>\n",
              "      <th>channelTitle</th>\n",
              "      <th>categoryId</th>\n",
              "      <th>trending_date_x</th>\n",
              "      <th>tags</th>\n",
              "      <th>view_count</th>\n",
              "      <th>likes</th>\n",
              "      <th>...</th>\n",
              "      <th>comment_count</th>\n",
              "      <th>comments_disabled</th>\n",
              "      <th>description</th>\n",
              "      <th>year</th>\n",
              "      <th>month</th>\n",
              "      <th>category_name</th>\n",
              "      <th>first_trending_date</th>\n",
              "      <th>to_be_trend</th>\n",
              "      <th>to_be_trend_hours</th>\n",
              "      <th>hours_of_published</th>\n",
              "    </tr>\n",
              "  </thead>\n",
              "  <tbody>\n",
              "    <tr>\n",
              "      <th>0</th>\n",
              "      <td>3C66w5Z0ixs</td>\n",
              "      <td>I ASKED HER TO BE MY GIRLFRIEND...</td>\n",
              "      <td>2020-08-11 19:20:14+00:00</td>\n",
              "      <td>UCvtRTOMP2TqYqu51xNrqAzg</td>\n",
              "      <td>Brawadis</td>\n",
              "      <td>22</td>\n",
              "      <td>2020-08-12 00:00:00+00:00</td>\n",
              "      <td>brawadis|prank|basketball|skits|ghost|funny vi...</td>\n",
              "      <td>1514614</td>\n",
              "      <td>156908</td>\n",
              "      <td>...</td>\n",
              "      <td>35313</td>\n",
              "      <td>False</td>\n",
              "      <td>SUBSCRIBE to BRAWADIS ▶ http://bit.ly/Subscrib...</td>\n",
              "      <td>2020</td>\n",
              "      <td>8</td>\n",
              "      <td>People &amp; Blogs</td>\n",
              "      <td>2020-08-12 00:00:00+00:00</td>\n",
              "      <td>1 days 04:39:46</td>\n",
              "      <td>28.66</td>\n",
              "      <td>4.66</td>\n",
              "    </tr>\n",
              "    <tr>\n",
              "      <th>1</th>\n",
              "      <td>M9Pmf9AB4Mo</td>\n",
              "      <td>Apex Legends | Stories from the Outlands – “Th...</td>\n",
              "      <td>2020-08-11 17:00:10+00:00</td>\n",
              "      <td>UC0ZV6M2THA81QT9hrVWJG3A</td>\n",
              "      <td>Apex Legends</td>\n",
              "      <td>20</td>\n",
              "      <td>2020-08-12 00:00:00+00:00</td>\n",
              "      <td>Apex Legends|Apex Legends characters|new Apex ...</td>\n",
              "      <td>2381688</td>\n",
              "      <td>146739</td>\n",
              "      <td>...</td>\n",
              "      <td>16549</td>\n",
              "      <td>False</td>\n",
              "      <td>While running her own modding shop, Ramya Pare...</td>\n",
              "      <td>2020</td>\n",
              "      <td>8</td>\n",
              "      <td>Gaming</td>\n",
              "      <td>2020-08-12 00:00:00+00:00</td>\n",
              "      <td>1 days 06:59:50</td>\n",
              "      <td>31.00</td>\n",
              "      <td>7.00</td>\n",
              "    </tr>\n",
              "    <tr>\n",
              "      <th>2</th>\n",
              "      <td>J78aPJ3VyNs</td>\n",
              "      <td>I left youtube for a month and THIS is what ha...</td>\n",
              "      <td>2020-08-11 16:34:06+00:00</td>\n",
              "      <td>UCYzPXprvl5Y-Sf0g4vX-m6g</td>\n",
              "      <td>jacksepticeye</td>\n",
              "      <td>24</td>\n",
              "      <td>2020-08-12 00:00:00+00:00</td>\n",
              "      <td>jacksepticeye|funny|funny meme|memes|jacksepti...</td>\n",
              "      <td>2038853</td>\n",
              "      <td>353787</td>\n",
              "      <td>...</td>\n",
              "      <td>40221</td>\n",
              "      <td>False</td>\n",
              "      <td>I left youtube for a month and this is what ha...</td>\n",
              "      <td>2020</td>\n",
              "      <td>8</td>\n",
              "      <td>Entertainment</td>\n",
              "      <td>2020-08-12 00:00:00+00:00</td>\n",
              "      <td>1 days 07:25:54</td>\n",
              "      <td>31.43</td>\n",
              "      <td>7.43</td>\n",
              "    </tr>\n",
              "  </tbody>\n",
              "</table>\n",
              "<p>3 rows × 21 columns</p>\n",
              "</div>\n",
              "      <button class=\"colab-df-convert\" onclick=\"convertToInteractive('df-fd4721f3-9a01-43f8-886f-295d41dba63b')\"\n",
              "              title=\"Convert this dataframe to an interactive table.\"\n",
              "              style=\"display:none;\">\n",
              "        \n",
              "  <svg xmlns=\"http://www.w3.org/2000/svg\" height=\"24px\"viewBox=\"0 0 24 24\"\n",
              "       width=\"24px\">\n",
              "    <path d=\"M0 0h24v24H0V0z\" fill=\"none\"/>\n",
              "    <path d=\"M18.56 5.44l.94 2.06.94-2.06 2.06-.94-2.06-.94-.94-2.06-.94 2.06-2.06.94zm-11 1L8.5 8.5l.94-2.06 2.06-.94-2.06-.94L8.5 2.5l-.94 2.06-2.06.94zm10 10l.94 2.06.94-2.06 2.06-.94-2.06-.94-.94-2.06-.94 2.06-2.06.94z\"/><path d=\"M17.41 7.96l-1.37-1.37c-.4-.4-.92-.59-1.43-.59-.52 0-1.04.2-1.43.59L10.3 9.45l-7.72 7.72c-.78.78-.78 2.05 0 2.83L4 21.41c.39.39.9.59 1.41.59.51 0 1.02-.2 1.41-.59l7.78-7.78 2.81-2.81c.8-.78.8-2.07 0-2.86zM5.41 20L4 18.59l7.72-7.72 1.47 1.35L5.41 20z\"/>\n",
              "  </svg>\n",
              "      </button>\n",
              "      \n",
              "  <style>\n",
              "    .colab-df-container {\n",
              "      display:flex;\n",
              "      flex-wrap:wrap;\n",
              "      gap: 12px;\n",
              "    }\n",
              "\n",
              "    .colab-df-convert {\n",
              "      background-color: #E8F0FE;\n",
              "      border: none;\n",
              "      border-radius: 50%;\n",
              "      cursor: pointer;\n",
              "      display: none;\n",
              "      fill: #1967D2;\n",
              "      height: 32px;\n",
              "      padding: 0 0 0 0;\n",
              "      width: 32px;\n",
              "    }\n",
              "\n",
              "    .colab-df-convert:hover {\n",
              "      background-color: #E2EBFA;\n",
              "      box-shadow: 0px 1px 2px rgba(60, 64, 67, 0.3), 0px 1px 3px 1px rgba(60, 64, 67, 0.15);\n",
              "      fill: #174EA6;\n",
              "    }\n",
              "\n",
              "    [theme=dark] .colab-df-convert {\n",
              "      background-color: #3B4455;\n",
              "      fill: #D2E3FC;\n",
              "    }\n",
              "\n",
              "    [theme=dark] .colab-df-convert:hover {\n",
              "      background-color: #434B5C;\n",
              "      box-shadow: 0px 1px 3px 1px rgba(0, 0, 0, 0.15);\n",
              "      filter: drop-shadow(0px 1px 2px rgba(0, 0, 0, 0.3));\n",
              "      fill: #FFFFFF;\n",
              "    }\n",
              "  </style>\n",
              "\n",
              "      <script>\n",
              "        const buttonEl =\n",
              "          document.querySelector('#df-fd4721f3-9a01-43f8-886f-295d41dba63b button.colab-df-convert');\n",
              "        buttonEl.style.display =\n",
              "          google.colab.kernel.accessAllowed ? 'block' : 'none';\n",
              "\n",
              "        async function convertToInteractive(key) {\n",
              "          const element = document.querySelector('#df-fd4721f3-9a01-43f8-886f-295d41dba63b');\n",
              "          const dataTable =\n",
              "            await google.colab.kernel.invokeFunction('convertToInteractive',\n",
              "                                                     [key], {});\n",
              "          if (!dataTable) return;\n",
              "\n",
              "          const docLinkHtml = 'Like what you see? Visit the ' +\n",
              "            '<a target=\"_blank\" href=https://colab.research.google.com/notebooks/data_table.ipynb>data table notebook</a>'\n",
              "            + ' to learn more about interactive tables.';\n",
              "          element.innerHTML = '';\n",
              "          dataTable['output_type'] = 'display_data';\n",
              "          await google.colab.output.renderOutput(dataTable, element);\n",
              "          const docLink = document.createElement('div');\n",
              "          docLink.innerHTML = docLinkHtml;\n",
              "          element.appendChild(docLink);\n",
              "        }\n",
              "      </script>\n",
              "    </div>\n",
              "  </div>\n",
              "  "
            ],
            "text/plain": [
              "      video_id                                              title  \\\n",
              "0  3C66w5Z0ixs                 I ASKED HER TO BE MY GIRLFRIEND...   \n",
              "1  M9Pmf9AB4Mo  Apex Legends | Stories from the Outlands – “Th...   \n",
              "2  J78aPJ3VyNs  I left youtube for a month and THIS is what ha...   \n",
              "\n",
              "                publishedAt                 channelId   channelTitle  \\\n",
              "0 2020-08-11 19:20:14+00:00  UCvtRTOMP2TqYqu51xNrqAzg       Brawadis   \n",
              "1 2020-08-11 17:00:10+00:00  UC0ZV6M2THA81QT9hrVWJG3A   Apex Legends   \n",
              "2 2020-08-11 16:34:06+00:00  UCYzPXprvl5Y-Sf0g4vX-m6g  jacksepticeye   \n",
              "\n",
              "   categoryId           trending_date_x  \\\n",
              "0          22 2020-08-12 00:00:00+00:00   \n",
              "1          20 2020-08-12 00:00:00+00:00   \n",
              "2          24 2020-08-12 00:00:00+00:00   \n",
              "\n",
              "                                                tags  view_count   likes  ...  \\\n",
              "0  brawadis|prank|basketball|skits|ghost|funny vi...     1514614  156908  ...   \n",
              "1  Apex Legends|Apex Legends characters|new Apex ...     2381688  146739  ...   \n",
              "2  jacksepticeye|funny|funny meme|memes|jacksepti...     2038853  353787  ...   \n",
              "\n",
              "   comment_count  comments_disabled  \\\n",
              "0          35313              False   \n",
              "1          16549              False   \n",
              "2          40221              False   \n",
              "\n",
              "                                         description  year  month  \\\n",
              "0  SUBSCRIBE to BRAWADIS ▶ http://bit.ly/Subscrib...  2020      8   \n",
              "1  While running her own modding shop, Ramya Pare...  2020      8   \n",
              "2  I left youtube for a month and this is what ha...  2020      8   \n",
              "\n",
              "    category_name       first_trending_date     to_be_trend to_be_trend_hours  \\\n",
              "0  People & Blogs 2020-08-12 00:00:00+00:00 1 days 04:39:46             28.66   \n",
              "1          Gaming 2020-08-12 00:00:00+00:00 1 days 06:59:50             31.00   \n",
              "2   Entertainment 2020-08-12 00:00:00+00:00 1 days 07:25:54             31.43   \n",
              "\n",
              "   hours_of_published  \n",
              "0                4.66  \n",
              "1                7.00  \n",
              "2                7.43  \n",
              "\n",
              "[3 rows x 21 columns]"
            ]
          },
          "execution_count": 23,
          "metadata": {},
          "output_type": "execute_result"
        }
      ],
      "source": [
        "df_fe = df_fe.rename(columns={'trending_date_y':'first_trending_date'})\n",
        "df_fe['to_be_trend'] = df_fe['first_trending_date']-df_fe['publishedAt'] + timedelta(days=1)\n",
        "df_fe['to_be_trend_hours'] = round(df_fe['to_be_trend'].dt.total_seconds()/3600,2)\n",
        "df_fe['hours_of_published'] = round((df_fe['trending_date_x']-df_fe['publishedAt']).dt.total_seconds()/3600,2)\n",
        "df_fe.head(3)"
      ]
    },
    {
      "cell_type": "code",
      "execution_count": null,
      "metadata": {
        "id": "D8yddBPhPLAI"
      },
      "outputs": [],
      "source": [
        "df_fe = df_fe[df_fe.video_id!='#NAME?']"
      ]
    },
    {
      "cell_type": "code",
      "execution_count": null,
      "metadata": {
        "colab": {
          "base_uri": "https://localhost:8080/",
          "height": 225
        },
        "id": "cj8U4D9yja6P",
        "outputId": "eacc9c56-ebe5-4729-e8ef-41837bcc5ff8"
      },
      "outputs": [
        {
          "data": {
            "image/png": "[encoded data removed]",
            "text/plain": [
              "<Figure size 360x216 with 1 Axes>"
            ]
          },
          "metadata": {
            "needs_background": "light"
          },
          "output_type": "display_data"
        }
      ],
      "source": [
        "# Creating histogram\n",
        "fig, axs = plt.subplots(1,1,figsize =(5, 3))\n",
        "axs.hist(df_fe.to_be_trend_hours, bins = 30)\n",
        "plt.xlabel('Hours to become trending')\n",
        "plt.ylabel('No. of Videos')\n",
        "# Show plot\n",
        "plt.show()"
      ]
    },
    {
      "cell_type": "code",
      "execution_count": null,
      "metadata": {
        "colab": {
          "base_uri": "https://localhost:8080/",
          "height": 300
        },
        "id": "eyIJdHNSUFHJ",
        "outputId": "3a09e9f3-7874-4386-ff35-167c2b21a580"
      },
      "outputs": [
        {
          "data": {
            "text/html": [
              "\n",
              "  <div id=\"df-2f847d61-72e1-4bf8-9610-20950786868e\">\n",
              "    <div class=\"colab-df-container\">\n",
              "      <div>\n",
              "<style scoped>\n",
              "    .dataframe tbody tr th:only-of-type {\n",
              "        vertical-align: middle;\n",
              "    }\n",
              "\n",
              "    .dataframe tbody tr th {\n",
              "        vertical-align: top;\n",
              "    }\n",
              "\n",
              "    .dataframe thead th {\n",
              "        text-align: right;\n",
              "    }\n",
              "</style>\n",
              "<table border=\"1\" class=\"dataframe\">\n",
              "  <thead>\n",
              "    <tr style=\"text-align: right;\">\n",
              "      <th></th>\n",
              "      <th>categoryId</th>\n",
              "      <th>view_count</th>\n",
              "      <th>likes</th>\n",
              "      <th>dislikes</th>\n",
              "      <th>comment_count</th>\n",
              "      <th>year</th>\n",
              "      <th>month</th>\n",
              "      <th>to_be_trend</th>\n",
              "      <th>to_be_trend_hours</th>\n",
              "      <th>hours_of_published</th>\n",
              "    </tr>\n",
              "  </thead>\n",
              "  <tbody>\n",
              "    <tr>\n",
              "      <th>count</th>\n",
              "      <td>140644.000000</td>\n",
              "      <td>1.406440e+05</td>\n",
              "      <td>1.406440e+05</td>\n",
              "      <td>140644.000000</td>\n",
              "      <td>1.406440e+05</td>\n",
              "      <td>140644.000000</td>\n",
              "      <td>140644.000000</td>\n",
              "      <td>140644</td>\n",
              "      <td>140644.000000</td>\n",
              "      <td>140644.000000</td>\n",
              "    </tr>\n",
              "    <tr>\n",
              "      <th>mean</th>\n",
              "      <td>18.840356</td>\n",
              "      <td>2.626862e+06</td>\n",
              "      <td>1.415421e+05</td>\n",
              "      <td>2153.227724</td>\n",
              "      <td>1.170308e+04</td>\n",
              "      <td>2021.081198</td>\n",
              "      <td>6.472356</td>\n",
              "      <td>1 days 19:15:42.812050283</td>\n",
              "      <td>43.262471</td>\n",
              "      <td>81.127097</td>\n",
              "    </tr>\n",
              "    <tr>\n",
              "      <th>std</th>\n",
              "      <td>6.780104</td>\n",
              "      <td>6.863514e+06</td>\n",
              "      <td>4.062682e+05</td>\n",
              "      <td>11021.799881</td>\n",
              "      <td>8.361019e+04</td>\n",
              "      <td>0.689642</td>\n",
              "      <td>3.449217</td>\n",
              "      <td>0 days 21:22:28.259185927</td>\n",
              "      <td>21.374488</td>\n",
              "      <td>57.047051</td>\n",
              "    </tr>\n",
              "    <tr>\n",
              "      <th>min</th>\n",
              "      <td>1.000000</td>\n",
              "      <td>0.000000e+00</td>\n",
              "      <td>1.700000e+01</td>\n",
              "      <td>0.000000</td>\n",
              "      <td>0.000000e+00</td>\n",
              "      <td>2020.000000</td>\n",
              "      <td>1.000000</td>\n",
              "      <td>0 days 09:59:50</td>\n",
              "      <td>10.000000</td>\n",
              "      <td>-14.000000</td>\n",
              "    </tr>\n",
              "    <tr>\n",
              "      <th>25%</th>\n",
              "      <td>17.000000</td>\n",
              "      <td>5.074288e+05</td>\n",
              "      <td>2.082700e+04</td>\n",
              "      <td>0.000000</td>\n",
              "      <td>1.438000e+03</td>\n",
              "      <td>2021.000000</td>\n",
              "      <td>4.000000</td>\n",
              "      <td>1 days 07:58:52</td>\n",
              "      <td>31.980000</td>\n",
              "      <td>42.000000</td>\n",
              "    </tr>\n",
              "    <tr>\n",
              "      <th>50%</th>\n",
              "      <td>20.000000</td>\n",
              "      <td>1.039831e+06</td>\n",
              "      <td>4.849500e+04</td>\n",
              "      <td>409.000000</td>\n",
              "      <td>3.273000e+03</td>\n",
              "      <td>2021.000000</td>\n",
              "      <td>6.000000</td>\n",
              "      <td>1 days 16:55:17</td>\n",
              "      <td>40.920000</td>\n",
              "      <td>77.000000</td>\n",
              "    </tr>\n",
              "    <tr>\n",
              "      <th>75%</th>\n",
              "      <td>24.000000</td>\n",
              "      <td>2.341888e+06</td>\n",
              "      <td>1.219418e+05</td>\n",
              "      <td>1403.000000</td>\n",
              "      <td>7.889000e+03</td>\n",
              "      <td>2022.000000</td>\n",
              "      <td>10.000000</td>\n",
              "      <td>2 days 02:59:59</td>\n",
              "      <td>51.000000</td>\n",
              "      <td>111.000000</td>\n",
              "    </tr>\n",
              "    <tr>\n",
              "      <th>max</th>\n",
              "      <td>29.000000</td>\n",
              "      <td>2.644074e+08</td>\n",
              "      <td>1.602153e+07</td>\n",
              "      <td>879354.000000</td>\n",
              "      <td>6.738537e+06</td>\n",
              "      <td>2022.000000</td>\n",
              "      <td>12.000000</td>\n",
              "      <td>28 days 18:37:08</td>\n",
              "      <td>690.620000</td>\n",
              "      <td>866.890000</td>\n",
              "    </tr>\n",
              "  </tbody>\n",
              "</table>\n",
              "</div>\n",
              "      <button class=\"colab-df-convert\" onclick=\"convertToInteractive('df-2f847d61-72e1-4bf8-9610-20950786868e')\"\n",
              "              title=\"Convert this dataframe to an interactive table.\"\n",
              "              style=\"display:none;\">\n",
              "        \n",
              "  <svg xmlns=\"http://www.w3.org/2000/svg\" height=\"24px\"viewBox=\"0 0 24 24\"\n",
              "       width=\"24px\">\n",
              "    <path d=\"M0 0h24v24H0V0z\" fill=\"none\"/>\n",
              "    <path d=\"M18.56 5.44l.94 2.06.94-2.06 2.06-.94-2.06-.94-.94-2.06-.94 2.06-2.06.94zm-11 1L8.5 8.5l.94-2.06 2.06-.94-2.06-.94L8.5 2.5l-.94 2.06-2.06.94zm10 10l.94 2.06.94-2.06 2.06-.94-2.06-.94-.94-2.06-.94 2.06-2.06.94z\"/><path d=\"M17.41 7.96l-1.37-1.37c-.4-.4-.92-.59-1.43-.59-.52 0-1.04.2-1.43.59L10.3 9.45l-7.72 7.72c-.78.78-.78 2.05 0 2.83L4 21.41c.39.39.9.59 1.41.59.51 0 1.02-.2 1.41-.59l7.78-7.78 2.81-2.81c.8-.78.8-2.07 0-2.86zM5.41 20L4 18.59l7.72-7.72 1.47 1.35L5.41 20z\"/>\n",
              "  </svg>\n",
              "      </button>\n",
              "      \n",
              "  <style>\n",
              "    .colab-df-container {\n",
              "      display:flex;\n",
              "      flex-wrap:wrap;\n",
              "      gap: 12px;\n",
              "    }\n",
              "\n",
              "    .colab-df-convert {\n",
              "      background-color: #E8F0FE;\n",
              "      border: none;\n",
              "      border-radius: 50%;\n",
              "      cursor: pointer;\n",
              "      display: none;\n",
              "      fill: #1967D2;\n",
              "      height: 32px;\n",
              "      padding: 0 0 0 0;\n",
              "      width: 32px;\n",
              "    }\n",
              "\n",
              "    .colab-df-convert:hover {\n",
              "      background-color: #E2EBFA;\n",
              "      box-shadow: 0px 1px 2px rgba(60, 64, 67, 0.3), 0px 1px 3px 1px rgba(60, 64, 67, 0.15);\n",
              "      fill: #174EA6;\n",
              "    }\n",
              "\n",
              "    [theme=dark] .colab-df-convert {\n",
              "      background-color: #3B4455;\n",
              "      fill: #D2E3FC;\n",
              "    }\n",
              "\n",
              "    [theme=dark] .colab-df-convert:hover {\n",
              "      background-color: #434B5C;\n",
              "      box-shadow: 0px 1px 3px 1px rgba(0, 0, 0, 0.15);\n",
              "      filter: drop-shadow(0px 1px 2px rgba(0, 0, 0, 0.3));\n",
              "      fill: #FFFFFF;\n",
              "    }\n",
              "  </style>\n",
              "\n",
              "      <script>\n",
              "        const buttonEl =\n",
              "          document.querySelector('#df-2f847d61-72e1-4bf8-9610-20950786868e button.colab-df-convert');\n",
              "        buttonEl.style.display =\n",
              "          google.colab.kernel.accessAllowed ? 'block' : 'none';\n",
              "\n",
              "        async function convertToInteractive(key) {\n",
              "          const element = document.querySelector('#df-2f847d61-72e1-4bf8-9610-20950786868e');\n",
              "          const dataTable =\n",
              "            await google.colab.kernel.invokeFunction('convertToInteractive',\n",
              "                                                     [key], {});\n",
              "          if (!dataTable) return;\n",
              "\n",
              "          const docLinkHtml = 'Like what you see? Visit the ' +\n",
              "            '<a target=\"_blank\" href=https://colab.research.google.com/notebooks/data_table.ipynb>data table notebook</a>'\n",
              "            + ' to learn more about interactive tables.';\n",
              "          element.innerHTML = '';\n",
              "          dataTable['output_type'] = 'display_data';\n",
              "          await google.colab.output.renderOutput(dataTable, element);\n",
              "          const docLink = document.createElement('div');\n",
              "          docLink.innerHTML = docLinkHtml;\n",
              "          element.appendChild(docLink);\n",
              "        }\n",
              "      </script>\n",
              "    </div>\n",
              "  </div>\n",
              "  "
            ],
            "text/plain": [
              "          categoryId    view_count         likes       dislikes  \\\n",
              "count  140644.000000  1.406440e+05  1.406440e+05  140644.000000   \n",
              "mean       18.840356  2.626862e+06  1.415421e+05    2153.227724   \n",
              "std         6.780104  6.863514e+06  4.062682e+05   11021.799881   \n",
              "min         1.000000  0.000000e+00  1.700000e+01       0.000000   \n",
              "25%        17.000000  5.074288e+05  2.082700e+04       0.000000   \n",
              "50%        20.000000  1.039831e+06  4.849500e+04     409.000000   \n",
              "75%        24.000000  2.341888e+06  1.219418e+05    1403.000000   \n",
              "max        29.000000  2.644074e+08  1.602153e+07  879354.000000   \n",
              "\n",
              "       comment_count           year          month                to_be_trend  \\\n",
              "count   1.406440e+05  140644.000000  140644.000000                     140644   \n",
              "mean    1.170308e+04    2021.081198       6.472356  1 days 19:15:42.812050283   \n",
              "std     8.361019e+04       0.689642       3.449217  0 days 21:22:28.259185927   \n",
              "min     0.000000e+00    2020.000000       1.000000            0 days 09:59:50   \n",
              "25%     1.438000e+03    2021.000000       4.000000            1 days 07:58:52   \n",
              "50%     3.273000e+03    2021.000000       6.000000            1 days 16:55:17   \n",
              "75%     7.889000e+03    2022.000000      10.000000            2 days 02:59:59   \n",
              "max     6.738537e+06    2022.000000      12.000000           28 days 18:37:08   \n",
              "\n",
              "       to_be_trend_hours  hours_of_published  \n",
              "count      140644.000000       140644.000000  \n",
              "mean           43.262471           81.127097  \n",
              "std            21.374488           57.047051  \n",
              "min            10.000000          -14.000000  \n",
              "25%            31.980000           42.000000  \n",
              "50%            40.920000           77.000000  \n",
              "75%            51.000000          111.000000  \n",
              "max           690.620000          866.890000  "
            ]
          },
          "execution_count": 26,
          "metadata": {},
          "output_type": "execute_result"
        }
      ],
      "source": [
        "df_fe.describe()"
      ]
    },
    {
      "cell_type": "markdown",
      "metadata": {
        "id": "DgutvXthnQM9"
      },
      "source": [
        "Note: 75% trending videos get on the trending page in around 2 days, which means if they cannot become trending in 5 days, it would be hard for them to be trend later."
      ]
    },
    {
      "cell_type": "code",
      "execution_count": null,
      "metadata": {
        "colab": {
          "base_uri": "https://localhost:8080/"
        },
        "id": "ogBQTbPqtnpW",
        "outputId": "6f2a3e22-dddb-401a-fda3-a18305e25a83"
      },
      "outputs": [
        {
          "data": {
            "text/plain": [
              "(25803, 21)"
            ]
          },
          "execution_count": 27,
          "metadata": {},
          "output_type": "execute_result"
        }
      ],
      "source": [
        "df_fe_1 = df_fe.loc[df_fe.groupby('video_id').trending_date_x.idxmax()]\n",
        "df_fe_1.shape"
      ]
    },
    {
      "cell_type": "code",
      "execution_count": null,
      "metadata": {
        "colab": {
          "base_uri": "https://localhost:8080/",
          "height": 310
        },
        "id": "Ei_QrRqtt-CY",
        "outputId": "b6470986-142f-49f2-9e3e-e56e7222611c"
      },
      "outputs": [
        {
          "data": {
            "text/html": [
              "\n",
              "  <div id=\"df-3e234ed4-6c6a-4c70-a416-915b07641b61\">\n",
              "    <div class=\"colab-df-container\">\n",
              "      <div>\n",
              "<style scoped>\n",
              "    .dataframe tbody tr th:only-of-type {\n",
              "        vertical-align: middle;\n",
              "    }\n",
              "\n",
              "    .dataframe tbody tr th {\n",
              "        vertical-align: top;\n",
              "    }\n",
              "\n",
              "    .dataframe thead th {\n",
              "        text-align: right;\n",
              "    }\n",
              "</style>\n",
              "<table border=\"1\" class=\"dataframe\">\n",
              "  <thead>\n",
              "    <tr style=\"text-align: right;\">\n",
              "      <th></th>\n",
              "      <th>video_id</th>\n",
              "      <th>title</th>\n",
              "      <th>publishedAt</th>\n",
              "      <th>channelId</th>\n",
              "      <th>channelTitle</th>\n",
              "      <th>categoryId</th>\n",
              "      <th>trending_date_x</th>\n",
              "      <th>tags</th>\n",
              "      <th>view_count</th>\n",
              "      <th>likes</th>\n",
              "      <th>...</th>\n",
              "      <th>description</th>\n",
              "      <th>year</th>\n",
              "      <th>month</th>\n",
              "      <th>category_name</th>\n",
              "      <th>first_trending_date</th>\n",
              "      <th>to_be_trend</th>\n",
              "      <th>to_be_trend_hours</th>\n",
              "      <th>hours_of_published</th>\n",
              "      <th>title_length</th>\n",
              "      <th>Num_words_title</th>\n",
              "    </tr>\n",
              "  </thead>\n",
              "  <tbody>\n",
              "    <tr>\n",
              "      <th>62082</th>\n",
              "      <td>--14w5SOEUs</td>\n",
              "      <td>Migos - Avalanche (Official Video)</td>\n",
              "      <td>2021-06-10 16:00:00+00:00</td>\n",
              "      <td>UCGIelM2Dj3zza3xyV3pL3WQ</td>\n",
              "      <td>MigosVEVO</td>\n",
              "      <td>10</td>\n",
              "      <td>2021-06-15 00:00:00+00:00</td>\n",
              "      <td>Migos|Avalanche|Quality|Control|Music/Motown|R...</td>\n",
              "      <td>6553613</td>\n",
              "      <td>258885</td>\n",
              "      <td>...</td>\n",
              "      <td>Watch the the official video for Migos - Avala...</td>\n",
              "      <td>2021</td>\n",
              "      <td>6</td>\n",
              "      <td>Music</td>\n",
              "      <td>2021-06-11 00:00:00+00:00</td>\n",
              "      <td>1 days 08:00:00</td>\n",
              "      <td>32.00</td>\n",
              "      <td>104.00</td>\n",
              "      <td>34</td>\n",
              "      <td>5</td>\n",
              "    </tr>\n",
              "    <tr>\n",
              "      <th>116180</th>\n",
              "      <td>--2O86Z0hsM</td>\n",
              "      <td>MY TESLA PAYS FOR ITSELF</td>\n",
              "      <td>2022-03-09 23:19:08+00:00</td>\n",
              "      <td>UCXJEvxZSozjAAqhbMfhIArA</td>\n",
              "      <td>jf.okay</td>\n",
              "      <td>24</td>\n",
              "      <td>2022-03-15 00:00:00+00:00</td>\n",
              "      <td>[None]</td>\n",
              "      <td>538485</td>\n",
              "      <td>17290</td>\n",
              "      <td>...</td>\n",
              "      <td>No Description</td>\n",
              "      <td>2022</td>\n",
              "      <td>3</td>\n",
              "      <td>Entertainment</td>\n",
              "      <td>2022-03-11 00:00:00+00:00</td>\n",
              "      <td>2 days 00:40:52</td>\n",
              "      <td>48.68</td>\n",
              "      <td>120.68</td>\n",
              "      <td>24</td>\n",
              "      <td>5</td>\n",
              "    </tr>\n",
              "  </tbody>\n",
              "</table>\n",
              "<p>2 rows × 23 columns</p>\n",
              "</div>\n",
              "      <button class=\"colab-df-convert\" onclick=\"convertToInteractive('df-3e234ed4-6c6a-4c70-a416-915b07641b61')\"\n",
              "              title=\"Convert this dataframe to an interactive table.\"\n",
              "              style=\"display:none;\">\n",
              "        \n",
              "  <svg xmlns=\"http://www.w3.org/2000/svg\" height=\"24px\"viewBox=\"0 0 24 24\"\n",
              "       width=\"24px\">\n",
              "    <path d=\"M0 0h24v24H0V0z\" fill=\"none\"/>\n",
              "    <path d=\"M18.56 5.44l.94 2.06.94-2.06 2.06-.94-2.06-.94-.94-2.06-.94 2.06-2.06.94zm-11 1L8.5 8.5l.94-2.06 2.06-.94-2.06-.94L8.5 2.5l-.94 2.06-2.06.94zm10 10l.94 2.06.94-2.06 2.06-.94-2.06-.94-.94-2.06-.94 2.06-2.06.94z\"/><path d=\"M17.41 7.96l-1.37-1.37c-.4-.4-.92-.59-1.43-.59-.52 0-1.04.2-1.43.59L10.3 9.45l-7.72 7.72c-.78.78-.78 2.05 0 2.83L4 21.41c.39.39.9.59 1.41.59.51 0 1.02-.2 1.41-.59l7.78-7.78 2.81-2.81c.8-.78.8-2.07 0-2.86zM5.41 20L4 18.59l7.72-7.72 1.47 1.35L5.41 20z\"/>\n",
              "  </svg>\n",
              "      </button>\n",
              "      \n",
              "  <style>\n",
              "    .colab-df-container {\n",
              "      display:flex;\n",
              "      flex-wrap:wrap;\n",
              "      gap: 12px;\n",
              "    }\n",
              "\n",
              "    .colab-df-convert {\n",
              "      background-color: #E8F0FE;\n",
              "      border: none;\n",
              "      border-radius: 50%;\n",
              "      cursor: pointer;\n",
              "      display: none;\n",
              "      fill: #1967D2;\n",
              "      height: 32px;\n",
              "      padding: 0 0 0 0;\n",
              "      width: 32px;\n",
              "    }\n",
              "\n",
              "    .colab-df-convert:hover {\n",
              "      background-color: #E2EBFA;\n",
              "      box-shadow: 0px 1px 2px rgba(60, 64, 67, 0.3), 0px 1px 3px 1px rgba(60, 64, 67, 0.15);\n",
              "      fill: #174EA6;\n",
              "    }\n",
              "\n",
              "    [theme=dark] .colab-df-convert {\n",
              "      background-color: #3B4455;\n",
              "      fill: #D2E3FC;\n",
              "    }\n",
              "\n",
              "    [theme=dark] .colab-df-convert:hover {\n",
              "      background-color: #434B5C;\n",
              "      box-shadow: 0px 1px 3px 1px rgba(0, 0, 0, 0.15);\n",
              "      filter: drop-shadow(0px 1px 2px rgba(0, 0, 0, 0.3));\n",
              "      fill: #FFFFFF;\n",
              "    }\n",
              "  </style>\n",
              "\n",
              "      <script>\n",
              "        const buttonEl =\n",
              "          document.querySelector('#df-3e234ed4-6c6a-4c70-a416-915b07641b61 button.colab-df-convert');\n",
              "        buttonEl.style.display =\n",
              "          google.colab.kernel.accessAllowed ? 'block' : 'none';\n",
              "\n",
              "        async function convertToInteractive(key) {\n",
              "          const element = document.querySelector('#df-3e234ed4-6c6a-4c70-a416-915b07641b61');\n",
              "          const dataTable =\n",
              "            await google.colab.kernel.invokeFunction('convertToInteractive',\n",
              "                                                     [key], {});\n",
              "          if (!dataTable) return;\n",
              "\n",
              "          const docLinkHtml = 'Like what you see? Visit the ' +\n",
              "            '<a target=\"_blank\" href=https://colab.research.google.com/notebooks/data_table.ipynb>data table notebook</a>'\n",
              "            + ' to learn more about interactive tables.';\n",
              "          element.innerHTML = '';\n",
              "          dataTable['output_type'] = 'display_data';\n",
              "          await google.colab.output.renderOutput(dataTable, element);\n",
              "          const docLink = document.createElement('div');\n",
              "          docLink.innerHTML = docLinkHtml;\n",
              "          element.appendChild(docLink);\n",
              "        }\n",
              "      </script>\n",
              "    </div>\n",
              "  </div>\n",
              "  "
            ],
            "text/plain": [
              "           video_id                               title  \\\n",
              "62082   --14w5SOEUs  Migos - Avalanche (Official Video)   \n",
              "116180  --2O86Z0hsM            MY TESLA PAYS FOR ITSELF   \n",
              "\n",
              "                     publishedAt                 channelId channelTitle  \\\n",
              "62082  2021-06-10 16:00:00+00:00  UCGIelM2Dj3zza3xyV3pL3WQ    MigosVEVO   \n",
              "116180 2022-03-09 23:19:08+00:00  UCXJEvxZSozjAAqhbMfhIArA      jf.okay   \n",
              "\n",
              "        categoryId           trending_date_x  \\\n",
              "62082           10 2021-06-15 00:00:00+00:00   \n",
              "116180          24 2022-03-15 00:00:00+00:00   \n",
              "\n",
              "                                                     tags  view_count   likes  \\\n",
              "62082   Migos|Avalanche|Quality|Control|Music/Motown|R...     6553613  258885   \n",
              "116180                                             [None]      538485   17290   \n",
              "\n",
              "        ...                                        description  year  month  \\\n",
              "62082   ...  Watch the the official video for Migos - Avala...  2021      6   \n",
              "116180  ...                                     No Description  2022      3   \n",
              "\n",
              "        category_name       first_trending_date     to_be_trend  \\\n",
              "62082           Music 2021-06-11 00:00:00+00:00 1 days 08:00:00   \n",
              "116180  Entertainment 2022-03-11 00:00:00+00:00 2 days 00:40:52   \n",
              "\n",
              "       to_be_trend_hours hours_of_published title_length  Num_words_title  \n",
              "62082              32.00             104.00           34                5  \n",
              "116180             48.68             120.68           24                5  \n",
              "\n",
              "[2 rows x 23 columns]"
            ]
          },
          "execution_count": 28,
          "metadata": {},
          "output_type": "execute_result"
        }
      ],
      "source": [
        "df_fe_1['title_length'] = df_fe_1['title'].str.len()\n",
        "df_fe_1['Num_words_title'] = df_fe_1['title'].str.split().apply(len)\n",
        "df_fe_1.head(2)"
      ]
    },
    {
      "cell_type": "markdown",
      "metadata": {
        "id": "MO3fZVC1vs33"
      },
      "source": [
        "Note: 'title_length\" and \"number of word in title\" features are created"
      ]
    },
    {
      "cell_type": "code",
      "execution_count": null,
      "metadata": {
        "id": "V7Fx6_fevrus"
      },
      "outputs": [],
      "source": [
        "def getDaytime(x):\n",
        "    if x.hour>4 and x.hour<=10:\n",
        "        return 'Morning'\n",
        "    elif x.hour>10 and x.hour<=16:\n",
        "        return 'Afternoon'\n",
        "    elif x.hour>16 and x.hour<=22:\n",
        "        return 'Evening'\n",
        "    else:\n",
        "        return 'Night'\n",
        "\n",
        "df_fe_1[\"daytime\"]=df_fe_1.publishedAt.apply(lambda x: getDaytime(x))"
      ]
    },
    {
      "cell_type": "code",
      "execution_count": null,
      "metadata": {
        "colab": {
          "base_uri": "https://localhost:8080/",
          "height": 307
        },
        "id": "p7Qm0vMC4CSW",
        "outputId": "4f19ddf4-99d8-4e39-9926-e6a435c3bf5f"
      },
      "outputs": [
        {
          "data": {
            "text/plain": [
              "<matplotlib.axes._subplots.AxesSubplot at 0x7f970228b3d0>"
            ]
          },
          "execution_count": 30,
          "metadata": {},
          "output_type": "execute_result"
        },
        {
          "data": {
            "image/png": "[encoded data removed]",
            "text/plain": [
              "<Figure size 432x288 with 1 Axes>"
            ]
          },
          "metadata": {
            "needs_background": "light"
          },
          "output_type": "display_data"
        }
      ],
      "source": [
        "sns.boxplot(x=\"daytime\", y=\"view_count\",data=df_fe_1)"
      ]
    },
    {
      "cell_type": "code",
      "execution_count": null,
      "metadata": {
        "colab": {
          "base_uri": "https://localhost:8080/",
          "height": 241
        },
        "id": "5bwkpcreogJW",
        "outputId": "35b7b266-5113-472c-e814-8873e9cba071"
      },
      "outputs": [
        {
          "data": {
            "image/png": "[encoded data removed]",
            "text/plain": [
              "<Figure size 1152x216 with 3 Axes>"
            ]
          },
          "metadata": {
            "needs_background": "light"
          },
          "output_type": "display_data"
        }
      ],
      "source": [
        "#Checking Video counts and Avg likes by plotting them\n",
        "tmp = df_fe_1.groupby('daytime').agg({'daytime':'count','likes':'mean','dislikes':'mean'})\n",
        "plt.figure(figsize=(16,3))\n",
        "plt.subplot(1,3,1)\n",
        "plt.title (\"Video Count\")\n",
        "sns.barplot(x=tmp.index, y= 'daytime', data=tmp)\n",
        "plt.subplot(1,3,2)\n",
        "plt.title (\"Average Likes\")\n",
        "sns.barplot(x=tmp.index, y= 'likes', data=tmp)\n",
        "plt.subplot(1,3,3)\n",
        "plt.title (\"Average Dislikes\")\n",
        "sns.barplot(x=tmp.index, y= 'dislikes', data=tmp)\n",
        "plt.subplots_adjust(wspace=0.3)\n",
        "plt.show()"
      ]
    },
    {
      "cell_type": "code",
      "execution_count": null,
      "metadata": {
        "id": "Tgi2d8Ps4Txm"
      },
      "outputs": [],
      "source": [
        "df_fe_1['pop_daytime'] = np.where(df_fe_1['daytime'].isin(['Morning','Night']),1,0)"
      ]
    },
    {
      "cell_type": "code",
      "execution_count": null,
      "metadata": {
        "colab": {
          "base_uri": "https://localhost:8080/",
          "height": 307
        },
        "id": "3X3lJjS6w5xH",
        "outputId": "baf417a6-cd8e-45e2-859a-a5ca6ef5f424"
      },
      "outputs": [
        {
          "data": {
            "text/plain": [
              "<matplotlib.axes._subplots.AxesSubplot at 0x7f970228b2d0>"
            ]
          },
          "execution_count": 33,
          "metadata": {},
          "output_type": "execute_result"
        },
        {
          "data": {
            "image/png": "[encoded data removed]",
            "text/plain": [
              "<Figure size 432x288 with 1 Axes>"
            ]
          },
          "metadata": {
            "needs_background": "light"
          },
          "output_type": "display_data"
        }
      ],
      "source": [
        "sns.boxplot(x=\"categoryId\", y=\"view_count\",data=df_fe_1)"
      ]
    },
    {
      "cell_type": "code",
      "execution_count": null,
      "metadata": {
        "id": "NnPTiqSc3PFf"
      },
      "outputs": [],
      "source": [
        "df_fe_1['pop_category'] = np.where(df_fe_1['categoryId'].isin([10,24]),1,0)\n",
        "df_fe_1['trend_in_20'] = np.where(df_fe_1['to_be_trend_hours']<=30,1,0)"
      ]
    },
    {
      "cell_type": "code",
      "execution_count": null,
      "metadata": {
        "colab": {
          "base_uri": "https://localhost:8080/",
          "height": 307
        },
        "id": "RFR6TPw67EbR",
        "outputId": "76dada8c-00dc-4c48-f3b9-f6b0b6377aad"
      },
      "outputs": [
        {
          "data": {
            "text/plain": [
              "<matplotlib.axes._subplots.AxesSubplot at 0x7f9701e473d0>"
            ]
          },
          "execution_count": 35,
          "metadata": {},
          "output_type": "execute_result"
        },
        {
          "data": {
            "image/png": "[encoded data removed]",
            "text/plain": [
              "<Figure size 432x288 with 1 Axes>"
            ]
          },
          "metadata": {
            "needs_background": "light"
          },
          "output_type": "display_data"
        }
      ],
      "source": [
        "df_fe_1['weekday'] = df_fe_1.publishedAt.dt.dayofweek\n",
        "sns.boxplot(x=\"weekday\", y=\"view_count\",data=df_fe_1)"
      ]
    },
    {
      "cell_type": "code",
      "execution_count": null,
      "metadata": {
        "colab": {
          "base_uri": "https://localhost:8080/",
          "height": 295
        },
        "id": "E4O_i6UGqX5t",
        "outputId": "c63d6f35-f5bd-416f-94ab-4956d60b68a0"
      },
      "outputs": [
        {
          "data": {
            "image/png": "[encoded data removed]",
            "text/plain": [
              "<Figure size 1080x288 with 3 Axes>"
            ]
          },
          "metadata": {
            "needs_background": "light"
          },
          "output_type": "display_data"
        }
      ],
      "source": [
        "#Checking Video counts and Avg likes Weekley by plotting them\n",
        "tmp = df_fe_1.groupby('weekday').agg({'weekday':'count','likes':'mean','dislikes':'mean'}) \n",
        "plt.figure(figsize=(15,4))\n",
        "plt.subplot(1,3,1)\n",
        "plt.title (\"Video Count\")\n",
        "sns.barplot(x=tmp.index, y= 'weekday', data=tmp)\n",
        "plt.subplot(1,3,2)\n",
        "plt.title (\"Average Likes\")\n",
        "sns.barplot(x=tmp.index, y= 'likes', data=tmp)\n",
        "plt.subplot(1,3,3)\n",
        "plt.title (\"Average Dislikes\")\n",
        "sns.barplot(x=tmp.index, y= 'dislikes', data=tmp)\n",
        "plt.subplots_adjust(wspace=0.3)\n",
        "plt.show()"
      ]
    },
    {
      "cell_type": "code",
      "execution_count": null,
      "metadata": {
        "id": "j9t_Ua_a7ZDW"
      },
      "outputs": [],
      "source": [
        "df_fe_1['publish_weekday'] = np.where(df_fe_1['weekday']==4,1,0)"
      ]
    },
    {
      "cell_type": "code",
      "execution_count": null,
      "metadata": {
        "colab": {
          "base_uri": "https://localhost:8080/",
          "height": 307
        },
        "id": "KR-MunlO9K8q",
        "outputId": "a95762bd-2326-4351-9668-e1f5a8b32bff"
      },
      "outputs": [
        {
          "data": {
            "text/plain": [
              "<matplotlib.axes._subplots.AxesSubplot at 0x7f9701c2c850>"
            ]
          },
          "execution_count": 38,
          "metadata": {},
          "output_type": "execute_result"
        },
        {
          "data": {
            "image/png": "[encoded data removed]",
            "text/plain": [
              "<Figure size 432x288 with 1 Axes>"
            ]
          },
          "metadata": {
            "needs_background": "light"
          },
          "output_type": "display_data"
        }
      ],
      "source": [
        "sns.boxplot(x=\"month\", y=\"view_count\",data=df_fe_1)"
      ]
    },
    {
      "cell_type": "code",
      "execution_count": null,
      "metadata": {
        "colab": {
          "base_uri": "https://localhost:8080/",
          "height": 297
        },
        "id": "AQZUAeiq-8dO",
        "outputId": "4c3d64f4-49fe-48c8-c0a4-a1651a041d1d"
      },
      "outputs": [
        {
          "data": {
            "text/plain": [
              "<matplotlib.axes._subplots.AxesSubplot at 0x7f9701bac7d0>"
            ]
          },
          "execution_count": 39,
          "metadata": {},
          "output_type": "execute_result"
        },
        {
          "data": {
            "image/png": "[encoded data removed]",
            "text/plain": [
              "<Figure size 432x288 with 1 Axes>"
            ]
          },
          "metadata": {
            "needs_background": "light"
          },
          "output_type": "display_data"
        }
      ],
      "source": [
        "channel_tmp = df_fe_1.groupby('channelId')['view_count'].agg('mean').reset_index()\n",
        "sns.boxplot(x='view_count',data=channel_tmp)"
      ]
    },
    {
      "cell_type": "code",
      "execution_count": null,
      "metadata": {
        "colab": {
          "base_uri": "https://localhost:8080/"
        },
        "id": "ZZCyehREBMcX",
        "outputId": "31bfa116-2450-4b2d-8d0b-42e1291bd6a7"
      },
      "outputs": [
        {
          "data": {
            "text/plain": [
              "view_count    883534.86\n",
              "dtype: float64"
            ]
          },
          "execution_count": 40,
          "metadata": {},
          "output_type": "execute_result"
        }
      ],
      "source": [
        "channel_views_median = round(channel_tmp[['view_count']].median(),2)\n",
        "channel_views_median"
      ]
    },
    {
      "cell_type": "code",
      "execution_count": null,
      "metadata": {
        "id": "Ozt225qyBjmA"
      },
      "outputs": [],
      "source": [
        "df_fe_1 = df_fe_1.merge(channel_tmp,on='channelId',how='left')\n",
        "df_fe_1 = df_fe_1.rename(columns={'view_count_y':'channel_avg_views'})\n",
        "df_fe_1['pop_channel'] = np.where(df_fe_1.channel_avg_views>=883534.86,1,0)"
      ]
    },
    {
      "cell_type": "code",
      "execution_count": null,
      "metadata": {
        "colab": {
          "base_uri": "https://localhost:8080/",
          "height": 243
        },
        "id": "tZQzsmay6atk",
        "outputId": "e481af93-322d-4466-9869-9be872a983d6"
      },
      "outputs": [
        {
          "data": {
            "text/html": [
              "\n",
              "  <div id=\"df-db54171f-0c70-4ee3-9f12-b0366b6f7fef\">\n",
              "    <div class=\"colab-df-container\">\n",
              "      <div>\n",
              "<style scoped>\n",
              "    .dataframe tbody tr th:only-of-type {\n",
              "        vertical-align: middle;\n",
              "    }\n",
              "\n",
              "    .dataframe tbody tr th {\n",
              "        vertical-align: top;\n",
              "    }\n",
              "\n",
              "    .dataframe thead th {\n",
              "        text-align: right;\n",
              "    }\n",
              "</style>\n",
              "<table border=\"1\" class=\"dataframe\">\n",
              "  <thead>\n",
              "    <tr style=\"text-align: right;\">\n",
              "      <th></th>\n",
              "      <th>video_id</th>\n",
              "      <th>title</th>\n",
              "      <th>publishedAt</th>\n",
              "      <th>channelId</th>\n",
              "      <th>channelTitle</th>\n",
              "      <th>categoryId</th>\n",
              "      <th>trending_date_x</th>\n",
              "      <th>tags</th>\n",
              "      <th>view_count_x</th>\n",
              "      <th>likes</th>\n",
              "      <th>...</th>\n",
              "      <th>daytime</th>\n",
              "      <th>pop_daytime</th>\n",
              "      <th>pop_category</th>\n",
              "      <th>trend_in_20</th>\n",
              "      <th>weekday</th>\n",
              "      <th>publish_weekday</th>\n",
              "      <th>channel_avg_views</th>\n",
              "      <th>pop_channel</th>\n",
              "      <th>tag_words</th>\n",
              "      <th>num_tag</th>\n",
              "    </tr>\n",
              "  </thead>\n",
              "  <tbody>\n",
              "    <tr>\n",
              "      <th>0</th>\n",
              "      <td>--14w5SOEUs</td>\n",
              "      <td>Migos - Avalanche (Official Video)</td>\n",
              "      <td>2021-06-10 16:00:00+00:00</td>\n",
              "      <td>UCGIelM2Dj3zza3xyV3pL3WQ</td>\n",
              "      <td>MigosVEVO</td>\n",
              "      <td>10</td>\n",
              "      <td>2021-06-15 00:00:00+00:00</td>\n",
              "      <td>Migos|Avalanche|Quality|Control|Music/Motown|R...</td>\n",
              "      <td>6553613</td>\n",
              "      <td>258885</td>\n",
              "      <td>...</td>\n",
              "      <td>Afternoon</td>\n",
              "      <td>0</td>\n",
              "      <td>1</td>\n",
              "      <td>0</td>\n",
              "      <td>3</td>\n",
              "      <td>0</td>\n",
              "      <td>7.504470e+06</td>\n",
              "      <td>1</td>\n",
              "      <td>[Migos, Avalanche, Quality, Control, Music/Mot...</td>\n",
              "      <td>8</td>\n",
              "    </tr>\n",
              "  </tbody>\n",
              "</table>\n",
              "<p>1 rows × 33 columns</p>\n",
              "</div>\n",
              "      <button class=\"colab-df-convert\" onclick=\"convertToInteractive('df-db54171f-0c70-4ee3-9f12-b0366b6f7fef')\"\n",
              "              title=\"Convert this dataframe to an interactive table.\"\n",
              "              style=\"display:none;\">\n",
              "        \n",
              "  <svg xmlns=\"http://www.w3.org/2000/svg\" height=\"24px\"viewBox=\"0 0 24 24\"\n",
              "       width=\"24px\">\n",
              "    <path d=\"M0 0h24v24H0V0z\" fill=\"none\"/>\n",
              "    <path d=\"M18.56 5.44l.94 2.06.94-2.06 2.06-.94-2.06-.94-.94-2.06-.94 2.06-2.06.94zm-11 1L8.5 8.5l.94-2.06 2.06-.94-2.06-.94L8.5 2.5l-.94 2.06-2.06.94zm10 10l.94 2.06.94-2.06 2.06-.94-2.06-.94-.94-2.06-.94 2.06-2.06.94z\"/><path d=\"M17.41 7.96l-1.37-1.37c-.4-.4-.92-.59-1.43-.59-.52 0-1.04.2-1.43.59L10.3 9.45l-7.72 7.72c-.78.78-.78 2.05 0 2.83L4 21.41c.39.39.9.59 1.41.59.51 0 1.02-.2 1.41-.59l7.78-7.78 2.81-2.81c.8-.78.8-2.07 0-2.86zM5.41 20L4 18.59l7.72-7.72 1.47 1.35L5.41 20z\"/>\n",
              "  </svg>\n",
              "      </button>\n",
              "      \n",
              "  <style>\n",
              "    .colab-df-container {\n",
              "      display:flex;\n",
              "      flex-wrap:wrap;\n",
              "      gap: 12px;\n",
              "    }\n",
              "\n",
              "    .colab-df-convert {\n",
              "      background-color: #E8F0FE;\n",
              "      border: none;\n",
              "      border-radius: 50%;\n",
              "      cursor: pointer;\n",
              "      display: none;\n",
              "      fill: #1967D2;\n",
              "      height: 32px;\n",
              "      padding: 0 0 0 0;\n",
              "      width: 32px;\n",
              "    }\n",
              "\n",
              "    .colab-df-convert:hover {\n",
              "      background-color: #E2EBFA;\n",
              "      box-shadow: 0px 1px 2px rgba(60, 64, 67, 0.3), 0px 1px 3px 1px rgba(60, 64, 67, 0.15);\n",
              "      fill: #174EA6;\n",
              "    }\n",
              "\n",
              "    [theme=dark] .colab-df-convert {\n",
              "      background-color: #3B4455;\n",
              "      fill: #D2E3FC;\n",
              "    }\n",
              "\n",
              "    [theme=dark] .colab-df-convert:hover {\n",
              "      background-color: #434B5C;\n",
              "      box-shadow: 0px 1px 3px 1px rgba(0, 0, 0, 0.15);\n",
              "      filter: drop-shadow(0px 1px 2px rgba(0, 0, 0, 0.3));\n",
              "      fill: #FFFFFF;\n",
              "    }\n",
              "  </style>\n",
              "\n",
              "      <script>\n",
              "        const buttonEl =\n",
              "          document.querySelector('#df-db54171f-0c70-4ee3-9f12-b0366b6f7fef button.colab-df-convert');\n",
              "        buttonEl.style.display =\n",
              "          google.colab.kernel.accessAllowed ? 'block' : 'none';\n",
              "\n",
              "        async function convertToInteractive(key) {\n",
              "          const element = document.querySelector('#df-db54171f-0c70-4ee3-9f12-b0366b6f7fef');\n",
              "          const dataTable =\n",
              "            await google.colab.kernel.invokeFunction('convertToInteractive',\n",
              "                                                     [key], {});\n",
              "          if (!dataTable) return;\n",
              "\n",
              "          const docLinkHtml = 'Like what you see? Visit the ' +\n",
              "            '<a target=\"_blank\" href=https://colab.research.google.com/notebooks/data_table.ipynb>data table notebook</a>'\n",
              "            + ' to learn more about interactive tables.';\n",
              "          element.innerHTML = '';\n",
              "          dataTable['output_type'] = 'display_data';\n",
              "          await google.colab.output.renderOutput(dataTable, element);\n",
              "          const docLink = document.createElement('div');\n",
              "          docLink.innerHTML = docLinkHtml;\n",
              "          element.appendChild(docLink);\n",
              "        }\n",
              "      </script>\n",
              "    </div>\n",
              "  </div>\n",
              "  "
            ],
            "text/plain": [
              "      video_id                               title               publishedAt  \\\n",
              "0  --14w5SOEUs  Migos - Avalanche (Official Video) 2021-06-10 16:00:00+00:00   \n",
              "\n",
              "                  channelId channelTitle  categoryId  \\\n",
              "0  UCGIelM2Dj3zza3xyV3pL3WQ    MigosVEVO          10   \n",
              "\n",
              "            trending_date_x  \\\n",
              "0 2021-06-15 00:00:00+00:00   \n",
              "\n",
              "                                                tags  view_count_x   likes  \\\n",
              "0  Migos|Avalanche|Quality|Control|Music/Motown|R...       6553613  258885   \n",
              "\n",
              "   ...    daytime  pop_daytime  pop_category trend_in_20  weekday  \\\n",
              "0  ...  Afternoon            0             1           0        3   \n",
              "\n",
              "   publish_weekday channel_avg_views pop_channel  \\\n",
              "0                0      7.504470e+06           1   \n",
              "\n",
              "                                           tag_words  num_tag  \n",
              "0  [Migos, Avalanche, Quality, Control, Music/Mot...        8  \n",
              "\n",
              "[1 rows x 33 columns]"
            ]
          },
          "execution_count": 42,
          "metadata": {},
          "output_type": "execute_result"
        }
      ],
      "source": [
        "# Create num_tag feature\n",
        "df_fe_1['tag_words'] = df_fe_1.tags.str.split('|')\n",
        "df_fe_1['num_tag'] = df_fe_1.tag_words.apply(len)\n",
        "df_fe_1.head(1)"
      ]
    },
    {
      "cell_type": "code",
      "execution_count": null,
      "metadata": {
        "colab": {
          "base_uri": "https://localhost:8080/",
          "height": 478
        },
        "id": "7X1jMEIw7wZx",
        "outputId": "0d80a4f0-323c-4480-897d-6aadb66beb6c"
      },
      "outputs": [
        {
          "name": "stderr",
          "output_type": "stream",
          "text": [
            "/usr/local/lib/python3.7/dist-packages/sklearn/utils/deprecation.py:87: FutureWarning: Function get_feature_names is deprecated; get_feature_names is deprecated in 1.0 and will be removed in 1.2. Please use get_feature_names_out instead.\n",
            "  warnings.warn(msg, category=FutureWarning)\n"
          ]
        },
        {
          "data": {
            "text/html": [
              "\n",
              "  <div id=\"df-ab656951-2564-4703-b0ff-bc48f89598c6\">\n",
              "    <div class=\"colab-df-container\">\n",
              "      <div>\n",
              "<style scoped>\n",
              "    .dataframe tbody tr th:only-of-type {\n",
              "        vertical-align: middle;\n",
              "    }\n",
              "\n",
              "    .dataframe tbody tr th {\n",
              "        vertical-align: top;\n",
              "    }\n",
              "\n",
              "    .dataframe thead th {\n",
              "        text-align: right;\n",
              "    }\n",
              "</style>\n",
              "<table border=\"1\" class=\"dataframe\">\n",
              "  <thead>\n",
              "    <tr style=\"text-align: right;\">\n",
              "      <th></th>\n",
              "      <th>idf_weights</th>\n",
              "    </tr>\n",
              "  </thead>\n",
              "  <tbody>\n",
              "    <tr>\n",
              "      <th>３dcg</th>\n",
              "      <td>9.586906</td>\n",
              "    </tr>\n",
              "    <tr>\n",
              "      <th>kinney</th>\n",
              "      <td>9.586906</td>\n",
              "    </tr>\n",
              "    <tr>\n",
              "      <th>veo</th>\n",
              "      <td>9.586906</td>\n",
              "    </tr>\n",
              "    <tr>\n",
              "      <th>kindess</th>\n",
              "      <td>9.586906</td>\n",
              "    </tr>\n",
              "    <tr>\n",
              "      <th>kinect</th>\n",
              "      <td>9.586906</td>\n",
              "    </tr>\n",
              "    <tr>\n",
              "      <th>...</th>\n",
              "      <td>...</td>\n",
              "    </tr>\n",
              "    <tr>\n",
              "      <th>funny</th>\n",
              "      <td>3.193315</td>\n",
              "    </tr>\n",
              "    <tr>\n",
              "      <th>new</th>\n",
              "      <td>3.128568</td>\n",
              "    </tr>\n",
              "    <tr>\n",
              "      <th>video</th>\n",
              "      <td>3.038687</td>\n",
              "    </tr>\n",
              "    <tr>\n",
              "      <th>the</th>\n",
              "      <td>2.792879</td>\n",
              "    </tr>\n",
              "    <tr>\n",
              "      <th>none</th>\n",
              "      <td>2.730444</td>\n",
              "    </tr>\n",
              "  </tbody>\n",
              "</table>\n",
              "<p>25611 rows × 1 columns</p>\n",
              "</div>\n",
              "      <button class=\"colab-df-convert\" onclick=\"convertToInteractive('df-ab656951-2564-4703-b0ff-bc48f89598c6')\"\n",
              "              title=\"Convert this dataframe to an interactive table.\"\n",
              "              style=\"display:none;\">\n",
              "        \n",
              "  <svg xmlns=\"http://www.w3.org/2000/svg\" height=\"24px\"viewBox=\"0 0 24 24\"\n",
              "       width=\"24px\">\n",
              "    <path d=\"M0 0h24v24H0V0z\" fill=\"none\"/>\n",
              "    <path d=\"M18.56 5.44l.94 2.06.94-2.06 2.06-.94-2.06-.94-.94-2.06-.94 2.06-2.06.94zm-11 1L8.5 8.5l.94-2.06 2.06-.94-2.06-.94L8.5 2.5l-.94 2.06-2.06.94zm10 10l.94 2.06.94-2.06 2.06-.94-2.06-.94-.94-2.06-.94 2.06-2.06.94z\"/><path d=\"M17.41 7.96l-1.37-1.37c-.4-.4-.92-.59-1.43-.59-.52 0-1.04.2-1.43.59L10.3 9.45l-7.72 7.72c-.78.78-.78 2.05 0 2.83L4 21.41c.39.39.9.59 1.41.59.51 0 1.02-.2 1.41-.59l7.78-7.78 2.81-2.81c.8-.78.8-2.07 0-2.86zM5.41 20L4 18.59l7.72-7.72 1.47 1.35L5.41 20z\"/>\n",
              "  </svg>\n",
              "      </button>\n",
              "      \n",
              "  <style>\n",
              "    .colab-df-container {\n",
              "      display:flex;\n",
              "      flex-wrap:wrap;\n",
              "      gap: 12px;\n",
              "    }\n",
              "\n",
              "    .colab-df-convert {\n",
              "      background-color: #E8F0FE;\n",
              "      border: none;\n",
              "      border-radius: 50%;\n",
              "      cursor: pointer;\n",
              "      display: none;\n",
              "      fill: #1967D2;\n",
              "      height: 32px;\n",
              "      padding: 0 0 0 0;\n",
              "      width: 32px;\n",
              "    }\n",
              "\n",
              "    .colab-df-convert:hover {\n",
              "      background-color: #E2EBFA;\n",
              "      box-shadow: 0px 1px 2px rgba(60, 64, 67, 0.3), 0px 1px 3px 1px rgba(60, 64, 67, 0.15);\n",
              "      fill: #174EA6;\n",
              "    }\n",
              "\n",
              "    [theme=dark] .colab-df-convert {\n",
              "      background-color: #3B4455;\n",
              "      fill: #D2E3FC;\n",
              "    }\n",
              "\n",
              "    [theme=dark] .colab-df-convert:hover {\n",
              "      background-color: #434B5C;\n",
              "      box-shadow: 0px 1px 3px 1px rgba(0, 0, 0, 0.15);\n",
              "      filter: drop-shadow(0px 1px 2px rgba(0, 0, 0, 0.3));\n",
              "      fill: #FFFFFF;\n",
              "    }\n",
              "  </style>\n",
              "\n",
              "      <script>\n",
              "        const buttonEl =\n",
              "          document.querySelector('#df-ab656951-2564-4703-b0ff-bc48f89598c6 button.colab-df-convert');\n",
              "        buttonEl.style.display =\n",
              "          google.colab.kernel.accessAllowed ? 'block' : 'none';\n",
              "\n",
              "        async function convertToInteractive(key) {\n",
              "          const element = document.querySelector('#df-ab656951-2564-4703-b0ff-bc48f89598c6');\n",
              "          const dataTable =\n",
              "            await google.colab.kernel.invokeFunction('convertToInteractive',\n",
              "                                                     [key], {});\n",
              "          if (!dataTable) return;\n",
              "\n",
              "          const docLinkHtml = 'Like what you see? Visit the ' +\n",
              "            '<a target=\"_blank\" href=https://colab.research.google.com/notebooks/data_table.ipynb>data table notebook</a>'\n",
              "            + ' to learn more about interactive tables.';\n",
              "          element.innerHTML = '';\n",
              "          dataTable['output_type'] = 'display_data';\n",
              "          await google.colab.output.renderOutput(dataTable, element);\n",
              "          const docLink = document.createElement('div');\n",
              "          docLink.innerHTML = docLinkHtml;\n",
              "          element.appendChild(docLink);\n",
              "        }\n",
              "      </script>\n",
              "    </div>\n",
              "  </div>\n",
              "  "
            ],
            "text/plain": [
              "         idf_weights\n",
              "３dcg        9.586906\n",
              "kinney      9.586906\n",
              "veo         9.586906\n",
              "kindess     9.586906\n",
              "kinect      9.586906\n",
              "...              ...\n",
              "funny       3.193315\n",
              "new         3.128568\n",
              "video       3.038687\n",
              "the         2.792879\n",
              "none        2.730444\n",
              "\n",
              "[25611 rows x 1 columns]"
            ]
          },
          "execution_count": 43,
          "metadata": {},
          "output_type": "execute_result"
        }
      ],
      "source": [
        "# Extract popular words in tags from popular videos\n",
        "pop_video = df_fe_1[df_fe_1['view_count_x']>1500000]\n",
        "\n",
        "from sklearn.feature_extraction.text import CountVectorizer,TfidfTransformer\n",
        "cv = CountVectorizer()\n",
        "x = cv.fit_transform(pop_video['tag_words'].astype(str))\n",
        "tfidf_transformer=TfidfTransformer(smooth_idf=True,use_idf=True) \n",
        "tfidf_transformer.fit(x)\n",
        "\n",
        "# print idf values \n",
        "df_idf = pd.DataFrame(tfidf_transformer.idf_, index=cv.get_feature_names(),columns=[\"idf_weights\"]) \n",
        "# sort ascending \n",
        "df_idf.sort_values(by=['idf_weights'],ascending=False)"
      ]
    },
    {
      "cell_type": "code",
      "execution_count": null,
      "metadata": {
        "colab": {
          "base_uri": "https://localhost:8080/",
          "height": 478
        },
        "id": "UrVrtuo9_Kwh",
        "outputId": "0f29b720-350d-439e-dcd7-6587ef49b849"
      },
      "outputs": [
        {
          "name": "stderr",
          "output_type": "stream",
          "text": [
            "/usr/local/lib/python3.7/dist-packages/sklearn/utils/deprecation.py:87: FutureWarning: Function get_feature_names is deprecated; get_feature_names is deprecated in 1.0 and will be removed in 1.2. Please use get_feature_names_out instead.\n",
            "  warnings.warn(msg, category=FutureWarning)\n"
          ]
        },
        {
          "data": {
            "text/html": [
              "\n",
              "  <div id=\"df-7289ef05-e381-4a3f-8acb-afcaa977d7df\">\n",
              "    <div class=\"colab-df-container\">\n",
              "      <div>\n",
              "<style scoped>\n",
              "    .dataframe tbody tr th:only-of-type {\n",
              "        vertical-align: middle;\n",
              "    }\n",
              "\n",
              "    .dataframe tbody tr th {\n",
              "        vertical-align: top;\n",
              "    }\n",
              "\n",
              "    .dataframe thead th {\n",
              "        text-align: right;\n",
              "    }\n",
              "</style>\n",
              "<table border=\"1\" class=\"dataframe\">\n",
              "  <thead>\n",
              "    <tr style=\"text-align: right;\">\n",
              "      <th></th>\n",
              "      <th>tfidf</th>\n",
              "    </tr>\n",
              "  </thead>\n",
              "  <tbody>\n",
              "    <tr>\n",
              "      <th>avalanche</th>\n",
              "      <td>0.470393</td>\n",
              "    </tr>\n",
              "    <tr>\n",
              "      <th>motown</th>\n",
              "      <td>0.416039</td>\n",
              "    </tr>\n",
              "    <tr>\n",
              "      <th>migos</th>\n",
              "      <td>0.383082</td>\n",
              "    </tr>\n",
              "    <tr>\n",
              "      <th>control</th>\n",
              "      <td>0.365261</td>\n",
              "    </tr>\n",
              "    <tr>\n",
              "      <th>quality</th>\n",
              "      <td>0.341875</td>\n",
              "    </tr>\n",
              "    <tr>\n",
              "      <th>...</th>\n",
              "      <td>...</td>\n",
              "    </tr>\n",
              "    <tr>\n",
              "      <th>gaurdiola</th>\n",
              "      <td>0.000000</td>\n",
              "    </tr>\n",
              "    <tr>\n",
              "      <th>gauntlets</th>\n",
              "      <td>0.000000</td>\n",
              "    </tr>\n",
              "    <tr>\n",
              "      <th>gauntlet</th>\n",
              "      <td>0.000000</td>\n",
              "    </tr>\n",
              "    <tr>\n",
              "      <th>gatwa</th>\n",
              "      <td>0.000000</td>\n",
              "    </tr>\n",
              "    <tr>\n",
              "      <th>３dcg</th>\n",
              "      <td>0.000000</td>\n",
              "    </tr>\n",
              "  </tbody>\n",
              "</table>\n",
              "<p>25611 rows × 1 columns</p>\n",
              "</div>\n",
              "      <button class=\"colab-df-convert\" onclick=\"convertToInteractive('df-7289ef05-e381-4a3f-8acb-afcaa977d7df')\"\n",
              "              title=\"Convert this dataframe to an interactive table.\"\n",
              "              style=\"display:none;\">\n",
              "        \n",
              "  <svg xmlns=\"http://www.w3.org/2000/svg\" height=\"24px\"viewBox=\"0 0 24 24\"\n",
              "       width=\"24px\">\n",
              "    <path d=\"M0 0h24v24H0V0z\" fill=\"none\"/>\n",
              "    <path d=\"M18.56 5.44l.94 2.06.94-2.06 2.06-.94-2.06-.94-.94-2.06-.94 2.06-2.06.94zm-11 1L8.5 8.5l.94-2.06 2.06-.94-2.06-.94L8.5 2.5l-.94 2.06-2.06.94zm10 10l.94 2.06.94-2.06 2.06-.94-2.06-.94-.94-2.06-.94 2.06-2.06.94z\"/><path d=\"M17.41 7.96l-1.37-1.37c-.4-.4-.92-.59-1.43-.59-.52 0-1.04.2-1.43.59L10.3 9.45l-7.72 7.72c-.78.78-.78 2.05 0 2.83L4 21.41c.39.39.9.59 1.41.59.51 0 1.02-.2 1.41-.59l7.78-7.78 2.81-2.81c.8-.78.8-2.07 0-2.86zM5.41 20L4 18.59l7.72-7.72 1.47 1.35L5.41 20z\"/>\n",
              "  </svg>\n",
              "      </button>\n",
              "      \n",
              "  <style>\n",
              "    .colab-df-container {\n",
              "      display:flex;\n",
              "      flex-wrap:wrap;\n",
              "      gap: 12px;\n",
              "    }\n",
              "\n",
              "    .colab-df-convert {\n",
              "      background-color: #E8F0FE;\n",
              "      border: none;\n",
              "      border-radius: 50%;\n",
              "      cursor: pointer;\n",
              "      display: none;\n",
              "      fill: #1967D2;\n",
              "      height: 32px;\n",
              "      padding: 0 0 0 0;\n",
              "      width: 32px;\n",
              "    }\n",
              "\n",
              "    .colab-df-convert:hover {\n",
              "      background-color: #E2EBFA;\n",
              "      box-shadow: 0px 1px 2px rgba(60, 64, 67, 0.3), 0px 1px 3px 1px rgba(60, 64, 67, 0.15);\n",
              "      fill: #174EA6;\n",
              "    }\n",
              "\n",
              "    [theme=dark] .colab-df-convert {\n",
              "      background-color: #3B4455;\n",
              "      fill: #D2E3FC;\n",
              "    }\n",
              "\n",
              "    [theme=dark] .colab-df-convert:hover {\n",
              "      background-color: #434B5C;\n",
              "      box-shadow: 0px 1px 3px 1px rgba(0, 0, 0, 0.15);\n",
              "      filter: drop-shadow(0px 1px 2px rgba(0, 0, 0, 0.3));\n",
              "      fill: #FFFFFF;\n",
              "    }\n",
              "  </style>\n",
              "\n",
              "      <script>\n",
              "        const buttonEl =\n",
              "          document.querySelector('#df-7289ef05-e381-4a3f-8acb-afcaa977d7df button.colab-df-convert');\n",
              "        buttonEl.style.display =\n",
              "          google.colab.kernel.accessAllowed ? 'block' : 'none';\n",
              "\n",
              "        async function convertToInteractive(key) {\n",
              "          const element = document.querySelector('#df-7289ef05-e381-4a3f-8acb-afcaa977d7df');\n",
              "          const dataTable =\n",
              "            await google.colab.kernel.invokeFunction('convertToInteractive',\n",
              "                                                     [key], {});\n",
              "          if (!dataTable) return;\n",
              "\n",
              "          const docLinkHtml = 'Like what you see? Visit the ' +\n",
              "            '<a target=\"_blank\" href=https://colab.research.google.com/notebooks/data_table.ipynb>data table notebook</a>'\n",
              "            + ' to learn more about interactive tables.';\n",
              "          element.innerHTML = '';\n",
              "          dataTable['output_type'] = 'display_data';\n",
              "          await google.colab.output.renderOutput(dataTable, element);\n",
              "          const docLink = document.createElement('div');\n",
              "          docLink.innerHTML = docLinkHtml;\n",
              "          element.appendChild(docLink);\n",
              "        }\n",
              "      </script>\n",
              "    </div>\n",
              "  </div>\n",
              "  "
            ],
            "text/plain": [
              "              tfidf\n",
              "avalanche  0.470393\n",
              "motown     0.416039\n",
              "migos      0.383082\n",
              "control    0.365261\n",
              "quality    0.341875\n",
              "...             ...\n",
              "gaurdiola  0.000000\n",
              "gauntlets  0.000000\n",
              "gauntlet   0.000000\n",
              "gatwa      0.000000\n",
              "３dcg       0.000000\n",
              "\n",
              "[25611 rows x 1 columns]"
            ]
          },
          "execution_count": 44,
          "metadata": {},
          "output_type": "execute_result"
        }
      ],
      "source": [
        "count_vector=cv.transform(pop_video['tag_words'].astype(str)) \n",
        "# tf-idf scores \n",
        "tf_idf_vector=tfidf_transformer.transform(count_vector)\n",
        "\n",
        "feature_names = cv.get_feature_names() \n",
        "#get tfidf vector for first document \n",
        "first_document_vector=tf_idf_vector[0] \n",
        "#print the scores \n",
        "df_tags = pd.DataFrame(first_document_vector.T.todense(), index=feature_names, columns=[\"tfidf\"]) \n",
        "df_tags.sort_values(by=[\"tfidf\"],ascending=False)"
      ]
    },
    {
      "cell_type": "code",
      "execution_count": null,
      "metadata": {
        "colab": {
          "base_uri": "https://localhost:8080/"
        },
        "id": "U8EfmS0vDtQZ",
        "outputId": "a0aa6999-902d-4221-cc06-20c9b0535d20"
      },
      "outputs": [
        {
          "data": {
            "text/plain": [
              "Index(['avalanche', 'motown', 'migos', 'control', 'quality', 'records', 'hop',\n",
              "       'hip', 'music', 'quiéntecrees', 'quiz', 'quizzes', '00', 'quitting',\n",
              "       'quo', 'quotes', 'quivers', 'quirk', 'quites', 'quit', 'qué', 'quintet',\n",
              "       'quinta', 'quinones', 'quinoa', 'quinn', 'quimico', 'quiles', 'quiff',\n",
              "       'qureshi', 'qwerty', 'quốc', 'rabbitholebd', 'racial', 'rachel',\n",
              "       'races', 'racer', 'raced', 'race', 'raccoon', 'rabe', 'rabbits',\n",
              "       'rabbithole', 'quiet', 'rabbit', 'rabbids', 'rabbert', 'ra', 'r6s',\n",
              "       'r3hab'],\n",
              "      dtype='object')"
            ]
          },
          "execution_count": 45,
          "metadata": {},
          "output_type": "execute_result"
        }
      ],
      "source": [
        "df_tags = df_tags.sort_values(by=[\"tfidf\"],ascending=False)\n",
        "pop_tags = df_tags.iloc[:50].index\n",
        "pop_tags"
      ]
    },
    {
      "cell_type": "code",
      "execution_count": null,
      "metadata": {
        "id": "dKK33UyP9AFE"
      },
      "outputs": [],
      "source": [
        "pop_tags = ['avalanche', 'motown', 'migos', 'control', 'quality', 'records', 'hop',\n",
        "       'hip', 'music', 'quiéntecrees', 'quiz', 'quizzes', '00', 'quitting',\n",
        "       'quo', 'quotes', 'quivers', 'quirk', 'quites', 'quit', 'qué', 'quintet',\n",
        "       'quinta', 'quinones', 'quinoa', 'quinn', 'quimico', 'quiles', 'quiff',\n",
        "       'qureshi', 'qwerty', 'quốc', 'rabbitholebd', 'racial', 'rachel',\n",
        "       'races', 'racer', 'raced', 'race', 'raccoon', 'rabe', 'rabbits',\n",
        "       'rabbithole', 'quiet', 'rabbit', 'rabbids', 'rabbert', 'ra', 'r6s',\n",
        "       'r3hab']"
      ]
    },
    {
      "cell_type": "code",
      "execution_count": null,
      "metadata": {
        "id": "Kj7PHtJRFQXp"
      },
      "outputs": [],
      "source": [
        "df_fe_1['if_pop_tags'] = df_fe_1['tag_words'].apply(lambda x: len(list(set(x).intersection(pop_tags))))\n",
        "df_fe_1['description_length'] = df_fe_1.description.apply(len)\n"
      ]
    },
    {
      "cell_type": "code",
      "execution_count": null,
      "metadata": {
        "colab": {
          "base_uri": "https://localhost:8080/",
          "height": 394
        },
        "id": "ExkaLhnG8pzp",
        "outputId": "aeb75287-f4e3-420f-a57b-388cdaccc72a"
      },
      "outputs": [
        {
          "data": {
            "text/html": [
              "<style type=\"text/css\">\n",
              "#T_8d251_row0_col0, #T_8d251_row1_col1, #T_8d251_row2_col2, #T_8d251_row3_col3, #T_8d251_row4_col4, #T_8d251_row5_col5, #T_8d251_row6_col6, #T_8d251_row7_col7, #T_8d251_row8_col8, #T_8d251_row9_col9, #T_8d251_row10_col10 {\n",
              "  background-color: #b40426;\n",
              "  color: #f1f1f1;\n",
              "}\n",
              "#T_8d251_row0_col1, #T_8d251_row1_col9 {\n",
              "  background-color: #3d50c3;\n",
              "  color: #f1f1f1;\n",
              "}\n",
              "#T_8d251_row0_col2 {\n",
              "  background-color: #7093f3;\n",
              "  color: #f1f1f1;\n",
              "}\n",
              "#T_8d251_row0_col3 {\n",
              "  background-color: #6180e9;\n",
              "  color: #f1f1f1;\n",
              "}\n",
              "#T_8d251_row0_col4 {\n",
              "  background-color: #6282ea;\n",
              "  color: #f1f1f1;\n",
              "}\n",
              "#T_8d251_row0_col5, #T_8d251_row2_col9, #T_8d251_row5_col10, #T_8d251_row7_col5 {\n",
              "  background-color: #5a78e4;\n",
              "  color: #f1f1f1;\n",
              "}\n",
              "#T_8d251_row0_col6, #T_8d251_row6_col9, #T_8d251_row10_col4 {\n",
              "  background-color: #4358cb;\n",
              "  color: #f1f1f1;\n",
              "}\n",
              "#T_8d251_row0_col7 {\n",
              "  background-color: #96b7ff;\n",
              "  color: #000000;\n",
              "}\n",
              "#T_8d251_row0_col8, #T_8d251_row1_col0, #T_8d251_row1_col7, #T_8d251_row2_col6, #T_8d251_row3_col8, #T_8d251_row3_col10, #T_8d251_row4_col5, #T_8d251_row5_col4, #T_8d251_row6_col2, #T_8d251_row6_col8, #T_8d251_row7_col1, #T_8d251_row7_col9, #T_8d251_row10_col3 {\n",
              "  background-color: #3b4cc0;\n",
              "  color: #f1f1f1;\n",
              "}\n",
              "#T_8d251_row0_col9, #T_8d251_row1_col2, #T_8d251_row1_col4, #T_8d251_row5_col6, #T_8d251_row6_col5, #T_8d251_row10_col6 {\n",
              "  background-color: #3e51c5;\n",
              "  color: #f1f1f1;\n",
              "}\n",
              "#T_8d251_row0_col10, #T_8d251_row3_col2 {\n",
              "  background-color: #5875e1;\n",
              "  color: #f1f1f1;\n",
              "}\n",
              "#T_8d251_row1_col3 {\n",
              "  background-color: #6788ee;\n",
              "  color: #f1f1f1;\n",
              "}\n",
              "#T_8d251_row1_col5, #T_8d251_row7_col8 {\n",
              "  background-color: #3f53c6;\n",
              "  color: #f1f1f1;\n",
              "}\n",
              "#T_8d251_row1_col6, #T_8d251_row7_col10 {\n",
              "  background-color: #4f69d9;\n",
              "  color: #f1f1f1;\n",
              "}\n",
              "#T_8d251_row1_col8, #T_8d251_row3_col1, #T_8d251_row8_col9 {\n",
              "  background-color: #6e90f2;\n",
              "  color: #f1f1f1;\n",
              "}\n",
              "#T_8d251_row1_col10 {\n",
              "  background-color: #7295f4;\n",
              "  color: #f1f1f1;\n",
              "}\n",
              "#T_8d251_row2_col0 {\n",
              "  background-color: #7a9df8;\n",
              "  color: #f1f1f1;\n",
              "}\n",
              "#T_8d251_row2_col1, #T_8d251_row8_col4, #T_8d251_row9_col7 {\n",
              "  background-color: #4b64d5;\n",
              "  color: #f1f1f1;\n",
              "}\n",
              "#T_8d251_row2_col3, #T_8d251_row9_col2, #T_8d251_row10_col2 {\n",
              "  background-color: #5e7de7;\n",
              "  color: #f1f1f1;\n",
              "}\n",
              "#T_8d251_row2_col4, #T_8d251_row3_col6, #T_8d251_row4_col2, #T_8d251_row8_col3 {\n",
              "  background-color: #485fd1;\n",
              "  color: #f1f1f1;\n",
              "}\n",
              "#T_8d251_row2_col5, #T_8d251_row5_col2 {\n",
              "  background-color: #779af7;\n",
              "  color: #f1f1f1;\n",
              "}\n",
              "#T_8d251_row2_col7 {\n",
              "  background-color: #7b9ff9;\n",
              "  color: #f1f1f1;\n",
              "}\n",
              "#T_8d251_row2_col8, #T_8d251_row9_col4, #T_8d251_row9_col6 {\n",
              "  background-color: #465ecf;\n",
              "  color: #f1f1f1;\n",
              "}\n",
              "#T_8d251_row2_col10, #T_8d251_row3_col0 {\n",
              "  background-color: #6485ec;\n",
              "  color: #f1f1f1;\n",
              "}\n",
              "#T_8d251_row3_col4, #T_8d251_row9_col10 {\n",
              "  background-color: #5673e0;\n",
              "  color: #f1f1f1;\n",
              "}\n",
              "#T_8d251_row3_col5, #T_8d251_row4_col7, #T_8d251_row5_col7 {\n",
              "  background-color: #6687ed;\n",
              "  color: #f1f1f1;\n",
              "}\n",
              "#T_8d251_row3_col7, #T_8d251_row10_col5 {\n",
              "  background-color: #5470de;\n",
              "  color: #f1f1f1;\n",
              "}\n",
              "#T_8d251_row3_col9 {\n",
              "  background-color: #455cce;\n",
              "  color: #f1f1f1;\n",
              "}\n",
              "#T_8d251_row4_col0, #T_8d251_row5_col3 {\n",
              "  background-color: #6c8ff1;\n",
              "  color: #f1f1f1;\n",
              "}\n",
              "#T_8d251_row4_col1, #T_8d251_row4_col6, #T_8d251_row6_col4 {\n",
              "  background-color: #4a63d3;\n",
              "  color: #f1f1f1;\n",
              "}\n",
              "#T_8d251_row4_col3 {\n",
              "  background-color: #5d7ce6;\n",
              "  color: #f1f1f1;\n",
              "}\n",
              "#T_8d251_row4_col8, #T_8d251_row5_col9, #T_8d251_row6_col10 {\n",
              "  background-color: #445acc;\n",
              "  color: #f1f1f1;\n",
              "}\n",
              "#T_8d251_row4_col9, #T_8d251_row8_col6 {\n",
              "  background-color: #4257c9;\n",
              "  color: #f1f1f1;\n",
              "}\n",
              "#T_8d251_row4_col10, #T_8d251_row8_col5, #T_8d251_row9_col5 {\n",
              "  background-color: #4961d2;\n",
              "  color: #f1f1f1;\n",
              "}\n",
              "#T_8d251_row5_col0 {\n",
              "  background-color: #6384eb;\n",
              "  color: #f1f1f1;\n",
              "}\n",
              "#T_8d251_row5_col1, #T_8d251_row6_col0, #T_8d251_row8_col0, #T_8d251_row9_col0, #T_8d251_row10_col9 {\n",
              "  background-color: #4c66d6;\n",
              "  color: #f1f1f1;\n",
              "}\n",
              "#T_8d251_row5_col8, #T_8d251_row7_col6 {\n",
              "  background-color: #4055c8;\n",
              "  color: #f1f1f1;\n",
              "}\n",
              "#T_8d251_row6_col1, #T_8d251_row10_col0 {\n",
              "  background-color: #5b7ae5;\n",
              "  color: #f1f1f1;\n",
              "}\n",
              "#T_8d251_row6_col3, #T_8d251_row6_col7, #T_8d251_row7_col3, #T_8d251_row8_col2, #T_8d251_row9_col1 {\n",
              "  background-color: #4e68d8;\n",
              "  color: #f1f1f1;\n",
              "}\n",
              "#T_8d251_row7_col0 {\n",
              "  background-color: #93b5fe;\n",
              "  color: #000000;\n",
              "}\n",
              "#T_8d251_row7_col2 {\n",
              "  background-color: #6f92f3;\n",
              "  color: #f1f1f1;\n",
              "}\n",
              "#T_8d251_row7_col4 {\n",
              "  background-color: #5977e3;\n",
              "  color: #f1f1f1;\n",
              "}\n",
              "#T_8d251_row8_col1 {\n",
              "  background-color: #82a6fb;\n",
              "  color: #f1f1f1;\n",
              "}\n",
              "#T_8d251_row8_col7 {\n",
              "  background-color: #536edd;\n",
              "  color: #f1f1f1;\n",
              "}\n",
              "#T_8d251_row8_col10 {\n",
              "  background-color: #98b9ff;\n",
              "  color: #000000;\n",
              "}\n",
              "#T_8d251_row9_col3 {\n",
              "  background-color: #506bda;\n",
              "  color: #f1f1f1;\n",
              "}\n",
              "#T_8d251_row9_col8 {\n",
              "  background-color: #6b8df0;\n",
              "  color: #f1f1f1;\n",
              "}\n",
              "#T_8d251_row10_col1 {\n",
              "  background-color: #799cf8;\n",
              "  color: #f1f1f1;\n",
              "}\n",
              "#T_8d251_row10_col7 {\n",
              "  background-color: #5572df;\n",
              "  color: #f1f1f1;\n",
              "}\n",
              "#T_8d251_row10_col8 {\n",
              "  background-color: #8caffe;\n",
              "  color: #000000;\n",
              "}\n",
              "</style>\n",
              "<table id=\"T_8d251_\" class=\"dataframe\">\n",
              "  <thead>\n",
              "    <tr>\n",
              "      <th class=\"blank level0\" >&nbsp;</th>\n",
              "      <th class=\"col_heading level0 col0\" >view_count</th>\n",
              "      <th class=\"col_heading level0 col1\" >title_length</th>\n",
              "      <th class=\"col_heading level0 col2\" >pop_category</th>\n",
              "      <th class=\"col_heading level0 col3\" >pop_daytime</th>\n",
              "      <th class=\"col_heading level0 col4\" >trend_in_20</th>\n",
              "      <th class=\"col_heading level0 col5\" >publish_weekday</th>\n",
              "      <th class=\"col_heading level0 col6\" >comments_disabled</th>\n",
              "      <th class=\"col_heading level0 col7\" >pop_channel</th>\n",
              "      <th class=\"col_heading level0 col8\" >num_tag</th>\n",
              "      <th class=\"col_heading level0 col9\" >if_pop_tags</th>\n",
              "      <th class=\"col_heading level0 col10\" >description_length</th>\n",
              "    </tr>\n",
              "  </thead>\n",
              "  <tbody>\n",
              "    <tr>\n",
              "      <th id=\"T_8d251_level0_row0\" class=\"row_heading level0 row0\" >view_count</th>\n",
              "      <td id=\"T_8d251_row0_col0\" class=\"data row0 col0\" >1.000000</td>\n",
              "      <td id=\"T_8d251_row0_col1\" class=\"data row0 col1\" >-0.066833</td>\n",
              "      <td id=\"T_8d251_row0_col2\" class=\"data row0 col2\" >0.143462</td>\n",
              "      <td id=\"T_8d251_row0_col3\" class=\"data row0 col3\" >0.077756</td>\n",
              "      <td id=\"T_8d251_row0_col4\" class=\"data row0 col4\" >0.100674</td>\n",
              "      <td id=\"T_8d251_row0_col5\" class=\"data row0 col5\" >0.073782</td>\n",
              "      <td id=\"T_8d251_row0_col6\" class=\"data row0 col6\" >-0.002698</td>\n",
              "      <td id=\"T_8d251_row0_col7\" class=\"data row0 col7\" >0.220037</td>\n",
              "      <td id=\"T_8d251_row0_col8\" class=\"data row0 col8\" >-0.001926</td>\n",
              "      <td id=\"T_8d251_row0_col9\" class=\"data row0 col9\" >-0.002903</td>\n",
              "      <td id=\"T_8d251_row0_col10\" class=\"data row0 col10\" >0.048552</td>\n",
              "    </tr>\n",
              "    <tr>\n",
              "      <th id=\"T_8d251_level0_row1\" class=\"row_heading level0 row1\" >title_length</th>\n",
              "      <td id=\"T_8d251_row1_col0\" class=\"data row1 col0\" >-0.066833</td>\n",
              "      <td id=\"T_8d251_row1_col1\" class=\"data row1 col1\" >1.000000</td>\n",
              "      <td id=\"T_8d251_row1_col2\" class=\"data row1 col2\" >-0.018305</td>\n",
              "      <td id=\"T_8d251_row1_col3\" class=\"data row1 col3\" >0.099022</td>\n",
              "      <td id=\"T_8d251_row1_col4\" class=\"data row1 col4\" >-0.018746</td>\n",
              "      <td id=\"T_8d251_row1_col5\" class=\"data row1 col5\" >-0.012680</td>\n",
              "      <td id=\"T_8d251_row1_col6\" class=\"data row1 col6\" >0.037215</td>\n",
              "      <td id=\"T_8d251_row1_col7\" class=\"data row1 col7\" >-0.077442</td>\n",
              "      <td id=\"T_8d251_row1_col8\" class=\"data row1 col8\" >0.158796</td>\n",
              "      <td id=\"T_8d251_row1_col9\" class=\"data row1 col9\" >-0.006965</td>\n",
              "      <td id=\"T_8d251_row1_col10\" class=\"data row1 col10\" >0.130822</td>\n",
              "    </tr>\n",
              "    <tr>\n",
              "      <th id=\"T_8d251_level0_row2\" class=\"row_heading level0 row2\" >pop_category</th>\n",
              "      <td id=\"T_8d251_row2_col0\" class=\"data row2 col0\" >0.143462</td>\n",
              "      <td id=\"T_8d251_row2_col1\" class=\"data row2 col1\" >-0.018305</td>\n",
              "      <td id=\"T_8d251_row2_col2\" class=\"data row2 col2\" >1.000000</td>\n",
              "      <td id=\"T_8d251_row2_col3\" class=\"data row2 col3\" >0.068685</td>\n",
              "      <td id=\"T_8d251_row2_col4\" class=\"data row2 col4\" >0.013315</td>\n",
              "      <td id=\"T_8d251_row2_col5\" class=\"data row2 col5\" >0.162392</td>\n",
              "      <td id=\"T_8d251_row2_col6\" class=\"data row2 col6\" >-0.031530</td>\n",
              "      <td id=\"T_8d251_row2_col7\" class=\"data row2 col7\" >0.137759</td>\n",
              "      <td id=\"T_8d251_row2_col8\" class=\"data row2 col8\" >0.034811</td>\n",
              "      <td id=\"T_8d251_row2_col9\" class=\"data row2 col9\" >0.088752</td>\n",
              "      <td id=\"T_8d251_row2_col10\" class=\"data row2 col10\" >0.088371</td>\n",
              "    </tr>\n",
              "    <tr>\n",
              "      <th id=\"T_8d251_level0_row3\" class=\"row_heading level0 row3\" >pop_daytime</th>\n",
              "      <td id=\"T_8d251_row3_col0\" class=\"data row3 col0\" >0.077756</td>\n",
              "      <td id=\"T_8d251_row3_col1\" class=\"data row3 col1\" >0.099022</td>\n",
              "      <td id=\"T_8d251_row3_col2\" class=\"data row3 col2\" >0.068685</td>\n",
              "      <td id=\"T_8d251_row3_col3\" class=\"data row3 col3\" >1.000000</td>\n",
              "      <td id=\"T_8d251_row3_col4\" class=\"data row3 col4\" >0.065384</td>\n",
              "      <td id=\"T_8d251_row3_col5\" class=\"data row3 col5\" >0.113265</td>\n",
              "      <td id=\"T_8d251_row3_col6\" class=\"data row3 col6\" >0.013716</td>\n",
              "      <td id=\"T_8d251_row3_col7\" class=\"data row3 col7\" >0.014710</td>\n",
              "      <td id=\"T_8d251_row3_col8\" class=\"data row3 col8\" >-0.005842</td>\n",
              "      <td id=\"T_8d251_row3_col9\" class=\"data row3 col9\" >0.021750</td>\n",
              "      <td id=\"T_8d251_row3_col10\" class=\"data row3 col10\" >-0.052982</td>\n",
              "    </tr>\n",
              "    <tr>\n",
              "      <th id=\"T_8d251_level0_row4\" class=\"row_heading level0 row4\" >trend_in_20</th>\n",
              "      <td id=\"T_8d251_row4_col0\" class=\"data row4 col0\" >0.100674</td>\n",
              "      <td id=\"T_8d251_row4_col1\" class=\"data row4 col1\" >-0.018746</td>\n",
              "      <td id=\"T_8d251_row4_col2\" class=\"data row4 col2\" >0.013315</td>\n",
              "      <td id=\"T_8d251_row4_col3\" class=\"data row4 col3\" >0.065384</td>\n",
              "      <td id=\"T_8d251_row4_col4\" class=\"data row4 col4\" >1.000000</td>\n",
              "      <td id=\"T_8d251_row4_col5\" class=\"data row4 col5\" >-0.031120</td>\n",
              "      <td id=\"T_8d251_row4_col6\" class=\"data row4 col6\" >0.022518</td>\n",
              "      <td id=\"T_8d251_row4_col7\" class=\"data row4 col7\" >0.072478</td>\n",
              "      <td id=\"T_8d251_row4_col8\" class=\"data row4 col8\" >0.028515</td>\n",
              "      <td id=\"T_8d251_row4_col9\" class=\"data row4 col9\" >0.009443</td>\n",
              "      <td id=\"T_8d251_row4_col10\" class=\"data row4 col10\" >0.000227</td>\n",
              "    </tr>\n",
              "    <tr>\n",
              "      <th id=\"T_8d251_level0_row5\" class=\"row_heading level0 row5\" >publish_weekday</th>\n",
              "      <td id=\"T_8d251_row5_col0\" class=\"data row5 col0\" >0.073782</td>\n",
              "      <td id=\"T_8d251_row5_col1\" class=\"data row5 col1\" >-0.012680</td>\n",
              "      <td id=\"T_8d251_row5_col2\" class=\"data row5 col2\" >0.162392</td>\n",
              "      <td id=\"T_8d251_row5_col3\" class=\"data row5 col3\" >0.113265</td>\n",
              "      <td id=\"T_8d251_row5_col4\" class=\"data row5 col4\" >-0.031120</td>\n",
              "      <td id=\"T_8d251_row5_col5\" class=\"data row5 col5\" >1.000000</td>\n",
              "      <td id=\"T_8d251_row5_col6\" class=\"data row5 col6\" >-0.016122</td>\n",
              "      <td id=\"T_8d251_row5_col7\" class=\"data row5 col7\" >0.073818</td>\n",
              "      <td id=\"T_8d251_row5_col8\" class=\"data row5 col8\" >0.017293</td>\n",
              "      <td id=\"T_8d251_row5_col9\" class=\"data row5 col9\" >0.017980</td>\n",
              "      <td id=\"T_8d251_row5_col10\" class=\"data row5 col10\" >0.055735</td>\n",
              "    </tr>\n",
              "    <tr>\n",
              "      <th id=\"T_8d251_level0_row6\" class=\"row_heading level0 row6\" >comments_disabled</th>\n",
              "      <td id=\"T_8d251_row6_col0\" class=\"data row6 col0\" >-0.002698</td>\n",
              "      <td id=\"T_8d251_row6_col1\" class=\"data row6 col1\" >0.037215</td>\n",
              "      <td id=\"T_8d251_row6_col2\" class=\"data row6 col2\" >-0.031530</td>\n",
              "      <td id=\"T_8d251_row6_col3\" class=\"data row6 col3\" >0.013716</td>\n",
              "      <td id=\"T_8d251_row6_col4\" class=\"data row6 col4\" >0.022518</td>\n",
              "      <td id=\"T_8d251_row6_col5\" class=\"data row6 col5\" >-0.016122</td>\n",
              "      <td id=\"T_8d251_row6_col6\" class=\"data row6 col6\" >1.000000</td>\n",
              "      <td id=\"T_8d251_row6_col7\" class=\"data row6 col7\" >-0.008668</td>\n",
              "      <td id=\"T_8d251_row6_col8\" class=\"data row6 col8\" >-0.003863</td>\n",
              "      <td id=\"T_8d251_row6_col9\" class=\"data row6 col9\" >0.012374</td>\n",
              "      <td id=\"T_8d251_row6_col10\" class=\"data row6 col10\" >-0.017813</td>\n",
              "    </tr>\n",
              "    <tr>\n",
              "      <th id=\"T_8d251_level0_row7\" class=\"row_heading level0 row7\" >pop_channel</th>\n",
              "      <td id=\"T_8d251_row7_col0\" class=\"data row7 col0\" >0.220037</td>\n",
              "      <td id=\"T_8d251_row7_col1\" class=\"data row7 col1\" >-0.077442</td>\n",
              "      <td id=\"T_8d251_row7_col2\" class=\"data row7 col2\" >0.137759</td>\n",
              "      <td id=\"T_8d251_row7_col3\" class=\"data row7 col3\" >0.014710</td>\n",
              "      <td id=\"T_8d251_row7_col4\" class=\"data row7 col4\" >0.072478</td>\n",
              "      <td id=\"T_8d251_row7_col5\" class=\"data row7 col5\" >0.073818</td>\n",
              "      <td id=\"T_8d251_row7_col6\" class=\"data row7 col6\" >-0.008668</td>\n",
              "      <td id=\"T_8d251_row7_col7\" class=\"data row7 col7\" >1.000000</td>\n",
              "      <td id=\"T_8d251_row7_col8\" class=\"data row7 col8\" >0.010327</td>\n",
              "      <td id=\"T_8d251_row7_col9\" class=\"data row7 col9\" >-0.017120</td>\n",
              "      <td id=\"T_8d251_row7_col10\" class=\"data row7 col10\" >0.018376</td>\n",
              "    </tr>\n",
              "    <tr>\n",
              "      <th id=\"T_8d251_level0_row8\" class=\"row_heading level0 row8\" >num_tag</th>\n",
              "      <td id=\"T_8d251_row8_col0\" class=\"data row8 col0\" >-0.001926</td>\n",
              "      <td id=\"T_8d251_row8_col1\" class=\"data row8 col1\" >0.158796</td>\n",
              "      <td id=\"T_8d251_row8_col2\" class=\"data row8 col2\" >0.034811</td>\n",
              "      <td id=\"T_8d251_row8_col3\" class=\"data row8 col3\" >-0.005842</td>\n",
              "      <td id=\"T_8d251_row8_col4\" class=\"data row8 col4\" >0.028515</td>\n",
              "      <td id=\"T_8d251_row8_col5\" class=\"data row8 col5\" >0.017293</td>\n",
              "      <td id=\"T_8d251_row8_col6\" class=\"data row8 col6\" >-0.003863</td>\n",
              "      <td id=\"T_8d251_row8_col7\" class=\"data row8 col7\" >0.010327</td>\n",
              "      <td id=\"T_8d251_row8_col8\" class=\"data row8 col8\" >1.000000</td>\n",
              "      <td id=\"T_8d251_row8_col9\" class=\"data row8 col9\" >0.149649</td>\n",
              "      <td id=\"T_8d251_row8_col10\" class=\"data row8 col10\" >0.244231</td>\n",
              "    </tr>\n",
              "    <tr>\n",
              "      <th id=\"T_8d251_level0_row9\" class=\"row_heading level0 row9\" >if_pop_tags</th>\n",
              "      <td id=\"T_8d251_row9_col0\" class=\"data row9 col0\" >-0.002903</td>\n",
              "      <td id=\"T_8d251_row9_col1\" class=\"data row9 col1\" >-0.006965</td>\n",
              "      <td id=\"T_8d251_row9_col2\" class=\"data row9 col2\" >0.088752</td>\n",
              "      <td id=\"T_8d251_row9_col3\" class=\"data row9 col3\" >0.021750</td>\n",
              "      <td id=\"T_8d251_row9_col4\" class=\"data row9 col4\" >0.009443</td>\n",
              "      <td id=\"T_8d251_row9_col5\" class=\"data row9 col5\" >0.017980</td>\n",
              "      <td id=\"T_8d251_row9_col6\" class=\"data row9 col6\" >0.012374</td>\n",
              "      <td id=\"T_8d251_row9_col7\" class=\"data row9 col7\" >-0.017120</td>\n",
              "      <td id=\"T_8d251_row9_col8\" class=\"data row9 col8\" >0.149649</td>\n",
              "      <td id=\"T_8d251_row9_col9\" class=\"data row9 col9\" >1.000000</td>\n",
              "      <td id=\"T_8d251_row9_col10\" class=\"data row9 col10\" >0.043582</td>\n",
              "    </tr>\n",
              "    <tr>\n",
              "      <th id=\"T_8d251_level0_row10\" class=\"row_heading level0 row10\" >description_length</th>\n",
              "      <td id=\"T_8d251_row10_col0\" class=\"data row10 col0\" >0.048552</td>\n",
              "      <td id=\"T_8d251_row10_col1\" class=\"data row10 col1\" >0.130822</td>\n",
              "      <td id=\"T_8d251_row10_col2\" class=\"data row10 col2\" >0.088371</td>\n",
              "      <td id=\"T_8d251_row10_col3\" class=\"data row10 col3\" >-0.052982</td>\n",
              "      <td id=\"T_8d251_row10_col4\" class=\"data row10 col4\" >0.000227</td>\n",
              "      <td id=\"T_8d251_row10_col5\" class=\"data row10 col5\" >0.055735</td>\n",
              "      <td id=\"T_8d251_row10_col6\" class=\"data row10 col6\" >-0.017813</td>\n",
              "      <td id=\"T_8d251_row10_col7\" class=\"data row10 col7\" >0.018376</td>\n",
              "      <td id=\"T_8d251_row10_col8\" class=\"data row10 col8\" >0.244231</td>\n",
              "      <td id=\"T_8d251_row10_col9\" class=\"data row10 col9\" >0.043582</td>\n",
              "      <td id=\"T_8d251_row10_col10\" class=\"data row10 col10\" >1.000000</td>\n",
              "    </tr>\n",
              "  </tbody>\n",
              "</table>\n"
            ],
            "text/plain": [
              "<pandas.io.formats.style.Styler at 0x7f96ffbc3510>"
            ]
          },
          "execution_count": 48,
          "metadata": {},
          "output_type": "execute_result"
        }
      ],
      "source": [
        "df_fe_1 = df_fe_1.rename(columns={'view_count_x':'view_count'})\n",
        "corr_temp = df_fe_1[['view_count','title_length','pop_category','pop_daytime','trend_in_20','publish_weekday','comments_disabled','pop_channel','num_tag','if_pop_tags','description_length']]\n",
        "corr_temp.corr().style.background_gradient(cmap='coolwarm')"
      ]
    },
    {
      "cell_type": "markdown",
      "metadata": {
        "id": "6pTPX1-6n7Qa"
      },
      "source": [
        "## Modeling"
      ]
    },
    {
      "cell_type": "code",
      "execution_count": null,
      "metadata": {
        "id": "OCnjc5B6g8rk"
      },
      "outputs": [],
      "source": [
        "from sklearn.metrics import classification_report, confusion_matrix, accuracy_score\n",
        "from sklearn.neighbors import KNeighborsClassifier\n",
        "from sklearn.ensemble import RandomForestClassifier\n",
        "from sklearn.ensemble import GradientBoostingClassifier\n",
        "import xgboost as xgb\n",
        "\n",
        "from sklearn.model_selection import TimeSeriesSplit"
      ]
    },
    {
      "cell_type": "code",
      "execution_count": null,
      "metadata": {
        "colab": {
          "base_uri": "https://localhost:8080/",
          "height": 243
        },
        "id": "MtKhA-WfhAzP",
        "outputId": "45e5903e-26b3-4794-bc56-f71d92e7bbea"
      },
      "outputs": [
        {
          "data": {
            "text/html": [
              "\n",
              "  <div id=\"df-b4390816-24f7-44df-a986-4865b87cc45a\">\n",
              "    <div class=\"colab-df-container\">\n",
              "      <div>\n",
              "<style scoped>\n",
              "    .dataframe tbody tr th:only-of-type {\n",
              "        vertical-align: middle;\n",
              "    }\n",
              "\n",
              "    .dataframe tbody tr th {\n",
              "        vertical-align: top;\n",
              "    }\n",
              "\n",
              "    .dataframe thead th {\n",
              "        text-align: right;\n",
              "    }\n",
              "</style>\n",
              "<table border=\"1\" class=\"dataframe\">\n",
              "  <thead>\n",
              "    <tr style=\"text-align: right;\">\n",
              "      <th></th>\n",
              "      <th>video_id</th>\n",
              "      <th>title</th>\n",
              "      <th>publishedAt</th>\n",
              "      <th>channelId</th>\n",
              "      <th>channelTitle</th>\n",
              "      <th>categoryId</th>\n",
              "      <th>trending_date_x</th>\n",
              "      <th>tags</th>\n",
              "      <th>view_count</th>\n",
              "      <th>likes</th>\n",
              "      <th>...</th>\n",
              "      <th>pop_category</th>\n",
              "      <th>trend_in_20</th>\n",
              "      <th>weekday</th>\n",
              "      <th>publish_weekday</th>\n",
              "      <th>channel_avg_views</th>\n",
              "      <th>pop_channel</th>\n",
              "      <th>tag_words</th>\n",
              "      <th>num_tag</th>\n",
              "      <th>if_pop_tags</th>\n",
              "      <th>description_length</th>\n",
              "    </tr>\n",
              "  </thead>\n",
              "  <tbody>\n",
              "    <tr>\n",
              "      <th>0</th>\n",
              "      <td>--14w5SOEUs</td>\n",
              "      <td>Migos - Avalanche (Official Video)</td>\n",
              "      <td>2021-06-10 16:00:00+00:00</td>\n",
              "      <td>UCGIelM2Dj3zza3xyV3pL3WQ</td>\n",
              "      <td>MigosVEVO</td>\n",
              "      <td>10</td>\n",
              "      <td>2021-06-15 00:00:00+00:00</td>\n",
              "      <td>Migos|Avalanche|Quality|Control|Music/Motown|R...</td>\n",
              "      <td>6553613</td>\n",
              "      <td>258885</td>\n",
              "      <td>...</td>\n",
              "      <td>1</td>\n",
              "      <td>0</td>\n",
              "      <td>3</td>\n",
              "      <td>0</td>\n",
              "      <td>7.504470e+06</td>\n",
              "      <td>1</td>\n",
              "      <td>[Migos, Avalanche, Quality, Control, Music/Mot...</td>\n",
              "      <td>8</td>\n",
              "      <td>0</td>\n",
              "      <td>4653</td>\n",
              "    </tr>\n",
              "  </tbody>\n",
              "</table>\n",
              "<p>1 rows × 35 columns</p>\n",
              "</div>\n",
              "      <button class=\"colab-df-convert\" onclick=\"convertToInteractive('df-b4390816-24f7-44df-a986-4865b87cc45a')\"\n",
              "              title=\"Convert this dataframe to an interactive table.\"\n",
              "              style=\"display:none;\">\n",
              "        \n",
              "  <svg xmlns=\"http://www.w3.org/2000/svg\" height=\"24px\"viewBox=\"0 0 24 24\"\n",
              "       width=\"24px\">\n",
              "    <path d=\"M0 0h24v24H0V0z\" fill=\"none\"/>\n",
              "    <path d=\"M18.56 5.44l.94 2.06.94-2.06 2.06-.94-2.06-.94-.94-2.06-.94 2.06-2.06.94zm-11 1L8.5 8.5l.94-2.06 2.06-.94-2.06-.94L8.5 2.5l-.94 2.06-2.06.94zm10 10l.94 2.06.94-2.06 2.06-.94-2.06-.94-.94-2.06-.94 2.06-2.06.94z\"/><path d=\"M17.41 7.96l-1.37-1.37c-.4-.4-.92-.59-1.43-.59-.52 0-1.04.2-1.43.59L10.3 9.45l-7.72 7.72c-.78.78-.78 2.05 0 2.83L4 21.41c.39.39.9.59 1.41.59.51 0 1.02-.2 1.41-.59l7.78-7.78 2.81-2.81c.8-.78.8-2.07 0-2.86zM5.41 20L4 18.59l7.72-7.72 1.47 1.35L5.41 20z\"/>\n",
              "  </svg>\n",
              "      </button>\n",
              "      \n",
              "  <style>\n",
              "    .colab-df-container {\n",
              "      display:flex;\n",
              "      flex-wrap:wrap;\n",
              "      gap: 12px;\n",
              "    }\n",
              "\n",
              "    .colab-df-convert {\n",
              "      background-color: #E8F0FE;\n",
              "      border: none;\n",
              "      border-radius: 50%;\n",
              "      cursor: pointer;\n",
              "      display: none;\n",
              "      fill: #1967D2;\n",
              "      height: 32px;\n",
              "      padding: 0 0 0 0;\n",
              "      width: 32px;\n",
              "    }\n",
              "\n",
              "    .colab-df-convert:hover {\n",
              "      background-color: #E2EBFA;\n",
              "      box-shadow: 0px 1px 2px rgba(60, 64, 67, 0.3), 0px 1px 3px 1px rgba(60, 64, 67, 0.15);\n",
              "      fill: #174EA6;\n",
              "    }\n",
              "\n",
              "    [theme=dark] .colab-df-convert {\n",
              "      background-color: #3B4455;\n",
              "      fill: #D2E3FC;\n",
              "    }\n",
              "\n",
              "    [theme=dark] .colab-df-convert:hover {\n",
              "      background-color: #434B5C;\n",
              "      box-shadow: 0px 1px 3px 1px rgba(0, 0, 0, 0.15);\n",
              "      filter: drop-shadow(0px 1px 2px rgba(0, 0, 0, 0.3));\n",
              "      fill: #FFFFFF;\n",
              "    }\n",
              "  </style>\n",
              "\n",
              "      <script>\n",
              "        const buttonEl =\n",
              "          document.querySelector('#df-b4390816-24f7-44df-a986-4865b87cc45a button.colab-df-convert');\n",
              "        buttonEl.style.display =\n",
              "          google.colab.kernel.accessAllowed ? 'block' : 'none';\n",
              "\n",
              "        async function convertToInteractive(key) {\n",
              "          const element = document.querySelector('#df-b4390816-24f7-44df-a986-4865b87cc45a');\n",
              "          const dataTable =\n",
              "            await google.colab.kernel.invokeFunction('convertToInteractive',\n",
              "                                                     [key], {});\n",
              "          if (!dataTable) return;\n",
              "\n",
              "          const docLinkHtml = 'Like what you see? Visit the ' +\n",
              "            '<a target=\"_blank\" href=https://colab.research.google.com/notebooks/data_table.ipynb>data table notebook</a>'\n",
              "            + ' to learn more about interactive tables.';\n",
              "          element.innerHTML = '';\n",
              "          dataTable['output_type'] = 'display_data';\n",
              "          await google.colab.output.renderOutput(dataTable, element);\n",
              "          const docLink = document.createElement('div');\n",
              "          docLink.innerHTML = docLinkHtml;\n",
              "          element.appendChild(docLink);\n",
              "        }\n",
              "      </script>\n",
              "    </div>\n",
              "  </div>\n",
              "  "
            ],
            "text/plain": [
              "      video_id                               title               publishedAt  \\\n",
              "0  --14w5SOEUs  Migos - Avalanche (Official Video) 2021-06-10 16:00:00+00:00   \n",
              "\n",
              "                  channelId channelTitle  categoryId  \\\n",
              "0  UCGIelM2Dj3zza3xyV3pL3WQ    MigosVEVO          10   \n",
              "\n",
              "            trending_date_x  \\\n",
              "0 2021-06-15 00:00:00+00:00   \n",
              "\n",
              "                                                tags  view_count   likes  ...  \\\n",
              "0  Migos|Avalanche|Quality|Control|Music/Motown|R...     6553613  258885  ...   \n",
              "\n",
              "   pop_category  trend_in_20  weekday publish_weekday  channel_avg_views  \\\n",
              "0             1            0        3               0       7.504470e+06   \n",
              "\n",
              "   pop_channel                                          tag_words num_tag  \\\n",
              "0            1  [Migos, Avalanche, Quality, Control, Music/Mot...       8   \n",
              "\n",
              "  if_pop_tags  description_length  \n",
              "0           0                4653  \n",
              "\n",
              "[1 rows x 35 columns]"
            ]
          },
          "execution_count": 60,
          "metadata": {},
          "output_type": "execute_result"
        }
      ],
      "source": [
        "df_fe_1.head(1)"
      ]
    },
    {
      "cell_type": "code",
      "execution_count": null,
      "metadata": {
        "colab": {
          "base_uri": "https://localhost:8080/",
          "height": 226
        },
        "id": "mq5f8Cgplzy_",
        "outputId": "90e3faeb-9ebe-4af4-ffca-ac58dea31b25"
      },
      "outputs": [
        {
          "data": {
            "image/png": "[encoded data removed]",
            "text/plain": [
              "<Figure size 360x216 with 1 Axes>"
            ]
          },
          "metadata": {
            "needs_background": "light"
          },
          "output_type": "display_data"
        }
      ],
      "source": [
        "# Creating histogram\n",
        "fig, axs = plt.subplots(1,1,figsize =(5, 3))\n",
        "axs.hist(df_fe_1.view_count, bins = 50)\n",
        "plt.xlabel('View_count')\n",
        "plt.ylabel('No. of Videos')\n",
        "# Show plot\n",
        "plt.show()"
      ]
    },
    {
      "cell_type": "code",
      "execution_count": null,
      "metadata": {
        "id": "dI4Liny-ldmf"
      },
      "outputs": [],
      "source": [
        "df_fe_1['view_range'] = pd.cut(df_fe_1['view_count'], bins=[-1, 750000, 1750000, float('Inf')], labels=['0-0.75M', '0.75-1.75M', '>1.75M'])"
      ]
    },
    {
      "cell_type": "code",
      "execution_count": null,
      "metadata": {
        "colab": {
          "base_uri": "https://localhost:8080/"
        },
        "id": "1TkTjxHrkGx0",
        "outputId": "fa68e098-5a35-4c16-cd02-86be6df6ede7"
      },
      "outputs": [
        {
          "name": "stdout",
          "output_type": "stream",
          "text": [
            "(22611, 36) (3192, 36)\n"
          ]
        }
      ],
      "source": [
        "train = df_fe_1[(df_fe_1['year']==2020)|(df_fe_1['year']==2021)| ((df_fe_1['year']==2022) & (df_fe_1['month'].isin([1,2,3,4])))].sort_values('publishedAt')\n",
        "test = df_fe_1[(df_fe_1['year']==2022) & (df_fe_1['month'].isin([5,6,7]))].sort_values('publishedAt')\n",
        "print(train.shape, test.shape)"
      ]
    },
    {
      "cell_type": "code",
      "execution_count": null,
      "metadata": {
        "id": "XsxDOjhOyzeM"
      },
      "outputs": [],
      "source": [
        "train_index = list(train.index)\n",
        "test_index = list(test.index)"
      ]
    },
    {
      "cell_type": "markdown",
      "metadata": {
        "id": "ULMARuuDnTgX"
      },
      "source": [
        "## KNN "
      ]
    },
    {
      "cell_type": "code",
      "execution_count": null,
      "metadata": {
        "id": "l5tBZ7pU4Qg4"
      },
      "outputs": [],
      "source": [
        "X = train[['channel_avg_views','title_length','num_tag']]\n",
        "y = train['view_range']\n",
        "test_X = test[['channel_avg_views','title_length','num_tag']]\n",
        "test_y = test['view_range']"
      ]
    },
    {
      "cell_type": "code",
      "execution_count": null,
      "metadata": {
        "colab": {
          "base_uri": "https://localhost:8080/"
        },
        "id": "Un3-S_gK1vXI",
        "outputId": "82befb6e-062c-4bd4-951c-d414fb3802a3"
      },
      "outputs": [
        {
          "name": "stdout",
          "output_type": "stream",
          "text": [
            "Cross Validation score: [0.6585, 0.6645, 0.659, 0.67] \n",
            " Average Score: 0.663\n"
          ]
        }
      ],
      "source": [
        "## Time-based Cross Validation\n",
        "tscv = TimeSeriesSplit(n_splits=4, test_size=2000)\n",
        "scores = []\n",
        "for t_index, val_index in tscv.split(train_index):\n",
        "  data_train = X.iloc[t_index]\n",
        "  target_train = y.iloc[t_index]\n",
        "  data_val = X.iloc[val_index]\n",
        "  target_val = y.iloc[val_index]\n",
        "  \n",
        "  knn = KNeighborsClassifier(n_neighbors=3)\n",
        "  knn.fit(data_train, target_train)\n",
        "  preds = knn.predict(data_val)\n",
        "\n",
        "  # accuracy for the current fold only    \n",
        "  knnscore = accuracy_score(target_val,preds)\n",
        "  scores.append(knnscore)\n",
        "\n",
        "print('Cross Validation score:', scores, '\\n', 'Average Score:', np.mean(scores))"
      ]
    },
    {
      "cell_type": "code",
      "execution_count": null,
      "metadata": {
        "colab": {
          "base_uri": "https://localhost:8080/"
        },
        "id": "umZTGBAh7WJG",
        "outputId": "9def9cf4-02ce-44c1-c730-15cb9011e784"
      },
      "outputs": [
        {
          "name": "stdout",
          "output_type": "stream",
          "text": [
            "              precision    recall  f1-score   support\n",
            "\n",
            "     0-0.75M       0.76      0.77      0.76      1317\n",
            "  0.75-1.75M       0.52      0.49      0.50       886\n",
            "      >1.75M       0.73      0.75      0.74       989\n",
            "\n",
            "    accuracy                           0.69      3192\n",
            "   macro avg       0.67      0.67      0.67      3192\n",
            "weighted avg       0.68      0.69      0.68      3192\n",
            " [[1013  237   67]\n",
            " [ 247  435  204]\n",
            " [  77  171  741]]\n"
          ]
        }
      ],
      "source": [
        "# Model and test on test data\n",
        "knn = KNeighborsClassifier(n_neighbors=3)\n",
        "knn.fit(X, y)\n",
        "y_pred = knn.predict(test_X)\n",
        "cm = confusion_matrix(test_y,y_pred)\n",
        "report = classification_report(test_y,y_pred)\n",
        "print(report,cm)"
      ]
    },
    {
      "cell_type": "code",
      "execution_count": null,
      "metadata": {
        "colab": {
          "base_uri": "https://localhost:8080/",
          "height": 312
        },
        "id": "SWbF0IQz9qME",
        "outputId": "57ff848b-63d4-44cc-c437-fac0855946ad"
      },
      "outputs": [
        {
          "data": {
            "text/plain": [
              "Text(33.0, 0.5, 'True Labels')"
            ]
          },
          "execution_count": 91,
          "metadata": {},
          "output_type": "execute_result"
        },
        {
          "data": {
            "image/png": "[encoded data removed]",
            "text/plain": [
              "<Figure size 432x288 with 2 Axes>"
            ]
          },
          "metadata": {
            "needs_background": "light"
          },
          "output_type": "display_data"
        }
      ],
      "source": [
        "# Normalize confusion matrix\n",
        "sums = np.sum(cm, axis=1)\n",
        "normalized_cm = cm / sums\n",
        "\n",
        "plt.clf()\n",
        "labels = ['0-0.75M', '0.75-1.75M', '>1.75M']\n",
        "sns.heatmap(normalized_cm, annot=True, cmap='Blues', xticklabels=labels, yticklabels=labels)\n",
        "plt.title('Normalized Confusion matrix')\n",
        "plt.xlabel(\"Predicted Labels\")\n",
        "plt.ylabel(\"True Labels\")"
      ]
    },
    {
      "cell_type": "markdown",
      "metadata": {
        "id": "jLWBYXduf32i"
      },
      "source": [
        "## RF"
      ]
    },
    {
      "cell_type": "code",
      "execution_count": null,
      "metadata": {
        "id": "J0Y__Yaj--Yg"
      },
      "outputs": [],
      "source": [
        "X = train[['pop_category','pop_daytime','trend_in_20','channel_avg_views','publish_weekday','title_length','comments_disabled','num_tag','if_pop_tags','description_length']]\n",
        "test_X = test[['pop_category','pop_daytime','trend_in_20','channel_avg_views','publish_weekday','title_length','comments_disabled','num_tag','if_pop_tags','description_length']]"
      ]
    },
    {
      "cell_type": "code",
      "execution_count": null,
      "metadata": {
        "colab": {
          "base_uri": "https://localhost:8080/"
        },
        "id": "tc2ydfiv_P-n",
        "outputId": "50d67e5a-28b4-49cb-c00f-9681e68a585c"
      },
      "outputs": [
        {
          "name": "stdout",
          "output_type": "stream",
          "text": [
            "Cross Validation score: [0.6825, 0.693, 0.714, 0.707] \n",
            " Average Score: 0.699125\n"
          ]
        }
      ],
      "source": [
        "## Time-based Cross Validation\n",
        "tscv = TimeSeriesSplit(n_splits=4, test_size=2000)\n",
        "scores = []\n",
        "for t_index, val_index in tscv.split(train_index):\n",
        "  data_train = X.iloc[t_index]\n",
        "  target_train = y.iloc[t_index]\n",
        "  data_val = X.iloc[val_index]\n",
        "  target_val = y.iloc[val_index]\n",
        "  \n",
        "  rf = RandomForestClassifier(n_estimators=75,max_features=3,oob_score=True)\n",
        "  rf.fit(data_train, target_train)\n",
        "  preds = rf.predict(data_val)\n",
        "\n",
        "  # accuracy for the current fold only    \n",
        "  rfscore = accuracy_score(target_val,preds)\n",
        "  scores.append(rfscore)\n",
        "\n",
        "print('Cross Validation score:', scores, '\\n', 'Average Score:', np.mean(scores))"
      ]
    },
    {
      "cell_type": "code",
      "execution_count": null,
      "metadata": {
        "colab": {
          "base_uri": "https://localhost:8080/"
        },
        "id": "XGVSQJ5zwgP6",
        "outputId": "95c07ee7-276b-4b11-cd8d-64721f6e2ad9"
      },
      "outputs": [
        {
          "name": "stdout",
          "output_type": "stream",
          "text": [
            "              precision    recall  f1-score   support\n",
            "\n",
            "     0-0.75M       0.84      0.75      0.79      1317\n",
            "  0.75-1.75M       0.56      0.57      0.56       886\n",
            "      >1.75M       0.74      0.84      0.79       989\n",
            "\n",
            "    accuracy                           0.73      3192\n",
            "   macro avg       0.71      0.72      0.71      3192\n",
            "weighted avg       0.73      0.73      0.73      3192\n",
            "\n"
          ]
        }
      ],
      "source": [
        "rf = RandomForestClassifier(n_estimators=75,max_features=3,oob_score=True)\n",
        "rf.fit(X, y)\n",
        "y_pred = rf.predict(test_X)\n",
        "cm = confusion_matrix(test_y,y_pred)\n",
        "report = classification_report(test_y,y_pred)\n",
        "print(report)"
      ]
    },
    {
      "cell_type": "code",
      "execution_count": null,
      "metadata": {
        "colab": {
          "base_uri": "https://localhost:8080/",
          "height": 312
        },
        "id": "sEDNC3oTAAJT",
        "outputId": "19573a0f-9fdf-413c-a760-0bcccc4361a3"
      },
      "outputs": [
        {
          "data": {
            "text/plain": [
              "Text(33.0, 0.5, 'True Labels')"
            ]
          },
          "execution_count": 96,
          "metadata": {},
          "output_type": "execute_result"
        },
        {
          "data": {
            "image/png": "[encoded data removed]",
            "text/plain": [
              "<Figure size 432x288 with 2 Axes>"
            ]
          },
          "metadata": {
            "needs_background": "light"
          },
          "output_type": "display_data"
        }
      ],
      "source": [
        "# Normalize confusion matrix\n",
        "sums = np.sum(cm, axis=1)\n",
        "normalized_cm = cm / sums\n",
        "\n",
        "plt.clf()\n",
        "labels = ['0-0.75M', '0.75-1.75M', '>1.75M']\n",
        "sns.heatmap(normalized_cm, annot=True, cmap='Blues', xticklabels=labels, yticklabels=labels)\n",
        "plt.title('Normalized Confusion matrix')\n",
        "plt.xlabel(\"Predicted Labels\")\n",
        "plt.ylabel(\"True Labels\")"
      ]
    },
    {
      "cell_type": "code",
      "execution_count": null,
      "metadata": {
        "colab": {
          "base_uri": "https://localhost:8080/",
          "height": 297
        },
        "id": "Gw97WhLO0cBY",
        "outputId": "839a96fc-7e99-4961-9c36-64d0dafaa056"
      },
      "outputs": [
        {
          "data": {
            "image/png": "[encoded data removed]",
            "text/plain": [
              "<Figure size 432x288 with 1 Axes>"
            ]
          },
          "metadata": {
            "needs_background": "light"
          },
          "output_type": "display_data"
        }
      ],
      "source": [
        "# Plot Feature Importance\n",
        "importances = rf.feature_importances_\n",
        "forest_importances = pd.Series(importances, index=['pop_category','pop_daytime','trend_in_20','channel_avg_views','publish_weekday','title_length','comments_disabled','num_tag','if_pop_tags','description_length'])\n",
        "std = np.std([tree.feature_importances_ for tree in rf.estimators_], axis=0)\n",
        "\n",
        "fig, ax = plt.subplots()\n",
        "forest_importances.plot.bar(yerr=std, ax=ax)\n",
        "ax.set_title(\"Feature importances using MDI\")\n",
        "ax.set_ylabel(\"Mean decrease in impurity\")\n",
        "fig.tight_layout()"
      ]
    },
    {
      "cell_type": "markdown",
      "metadata": {
        "id": "6p27adg9fybz"
      },
      "source": [
        "## XGBoost"
      ]
    },
    {
      "cell_type": "code",
      "execution_count": null,
      "metadata": {
        "colab": {
          "base_uri": "https://localhost:8080/"
        },
        "id": "AHFQr7R7AL2Z",
        "outputId": "316faae9-bda3-49cc-e391-1590b5071a85"
      },
      "outputs": [
        {
          "name": "stdout",
          "output_type": "stream",
          "text": [
            "Cross Validation score: [0.715, 0.7195, 0.7205, 0.726] \n",
            " Average Score: 0.72025\n"
          ]
        }
      ],
      "source": [
        "## Time-based Cross Validation\n",
        "tscv = TimeSeriesSplit(n_splits=4, test_size=2000)\n",
        "scores = []\n",
        "for t_index, val_index in tscv.split(train_index):\n",
        "  data_train = X.iloc[t_index]\n",
        "  target_train = y.iloc[t_index]\n",
        "  data_val = X.iloc[val_index]\n",
        "  target_val = y.iloc[val_index]\n",
        "  \n",
        "  xgb_mdl = xgb.XGBClassifier()\n",
        "  xgb_mdl.fit(data_train, target_train)\n",
        "  preds = xgb_mdl.predict(data_val)\n",
        "\n",
        "  # accuracy for the current fold only    \n",
        "  xgbscore = accuracy_score(target_val,preds)\n",
        "  scores.append(xgbscore)\n",
        "\n",
        "print('Cross Validation score:', scores, '\\n', 'Average Score:', np.mean(scores))"
      ]
    },
    {
      "cell_type": "code",
      "execution_count": null,
      "metadata": {
        "colab": {
          "base_uri": "https://localhost:8080/"
        },
        "id": "xX1q4Ql8gQcE",
        "outputId": "1d8359c2-c05e-4af3-aecf-d0d906321901"
      },
      "outputs": [
        {
          "name": "stdout",
          "output_type": "stream",
          "text": [
            "              precision    recall  f1-score   support\n",
            "\n",
            "     0-0.75M       0.91      0.68      0.78      1317\n",
            "  0.75-1.75M       0.56      0.66      0.60       886\n",
            "      >1.75M       0.75      0.87      0.80       989\n",
            "\n",
            "    accuracy                           0.73      3192\n",
            "   macro avg       0.74      0.74      0.73      3192\n",
            "weighted avg       0.76      0.73      0.74      3192\n",
            "\n"
          ]
        }
      ],
      "source": [
        "xgb_mdl = xgb.XGBClassifier()\n",
        "xgb_mdl.fit(X,y)\n",
        "y_pred = xgb_mdl.predict(test_X)\n",
        "cm = confusion_matrix(test_y,y_pred)\n",
        "report = classification_report(test_y,y_pred)\n",
        "print(report)\n"
      ]
    },
    {
      "cell_type": "code",
      "execution_count": null,
      "metadata": {
        "colab": {
          "base_uri": "https://localhost:8080/",
          "height": 312
        },
        "id": "B2uyMdUEgrer",
        "outputId": "168191be-3380-40c5-f27d-141dd26b54d0"
      },
      "outputs": [
        {
          "data": {
            "text/plain": [
              "Text(33.0, 0.5, 'True Labels')"
            ]
          },
          "execution_count": 100,
          "metadata": {},
          "output_type": "execute_result"
        },
        {
          "data": {
            "image/png": "[encoded data removed]",
            "text/plain": [
              "<Figure size 432x288 with 2 Axes>"
            ]
          },
          "metadata": {
            "needs_background": "light"
          },
          "output_type": "display_data"
        }
      ],
      "source": [
        "# Normalize confusion matrix\n",
        "sums = np.sum(cm, axis=1)\n",
        "normalized_cm = cm / sums\n",
        "\n",
        "plt.clf()\n",
        "labels = ['0-0.75M', '0.75-1.75M', '>1.75M']\n",
        "sns.heatmap(normalized_cm, annot=True, cmap='Blues', xticklabels=labels, yticklabels=labels)\n",
        "plt.title('Normalized Confusion matrix')\n",
        "plt.xlabel(\"Predicted Labels\")\n",
        "plt.ylabel(\"True Labels\")"
      ]
    },
    {
      "cell_type": "code",
      "execution_count": null,
      "metadata": {
        "colab": {
          "base_uri": "https://localhost:8080/",
          "height": 295
        },
        "id": "jhP8v451B-XX",
        "outputId": "367cc0ea-5d3a-4c05-c49f-8177a50c1aea"
      },
      "outputs": [
        {
          "data": {
            "image/png": "[encoded data removed]",
            "text/plain": [
              "<Figure size 432x288 with 1 Axes>"
            ]
          },
          "metadata": {
            "needs_background": "light"
          },
          "output_type": "display_data"
        }
      ],
      "source": [
        "from xgboost import plot_importance\n",
        "\n",
        "plot_importance(xgb_mdl)\n",
        "plt.show()"
      ]
    }
  ],
  "metadata": {
    "accelerator": "GPU",
    "colab": {
      "collapsed_sections": [
        "ALua7KIOnfU1"
      ],
      "name": "EDA_2022.ipynb",
      "provenance": []
    },
    "gpuClass": "standard",
    "kernelspec": {
      "display_name": "Python 3",
      "name": "python3"
    },
    "language_info": {
      "name": "python"
    }
  },
  "nbformat": 4,
  "nbformat_minor": 0
}
